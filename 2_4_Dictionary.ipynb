{
  "nbformat": 4,
  "nbformat_minor": 0,
  "metadata": {
    "colab": {
      "name": "Unit2.4_Dictionary.ipynb",
      "provenance": [],
      "authorship_tag": "ABX9TyPVtgwLBK55o1ZeXlP2YxqF",
      "include_colab_link": true
    },
    "kernelspec": {
      "name": "python3",
      "display_name": "Python 3"
    },
    "language_info": {
      "name": "python"
    }
  },
  "cells": [
    {
      "cell_type": "markdown",
      "metadata": {
        "id": "view-in-github",
        "colab_type": "text"
      },
      "source": [
        "<a href=\"https://colab.research.google.com/github/AmiMunshi/Introduction_to_Python_Programming/blob/main/Unit2_4_Dictionary.ipynb\" target=\"_parent\"><img src=\"https://colab.research.google.com/assets/colab-badge.svg\" alt=\"Open In Colab\"/></a>"
      ]
    },
    {
      "cell_type": "markdown",
      "metadata": {
        "id": "Ku1Fte3HA4SW"
      },
      "source": [
        "\n",
        "#Dictionary\n",
        "It is mutable. We can change, add and delete the  key-value pair.Order does not matter. However their is a unique key associated with each value. Key can be any of Python's immutable data types (Boolean, String, Integer, Float and others)\n",
        "\n",
        "\n",
        "    "
      ]
    },
    {
      "cell_type": "code",
      "metadata": {
        "id": "k_RVEZ1n-Yau"
      },
      "source": [
        "# Create dictionary Method 1\n",
        "dict_1= {\"Rohan\": 5, \"Mahesh\":7} #creating dictionary\n",
        "dict_2= {\"Mahesh\":7,\"Rohan\": 5}\n",
        "dict_1==dict_2"
      ],
      "execution_count": null,
      "outputs": []
    },
    {
      "cell_type": "code",
      "metadata": {
        "id": "UMIVHECGBPHO"
      },
      "source": [
        "!python --version"
      ],
      "execution_count": null,
      "outputs": []
    },
    {
      "cell_type": "code",
      "metadata": {
        "id": "Gy-57c76BeO9"
      },
      "source": [
        "dict_1[\"Mahesh\"] # access value of dict_1 at key \"Mahesh\""
      ],
      "execution_count": null,
      "outputs": []
    },
    {
      "cell_type": "code",
      "metadata": {
        "id": "SdhctL3QCI93"
      },
      "source": [
        "# Create dictionary Method 2 using dict()\n",
        "\n",
        "my_class= dict({\"Geeta\": 29, \"Reena\": 30, \"Priya\":14})\n",
        "print(my_class)"
      ],
      "execution_count": null,
      "outputs": []
    },
    {
      "cell_type": "code",
      "metadata": {
        "id": "43QWY7ePoD-k"
      },
      "source": [
        "my_fruit = dict([(1,'apple'), (2,'mango')])\n",
        "print(my_fruit)"
      ],
      "execution_count": null,
      "outputs": []
    },
    {
      "cell_type": "code",
      "metadata": {
        "id": "2p6GD_VasvH6",
        "colab": {
          "base_uri": "https://localhost:8080/"
        },
        "outputId": "be51474f-e519-41c6-d385-8bcfa0d0aeed"
      },
      "source": [
        "#One more example of dictionary\n",
        "\n",
        "dict_new= {1: (\"Red\", \"Blue\"), (2,3): \"Green\", \"My_list\":[1,2,3,4]} #Keys and values can be of any data type\n",
        "print(dict_new)"
      ],
      "execution_count": null,
      "outputs": [
        {
          "output_type": "stream",
          "text": [
            "{1: ('Red', 'Blue'), (2, 3): 'Green', 'My_list': [1, 2, 3, 4]}\n"
          ],
          "name": "stdout"
        }
      ]
    },
    {
      "cell_type": "markdown",
      "metadata": {
        "id": "g79zsS68qj6U"
      },
      "source": [
        "####Accessing Dictionary"
      ]
    },
    {
      "cell_type": "code",
      "metadata": {
        "id": "9mBDmNTUp-7W"
      },
      "source": [
        "dict1= {\"India\": 30, \"Russia\":35, \"Britain\": 25} #create a dictionary\n",
        "print(dict1)"
      ],
      "execution_count": null,
      "outputs": []
    },
    {
      "cell_type": "code",
      "metadata": {
        "colab": {
          "base_uri": "https://localhost:8080/"
        },
        "id": "z_ux3uL4qtHT",
        "outputId": "08aa2c11-7372-465f-87d0-f3b79cc30bae"
      },
      "source": [
        "print(dict1.keys()) #Print keys of dictionary"
      ],
      "execution_count": null,
      "outputs": [
        {
          "output_type": "stream",
          "text": [
            "dict_keys(['India', 'Russia', 'Britain'])\n"
          ],
          "name": "stdout"
        }
      ]
    },
    {
      "cell_type": "code",
      "metadata": {
        "id": "HVH3axdIq2FW"
      },
      "source": [
        "for key in dict1.keys():\n",
        "  print(key) #Print individual keys"
      ],
      "execution_count": null,
      "outputs": []
    },
    {
      "cell_type": "code",
      "metadata": {
        "colab": {
          "base_uri": "https://localhost:8080/"
        },
        "id": "boayp_QlrEj-",
        "outputId": "9f6ffaa6-caa4-4dc8-828a-6953a2d6e55b"
      },
      "source": [
        "print(dict1.items()) #print key-value pair"
      ],
      "execution_count": null,
      "outputs": [
        {
          "output_type": "stream",
          "text": [
            "dict_items([('India', 30), ('Russia', 35), ('Britain', 25)])\n"
          ],
          "name": "stdout"
        }
      ]
    },
    {
      "cell_type": "code",
      "metadata": {
        "id": "ryqtJbL0rKem"
      },
      "source": [
        "for item in dict1.items():\n",
        "  print(item) #print individual key-value pair"
      ],
      "execution_count": null,
      "outputs": []
    },
    {
      "cell_type": "code",
      "metadata": {
        "id": "oDljP2v7rQO9"
      },
      "source": [
        "for item in dict1.items():\n",
        "  print(item[1]) #Print only values"
      ],
      "execution_count": null,
      "outputs": []
    },
    {
      "cell_type": "code",
      "metadata": {
        "id": "ITrf_9Lssepn"
      },
      "source": [
        "#Access vlaue for a particular key\n",
        "dict1[\"Russia\"]"
      ],
      "execution_count": null,
      "outputs": []
    },
    {
      "cell_type": "code",
      "metadata": {
        "id": "sLxVlzYwsnSx"
      },
      "source": [
        "print(dict_new)"
      ],
      "execution_count": null,
      "outputs": []
    },
    {
      "cell_type": "code",
      "metadata": {
        "id": "gSPxO5Xsto_o"
      },
      "source": [
        "#Accessing Tuple value in a dictionary\n",
        "\n",
        "dict_new[1][1]"
      ],
      "execution_count": null,
      "outputs": []
    },
    {
      "cell_type": "code",
      "metadata": {
        "id": "aAg-zcqStzjH"
      },
      "source": [
        "dict_new[(2,3)]"
      ],
      "execution_count": null,
      "outputs": []
    },
    {
      "cell_type": "code",
      "metadata": {
        "id": "qrRnQz7ut4vQ"
      },
      "source": [
        "dict_new[\"My_list\"][1:] #Accessing list values in dcitionary using slicing"
      ],
      "execution_count": null,
      "outputs": []
    },
    {
      "cell_type": "markdown",
      "metadata": {
        "id": "IHdZSpBWuNT-"
      },
      "source": [
        "####Change, Delete, Add Dictionary values"
      ]
    },
    {
      "cell_type": "code",
      "metadata": {
        "id": "vm2t8ibTt_l4"
      },
      "source": [
        "my_veg= {1: \"Onions\", 2: \"Peas\", 3: \"carrots\"} #Create a dictionary\n",
        "print(my_veg)"
      ],
      "execution_count": null,
      "outputs": []
    },
    {
      "cell_type": "code",
      "metadata": {
        "id": "e9PEe291uzTu"
      },
      "source": [
        "#change value \n",
        "\n",
        "my_veg[2]= \"Cabbage\"\n",
        "print(my_veg)"
      ],
      "execution_count": null,
      "outputs": []
    },
    {
      "cell_type": "code",
      "metadata": {
        "id": "gOAzZN92u_sw"
      },
      "source": [
        "#Use update() function to change the value at a particular key\n",
        "\n",
        "my_veg.update({3: \"Pepper\"})\n",
        "print(my_veg)"
      ],
      "execution_count": null,
      "outputs": []
    },
    {
      "cell_type": "code",
      "metadata": {
        "id": "RoHKl6dzvNPy"
      },
      "source": [
        "#add a new key-value pair\n",
        "my_veg.update({4: \"Cauliflower\"})\n",
        "print(my_veg)"
      ],
      "execution_count": null,
      "outputs": []
    },
    {
      "cell_type": "code",
      "metadata": {
        "id": "VbvysIkLz6X4"
      },
      "source": [
        "#Alternative way to add key-value to the dictionary\n",
        "my_veg[5]= \"Beans\"\n",
        "print(my_veg)"
      ],
      "execution_count": null,
      "outputs": []
    },
    {
      "cell_type": "code",
      "metadata": {
        "id": "L3g728GYzvlg"
      },
      "source": [
        "#Removing/Deleting items using pop\n",
        "\n",
        "my_veg.pop(2)\n",
        "print(my_veg)"
      ],
      "execution_count": null,
      "outputs": []
    },
    {
      "cell_type": "code",
      "metadata": {
        "id": "AJBm1eIB1TlC"
      },
      "source": [
        "#Removing some key-value pair in LIFO order\n",
        "\n",
        "my_veg.popitem()"
      ],
      "execution_count": null,
      "outputs": []
    },
    {
      "cell_type": "code",
      "metadata": {
        "id": "mmAwREBn1PCa"
      },
      "source": [
        "print(my_veg)"
      ],
      "execution_count": null,
      "outputs": []
    },
    {
      "cell_type": "code",
      "metadata": {
        "id": "S71w1NUT1lua"
      },
      "source": [
        "#clear all items\n",
        "my_veg.clear() #sll items are cleared. But empty dictionary still there\n",
        "print(my_veg)"
      ],
      "execution_count": null,
      "outputs": []
    },
    {
      "cell_type": "code",
      "metadata": {
        "id": "c3UVHold2EcD"
      },
      "source": [
        "#delete all items\n",
        "print(dict1)"
      ],
      "execution_count": null,
      "outputs": []
    },
    {
      "cell_type": "code",
      "metadata": {
        "id": "7sAyQdRU2YJk"
      },
      "source": [
        "del dict1 #Dictionary does not exist after deleting\n",
        "print(dict1)"
      ],
      "execution_count": null,
      "outputs": []
    },
    {
      "cell_type": "markdown",
      "metadata": {
        "id": "OOV_pAzd9eRO"
      },
      "source": [
        "####Dictionary methods -**EXPLORE**\n",
        "\n",
        "\n",
        "dict.clear()\tRemoves all the key-value pairs from the dictionary.<br>\n",
        "dict.copy()\tReturns a shallow copy of the dictionary.<br>\n",
        "dict.fromkeys()\tCreates a new dictionary from the given iterable (string, list, set, tuple) as keys and with the specified value.<br>\n",
        "dict.get()\tReturns the value of the specified key.<br>\n",
        "dict.items()\tReturns a dictionary view object that provides a dynamic view of dictionary elements as a list of key-value pairs. This view object changes when the dictionary changes.<br>\n",
        "dict.keys()\tReturns a dictionary view object that contains the list of keys of the dictionary.<br>\n",
        "dict.pop()\tRemoves the key and return its value. If a key does not exist in the dictionary, then returns the default value if specified, else throws a KeyError.<br>\n",
        "dict.popitem()\tRemoves and return a tuple of (key, value) pair from the dictionary. Pairs are returned in Last In First Out (LIFO) order.<br>\n",
        "dict.setdefault()\tReturns the value of the specified key in the dictionary. If the key not found, then it adds the key with the specified defaultvalue. If the defaultvalue is not specified then it set None value.<br>\n",
        "dict.update()\tUpdates the dictionary with the key-value pairs from another dictionary or another iterable such as tuple having key-value pairs.<br>\n",
        "dict.values()\tReturns the dictionary view object that provides a dynamic view of all the values in the dictionary. This view object changes when the dictionary changes.<br>"
      ]
    },
    {
      "cell_type": "markdown",
      "metadata": {
        "id": "ELfSDxx4Pd0-"
      },
      "source": [
        "####Nested Dictionary"
      ]
    },
    {
      "cell_type": "code",
      "metadata": {
        "id": "-Neg1e0x2pll"
      },
      "source": [
        "student = {1: {'name': 'Jay', 'subject': 'Math', 'marks': 77},\n",
        "          2: {'name': 'Jash', 'subject': 'Math', 'marks': 87}}"
      ],
      "execution_count": null,
      "outputs": []
    },
    {
      "cell_type": "code",
      "metadata": {
        "colab": {
          "base_uri": "https://localhost:8080/"
        },
        "id": "d6QPBAlFQAyg",
        "outputId": "6c2d0607-b477-4420-d54e-7648463e2954"
      },
      "source": [
        "print(student)"
      ],
      "execution_count": null,
      "outputs": [
        {
          "output_type": "stream",
          "text": [
            "{1: {'name': 'Jay', 'subject': 'Math', 'marks': 77}, 2: {'name': 'Jash', 'subject': 'Math', 'marks': 87}}\n"
          ],
          "name": "stdout"
        }
      ]
    },
    {
      "cell_type": "code",
      "metadata": {
        "colab": {
          "base_uri": "https://localhost:8080/"
        },
        "id": "YNd2aj-cP6PR",
        "outputId": "aef0f9ef-317c-47e5-a694-3afebe09d4a5"
      },
      "source": [
        "student[1][\"marks\"]"
      ],
      "execution_count": null,
      "outputs": [
        {
          "output_type": "execute_result",
          "data": {
            "text/plain": [
              "77"
            ]
          },
          "metadata": {
            "tags": []
          },
          "execution_count": 6
        }
      ]
    },
    {
      "cell_type": "markdown",
      "metadata": {
        "id": "VaxkWXZgQfXq"
      },
      "source": [
        "####DIY: Add a dictionary in the nested dictionary, Delete Dictionary from Nested Dictionary, change contents of the nested dictionary"
      ]
    },
    {
      "cell_type": "markdown",
      "metadata": {
        "id": "MHxgwlHCYyBa"
      },
      "source": [
        "Concatenate dictionaries"
      ]
    },
    {
      "cell_type": "code",
      "metadata": {
        "id": "G_ptinH5ZE7b"
      },
      "source": [
        "dict1= {1:10, 2:20}\n",
        "dict2= {3:30,4:40}\n",
        "dict3={}\n",
        "for d in (dict1,dict2):dict3.update(d)"
      ],
      "execution_count": null,
      "outputs": []
    },
    {
      "cell_type": "code",
      "metadata": {
        "colab": {
          "base_uri": "https://localhost:8080/"
        },
        "id": "imY2kH4HZLXp",
        "outputId": "961a4fac-f781-4129-b1c8-75c40f147e5c"
      },
      "source": [
        "print(dict3)"
      ],
      "execution_count": null,
      "outputs": [
        {
          "output_type": "stream",
          "text": [
            "{1: 10, 2: 20, 3: 30, 4: 40}\n"
          ],
          "name": "stdout"
        }
      ]
    },
    {
      "cell_type": "code",
      "metadata": {
        "id": "GfeakeIPZfGI"
      },
      "source": [
        ""
      ],
      "execution_count": null,
      "outputs": []
    }
  ]
}
