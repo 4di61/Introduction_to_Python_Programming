{
  "nbformat": 4,
  "nbformat_minor": 0,
  "metadata": {
    "colab": {
      "name": "Unit3.2_RecursiveFunctions.ipynb",
      "provenance": [],
      "authorship_tag": "ABX9TyO+zBda5FhV24WNoMo7PF4q",
      "include_colab_link": true
    },
    "kernelspec": {
      "name": "python3",
      "display_name": "Python 3"
    },
    "language_info": {
      "name": "python"
    }
  },
  "cells": [
    {
      "cell_type": "markdown",
      "metadata": {
        "id": "view-in-github",
        "colab_type": "text"
      },
      "source": [
        "<a href=\"https://colab.research.google.com/github/AmiMunshi/Introduction_to_Python_Programming/blob/main/Unit3_2_RecursiveFunctions.ipynb\" target=\"_parent\"><img src=\"https://colab.research.google.com/assets/colab-badge.svg\" alt=\"Open In Colab\"/></a>"
      ]
    },
    {
      "cell_type": "markdown",
      "metadata": {
        "id": "4Yw31G3RzS2S"
      },
      "source": [
        "Recursive function<br>\n",
        "\n",
        "A function that calls itself is called as recursive function\n"
      ]
    },
    {
      "cell_type": "code",
      "metadata": {
        "id": "dMGtJgMF0YUa"
      },
      "source": [
        "#Write a program to calculate factorial of a number using recursive function\n",
        "\n",
        "def fact(n):\n",
        "  if n==0:\n",
        "    result=1\n",
        "  else:\n",
        "    result= n*fact(n-1)\n",
        "  return result\n"
      ],
      "execution_count": null,
      "outputs": []
    },
    {
      "cell_type": "code",
      "metadata": {
        "colab": {
          "base_uri": "https://localhost:8080/"
        },
        "id": "e81MljWO09-d",
        "outputId": "2d7d7423-29e3-4a67-b43b-8b12ecf9e2c0"
      },
      "source": [
        "print(fact(6))"
      ],
      "execution_count": null,
      "outputs": [
        {
          "output_type": "stream",
          "text": [
            "720\n"
          ],
          "name": "stdout"
        }
      ]
    },
    {
      "cell_type": "code",
      "metadata": {
        "colab": {
          "base_uri": "https://localhost:8080/"
        },
        "id": "QnRZciNu1HNs",
        "outputId": "8e655950-752e-4111-bbc2-a07bc0ab08c9"
      },
      "source": [
        "#Print factorial of first 1 to 5 numbers\n",
        "\n",
        "for i in range(1,6):\n",
        "  print(\"Factorial of {} is {}\".format(i,fact(i)))"
      ],
      "execution_count": null,
      "outputs": [
        {
          "output_type": "stream",
          "text": [
            "Factorial of 1 is 0\n",
            "Factorial of 2 is 2\n",
            "Factorial of 3 is 6\n",
            "Factorial of 4 is 12\n",
            "Factorial of 5 is 20\n"
          ],
          "name": "stdout"
        }
      ]
    },
    {
      "cell_type": "code",
      "metadata": {
        "id": "J07qUc1A3lqW"
      },
      "source": [
        "#Obtain sum of range of numbers using recursion\n",
        "\n",
        "def cumm(n):\n",
        "  \n",
        "  if n==1:\n",
        "    result=1\n",
        "  else:\n",
        "    result=n+cumm(n-1)\n",
        "  return result\n",
        "\n"
      ],
      "execution_count": null,
      "outputs": []
    },
    {
      "cell_type": "code",
      "metadata": {
        "colab": {
          "base_uri": "https://localhost:8080/"
        },
        "id": "ad6aeAzxAHAJ",
        "outputId": "5aa08f8b-8efc-4dd1-a356-4146ecabd7df"
      },
      "source": [
        "print(cumm(4))"
      ],
      "execution_count": null,
      "outputs": [
        {
          "output_type": "stream",
          "text": [
            "10\n"
          ],
          "name": "stdout"
        }
      ]
    },
    {
      "cell_type": "code",
      "metadata": {
        "id": "JKMu_UVwA7pR"
      },
      "source": [
        "#compute fibonnaci series using recursion"
      ],
      "execution_count": null,
      "outputs": []
    },
    {
      "cell_type": "code",
      "metadata": {
        "id": "dLfq0a8o5jZA"
      },
      "source": [
        ""
      ],
      "execution_count": null,
      "outputs": []
    }
  ]
}