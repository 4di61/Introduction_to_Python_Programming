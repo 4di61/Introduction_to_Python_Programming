{
  "nbformat": 4,
  "nbformat_minor": 0,
  "metadata": {
    "colab": {
      "name": "Unit4.3_OSModule.ipynb",
      "provenance": [],
      "authorship_tag": "ABX9TyMqaBmUb+WP5xZl5BuMWu3d",
      "include_colab_link": true
    },
    "kernelspec": {
      "name": "python3",
      "display_name": "Python 3"
    },
    "language_info": {
      "name": "python"
    }
  },
  "cells": [
    {
      "cell_type": "markdown",
      "metadata": {
        "id": "view-in-github",
        "colab_type": "text"
      },
      "source": [
        "<a href=\"https://colab.research.google.com/github/AmiMunshi/Introduction_to_Python_Programming/blob/main/Unit4_3_OSModule.ipynb\" target=\"_parent\"><img src=\"https://colab.research.google.com/assets/colab-badge.svg\" alt=\"Open In Colab\"/></a>"
      ]
    },
    {
      "cell_type": "markdown",
      "metadata": {
        "id": "bZZMVD2xVsfH"
      },
      "source": [
        "Operating System (OS) Module <br>\n",
        "It represents OS dependent functionality.<br>\n",
        "This module is useful to perform simple operations on the directories.\n",
        "\n",
        "For example, if we want to know the current working directory, we can use getcwd()method of OS module\n",
        "\n",
        "For creating or making our own directory, we can use mkdir() method"
      ]
    },
    {
      "cell_type": "code",
      "metadata": {
        "id": "06xQdU9rVUEV",
        "colab": {
          "base_uri": "https://localhost:8080/"
        },
        "outputId": "205e767a-f076-424e-e20b-b3f074066ae0"
      },
      "source": [
        "#get current working directory\n",
        "\n",
        "import os\n",
        "current= os.getcwd()\n",
        "print(\"Current directory is \", current)\n",
        "\n"
      ],
      "execution_count": null,
      "outputs": [
        {
          "output_type": "stream",
          "name": "stdout",
          "text": [
            "Current directory is  /content\n"
          ]
        }
      ]
    },
    {
      "cell_type": "code",
      "metadata": {
        "id": "p7KEPq7_WgVS"
      },
      "source": [
        "#create our own directory\n",
        "\n",
        "import os\n",
        "#create a directory with name mydir\n",
        "os.mkdir(\"mydir\")\n"
      ],
      "execution_count": null,
      "outputs": []
    },
    {
      "cell_type": "code",
      "metadata": {
        "id": "7EVZJ4wXXvx5"
      },
      "source": [
        "#Creates a sub directory called mysub\n",
        "import os\n",
        "os.mkdir(\"mydir/mysub\")\n"
      ],
      "execution_count": null,
      "outputs": []
    },
    {
      "cell_type": "code",
      "metadata": {
        "id": "KnRCRAP-YK8a"
      },
      "source": [
        "#Create directory and sub directory both together using makedirs\n",
        "import os\n",
        "os.makedirs(\"sub1/sub2\")\n"
      ],
      "execution_count": null,
      "outputs": []
    },
    {
      "cell_type": "code",
      "metadata": {
        "colab": {
          "base_uri": "https://localhost:8080/",
          "height": 35
        },
        "id": "yvZTAByHbQgd",
        "outputId": "43502223-bb74-46aa-c258-866cb99c0b38"
      },
      "source": [
        "#Change current working directory\n",
        "\n",
        "#First ascertain the working directory\n",
        "import os\n",
        "os.getcwd()\n"
      ],
      "execution_count": null,
      "outputs": [
        {
          "output_type": "execute_result",
          "data": {
            "application/vnd.google.colaboratory.intrinsic+json": {
              "type": "string"
            },
            "text/plain": [
              "'/content'"
            ]
          },
          "metadata": {},
          "execution_count": 5
        }
      ]
    },
    {
      "cell_type": "code",
      "metadata": {
        "id": "wzKLVELqbapV"
      },
      "source": [
        "#Change the working directory\n",
        "\n",
        "import os\n",
        "os.chdir(\"sub1\")\n",
        "\n"
      ],
      "execution_count": null,
      "outputs": []
    },
    {
      "cell_type": "code",
      "metadata": {
        "colab": {
          "base_uri": "https://localhost:8080/",
          "height": 35
        },
        "id": "yD6g4cK_bbsL",
        "outputId": "43b0037e-e031-48a4-98c3-4a791c61dd68"
      },
      "source": [
        "os.getcwd()"
      ],
      "execution_count": null,
      "outputs": [
        {
          "output_type": "execute_result",
          "data": {
            "application/vnd.google.colaboratory.intrinsic+json": {
              "type": "string"
            },
            "text/plain": [
              "'/content/sub1'"
            ]
          },
          "metadata": {},
          "execution_count": 7
        }
      ]
    },
    {
      "cell_type": "code",
      "metadata": {
        "id": "lmcev_mebqX9"
      },
      "source": [
        "os.chdir(\"/content/mydir/mysub\")"
      ],
      "execution_count": null,
      "outputs": []
    },
    {
      "cell_type": "code",
      "metadata": {
        "colab": {
          "base_uri": "https://localhost:8080/",
          "height": 35
        },
        "id": "AtuqcA_3b7Id",
        "outputId": "2ae85246-19f9-4d55-daaa-aa92b2590d6a"
      },
      "source": [
        "#Check if the working directory has changed\n",
        "os.getcwd()"
      ],
      "execution_count": null,
      "outputs": [
        {
          "output_type": "execute_result",
          "data": {
            "application/vnd.google.colaboratory.intrinsic+json": {
              "type": "string"
            },
            "text/plain": [
              "'/content/mydir/mysub'"
            ]
          },
          "metadata": {},
          "execution_count": 19
        }
      ]
    },
    {
      "cell_type": "code",
      "metadata": {
        "id": "7XCKAaiwcGh2"
      },
      "source": [
        "os.chdir(\"../\") #To come out of the current directory and go one level up"
      ],
      "execution_count": null,
      "outputs": []
    },
    {
      "cell_type": "code",
      "metadata": {
        "colab": {
          "base_uri": "https://localhost:8080/",
          "height": 35
        },
        "id": "dP1SogO6dCOX",
        "outputId": "657e39b0-8d38-4a6f-b40c-bf15fa401c6c"
      },
      "source": [
        "os.getcwd()"
      ],
      "execution_count": null,
      "outputs": [
        {
          "output_type": "execute_result",
          "data": {
            "application/vnd.google.colaboratory.intrinsic+json": {
              "type": "string"
            },
            "text/plain": [
              "'/content/mydir'"
            ]
          },
          "metadata": {},
          "execution_count": 21
        }
      ]
    },
    {
      "cell_type": "code",
      "metadata": {
        "id": "hYGpnVdRdHIG"
      },
      "source": [
        "os.chdir(\"../\")"
      ],
      "execution_count": null,
      "outputs": []
    },
    {
      "cell_type": "code",
      "metadata": {
        "colab": {
          "base_uri": "https://localhost:8080/",
          "height": 35
        },
        "id": "urTUwCnqdNHI",
        "outputId": "5709618f-f2f0-46b7-da45-30ea6e190f03"
      },
      "source": [
        "os.getcwd()"
      ],
      "execution_count": null,
      "outputs": [
        {
          "output_type": "execute_result",
          "data": {
            "application/vnd.google.colaboratory.intrinsic+json": {
              "type": "string"
            },
            "text/plain": [
              "'/content'"
            ]
          },
          "metadata": {},
          "execution_count": 23
        }
      ]
    },
    {
      "cell_type": "code",
      "metadata": {
        "id": "NzA5GUHedOdR"
      },
      "source": [
        "#Remove a directory using rmdir() method\n",
        "import os\n",
        "os.rmdir(\"sub1\")"
      ],
      "execution_count": null,
      "outputs": []
    },
    {
      "cell_type": "code",
      "metadata": {
        "id": "iGWdSnfKd5-O"
      },
      "source": [
        "import os\n",
        "os.makedirs(\"sub3/sub4\")"
      ],
      "execution_count": null,
      "outputs": []
    },
    {
      "cell_type": "code",
      "metadata": {
        "colab": {
          "base_uri": "https://localhost:8080/",
          "height": 35
        },
        "id": "LsMf4_SVeJDg",
        "outputId": "7168dac5-fd36-4219-dcbf-a31578900942"
      },
      "source": [
        "os.getcwd()"
      ],
      "execution_count": null,
      "outputs": [
        {
          "output_type": "execute_result",
          "data": {
            "application/vnd.google.colaboratory.intrinsic+json": {
              "type": "string"
            },
            "text/plain": [
              "'/content'"
            ]
          },
          "metadata": {},
          "execution_count": 28
        }
      ]
    },
    {
      "cell_type": "code",
      "metadata": {
        "id": "bqX5eni9eO0W"
      },
      "source": [
        "os.rmdir(\"/content/sub3/sub4\") #Delete the sub directory sub4"
      ],
      "execution_count": null,
      "outputs": []
    },
    {
      "cell_type": "code",
      "metadata": {
        "id": "a0ZgUQC8ee69"
      },
      "source": [
        "os.rmdir(\"sub3\")"
      ],
      "execution_count": null,
      "outputs": []
    },
    {
      "cell_type": "code",
      "metadata": {
        "id": "zJXiLdZ7eJLx"
      },
      "source": [
        "#DIY use removedirs() to recursively remove all the directories\n"
      ],
      "execution_count": null,
      "outputs": []
    },
    {
      "cell_type": "code",
      "metadata": {
        "id": "a9lqNR9-eb5Z"
      },
      "source": [
        "#Rename a directory\n",
        "os.rename(\"mydir\",\"newdir\")\n",
        "#First change the directory back to root directory\n"
      ],
      "execution_count": null,
      "outputs": []
    },
    {
      "cell_type": "code",
      "metadata": {
        "id": "MlX3YMBfgN5s"
      },
      "source": [
        "#Display all the content of the directory using walk()\n",
        "\n",
        "import os\n",
        "for dirpath, dirnames, filenames in os.walk(\".\"):\n",
        "  print(\"current path: \", dirpath)\n",
        "  print(\"directories\", dirnames)\n",
        "  print(\"Files:\", filenames)\n",
        "  print()\n",
        "\n"
      ],
      "execution_count": null,
      "outputs": []
    },
    {
      "cell_type": "code",
      "metadata": {
        "id": "wpOW86w7UxBA"
      },
      "source": [
        "#Check if the file exists or not\n",
        "#Uploaded Hello.txt file\n",
        "\n",
        "import os, sys\n",
        "\n",
        "#enter the file name for reading\n",
        "\n",
        "fname= input(\"Enter the file name: \")\n",
        "\n",
        "if os.path.isfile(fname):\n",
        "  f=open(fname,\"r\")\n",
        "  print(\"File contents are\")\n",
        "  print(f.read())\n",
        "else:\n",
        "  print(fname, \" does not exist\")\n",
        "  sys.exit()\n",
        "\n"
      ],
      "execution_count": null,
      "outputs": []
    },
    {
      "cell_type": "code",
      "metadata": {
        "id": "8gBTfsnVV1ST",
        "colab": {
          "base_uri": "https://localhost:8080/",
          "height": 270
        },
        "outputId": "f021e62e-033a-49f7-a102-d7abe315c14f"
      },
      "source": [
        "import os, sys\n",
        "\n",
        "#enter the filename for reading\n",
        "\n",
        "fname= input(\"Enter the file that your want to open: \")\n",
        "\n",
        "if os.path.isfile(fname):\n",
        "  f= open(fname, \"r\")\n",
        "  print(\"The file contents are as follows-\")\n",
        "  print(f.read())\n",
        "else:\n",
        "  print(fname, \" does not exist\")\n",
        "sys.exit()"
      ],
      "execution_count": null,
      "outputs": [
        {
          "output_type": "stream",
          "name": "stdout",
          "text": [
            "Enter the file that your want to open: Hello.txt\n",
            "The file contents are as follows-\n",
            "Hello world\n",
            "Hello Python\n",
            "Good morning\n",
            "How are you\n"
          ]
        },
        {
          "output_type": "error",
          "ename": "SystemExit",
          "evalue": "ignored",
          "traceback": [
            "An exception has occurred, use %tb to see the full traceback.\n",
            "\u001b[0;31mSystemExit\u001b[0m\n"
          ]
        },
        {
          "output_type": "stream",
          "name": "stderr",
          "text": [
            "/usr/local/lib/python3.7/dist-packages/IPython/core/interactiveshell.py:2890: UserWarning: To exit: use 'exit', 'quit', or Ctrl-D.\n",
            "  warn(\"To exit: use 'exit', 'quit', or Ctrl-D.\", stacklevel=1)\n"
          ]
        }
      ]
    },
    {
      "cell_type": "code",
      "metadata": {
        "id": "XQO2z7RogUFi"
      },
      "source": [
        ""
      ],
      "execution_count": null,
      "outputs": []
    }
  ]
}