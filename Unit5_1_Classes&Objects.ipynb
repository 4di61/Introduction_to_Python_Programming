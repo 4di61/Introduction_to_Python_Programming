{
  "nbformat": 4,
  "nbformat_minor": 0,
  "metadata": {
    "colab": {
      "name": "Unit5.1_Classes&Objects.ipynb",
      "provenance": [],
      "authorship_tag": "ABX9TyPrOMiMtstqaw+tEgmOs8BM",
      "include_colab_link": true
    },
    "kernelspec": {
      "name": "python3",
      "display_name": "Python 3"
    },
    "language_info": {
      "name": "python"
    }
  },
  "cells": [
    {
      "cell_type": "markdown",
      "metadata": {
        "id": "view-in-github",
        "colab_type": "text"
      },
      "source": [
        "<a href=\"https://colab.research.google.com/github/AmiMunshi/Introduction_to_Python_Programming/blob/main/Unit5_1_Classes%26Objects.ipynb\" target=\"_parent\"><img src=\"https://colab.research.google.com/assets/colab-badge.svg\" alt=\"Open In Colab\"/></a>"
      ]
    },
    {
      "cell_type": "markdown",
      "metadata": {
        "id": "nQlq8ISdzwGQ"
      },
      "source": [
        "References\n",
        "\n",
        "Core Python Programming- Dr Nageswara Rao\n",
        "\n",
        "https://www.w3schools.com/python/python_classes.asp\n",
        "\n",
        "https://docs.python.org/3/tutorial/classes.html"
      ]
    },
    {
      "cell_type": "markdown",
      "metadata": {
        "id": "tkesRo__0EhZ"
      },
      "source": [
        "Class is a model or a plan to create objects. We write class with the attributes and actions of objects. Attributes are represented by variables and actions are performed by methods.\n",
        "\n",
        "Same methods and variables are also available in objects because they are created from class. These are called instance variable as they are created inside the instance (object)\n",
        "\n",
        "Function written inside a class is called as a method.\n",
        "\n",
        "A Class is like an object constructor, or a \"blueprint\" for creating objects."
      ]
    },
    {
      "cell_type": "code",
      "metadata": {
        "id": "nTlx99NfxSvp"
      },
      "source": [
        "#Create a class\n",
        "\n",
        "class NewClass():\n",
        "  \"\"\"variable number is stored in this class\"\"\"  #Docstring written in triple double quotes. Gives description of the class\n",
        "  number=5"
      ],
      "execution_count": null,
      "outputs": []
    },
    {
      "cell_type": "code",
      "metadata": {
        "colab": {
          "base_uri": "https://localhost:8080/"
        },
        "id": "y7bf5NKC2v5N",
        "outputId": "6efde3c0-f854-408d-d3e4-039a5c53cb9e"
      },
      "source": [
        "print(NewClass.__doc__) #To know what this class does"
      ],
      "execution_count": null,
      "outputs": [
        {
          "output_type": "stream",
          "name": "stdout",
          "text": [
            "variable number is stored in this class\n"
          ]
        }
      ]
    },
    {
      "cell_type": "code",
      "metadata": {
        "colab": {
          "base_uri": "https://localhost:8080/"
        },
        "id": "DBFd6Yhy2T1G",
        "outputId": "db7d3e10-1172-413a-d5e7-188deda5c40f"
      },
      "source": [
        "#Create an object of NewClass\n",
        "\n",
        "c1= NewClass()\n",
        "print(c1.number)"
      ],
      "execution_count": null,
      "outputs": [
        {
          "output_type": "stream",
          "name": "stdout",
          "text": [
            "5\n"
          ]
        }
      ]
    },
    {
      "cell_type": "markdown",
      "metadata": {
        "id": "EO2nnXJ8zswZ"
      },
      "source": [
        "__init__() Function"
      ]
    },
    {
      "cell_type": "code",
      "metadata": {
        "id": "lB7hiTpJzxDo"
      },
      "source": [
        "#Create a class called Student\n",
        "\n",
        "\n",
        "class Student():\n",
        "  pass"
      ],
      "execution_count": null,
      "outputs": []
    },
    {
      "cell_type": "code",
      "metadata": {
        "id": "PRoDVe7Ez61C"
      },
      "source": [
        "s1= Student()\n",
        "s1.fname= \"Ami\"\n",
        "s1.lname= \"Munshi\"\n",
        "s1.marks= 78\n",
        "s1.email= \"Ami.Munshi@nmims.edu\"\n",
        "\n"
      ],
      "execution_count": null,
      "outputs": []
    },
    {
      "cell_type": "code",
      "metadata": {
        "id": "SCl0OaoU0REq"
      },
      "source": [
        "s2= Student()\n",
        "s2.fname= \"ABC\"\n",
        "s2.lname= \"XYZ\"\n",
        "s2.marks= 87\n",
        "s2.email= \"ABc.XYZ@nmims.edu\"\n"
      ],
      "execution_count": null,
      "outputs": []
    },
    {
      "cell_type": "code",
      "metadata": {
        "id": "izloHTlm1g-u"
      },
      "source": [
        "#In the above example, we have to give attributes to all th einstances created every time. Instead, we can give all these attributes in the class"
      ],
      "execution_count": null,
      "outputs": []
    },
    {
      "cell_type": "code",
      "metadata": {
        "id": "ii3SvPOT0nNN"
      },
      "source": [
        "#Using __init__() Function. Assigning attributes within the class\n",
        "\n",
        "class StudentNew():\n",
        "  def __init__(self, fname, lname, marks):\n",
        "    self.fname= fname\n",
        "    self.lname=lname\n",
        "    self.marks= marks\n",
        "    self.email= fname + \".\" + lname+\"@nmims.edu\""
      ],
      "execution_count": null,
      "outputs": []
    },
    {
      "cell_type": "code",
      "metadata": {
        "colab": {
          "base_uri": "https://localhost:8080/"
        },
        "id": "DHV7W_Fn1F7O",
        "outputId": "263c7a54-c082-4fca-bad3-9a06669787e6"
      },
      "source": [
        "s2= StudentNew(\"Ami\", \"Munshi\", 90)\n",
        "print(s2.email)\n"
      ],
      "execution_count": null,
      "outputs": [
        {
          "output_type": "stream",
          "name": "stdout",
          "text": [
            "Ami.Munshi@nmims.edu\n"
          ]
        }
      ]
    },
    {
      "cell_type": "code",
      "metadata": {
        "id": "n37zuABl1xz0"
      },
      "source": [
        "#Performing action by creating method within the class\n",
        "\n",
        "class StudentRevised():\n",
        "   def __init__(self, fname, lname, marks):\n",
        "    self.fname= fname\n",
        "    self.lname=lname\n",
        "    self.marks= marks\n",
        "    self.email= fname + \".\" + lname+\"@nmims.edu\"\n",
        "  \n",
        "   def printall(self):\n",
        "     print(\"{} {} has obtained {} marks\".format(self.fname, self.lname, self.marks) )\n",
        "     print(\"Her email address is {}\".format(self.email))\n"
      ],
      "execution_count": null,
      "outputs": []
    },
    {
      "cell_type": "code",
      "metadata": {
        "colab": {
          "base_uri": "https://localhost:8080/"
        },
        "id": "PYs4pum82k70",
        "outputId": "dd23bcf5-b941-4e10-d155-029864c9c77c"
      },
      "source": [
        "s3= StudentRevised(\"Ami\", \"Munshi\", 90)\n",
        "s3.printall()"
      ],
      "execution_count": null,
      "outputs": [
        {
          "output_type": "stream",
          "name": "stdout",
          "text": [
            "Ami Munshi has obtained 90 marks\n",
            "Her email address is Ami.Munshi@nmims.edu\n"
          ]
        }
      ]
    },
    {
      "cell_type": "code",
      "metadata": {
        "id": "7fEI4Gn_59sb"
      },
      "source": [
        "#Creating one more method to calculate the grade point for the given marks in percentage\n",
        "class StudentRevised():\n",
        "   def __init__(self, fname, lname, marks):\n",
        "    self.fname= fname\n",
        "    self.lname=lname\n",
        "    self.marks= marks\n",
        "    self.email= fname + \".\" + lname+\"@nmims.edu\"\n",
        "  \n",
        "   def printall(self):\n",
        "     print(\"{} {} has obtained {} marks\".format(self.fname, self.lname, self.marks) )\n",
        "     print(\"Her email address is {}\".format(self.email))\n",
        "\n",
        "   def grade(self):\n",
        "     self.grade= self.marks/9.5\n",
        "     return self.grade\n",
        "\n"
      ],
      "execution_count": null,
      "outputs": []
    },
    {
      "cell_type": "code",
      "metadata": {
        "colab": {
          "base_uri": "https://localhost:8080/"
        },
        "id": "HGoIEvtV6bF7",
        "outputId": "518e4e38-8d65-4a03-956c-749dea2806c8"
      },
      "source": [
        "#Create an instance of this class\n",
        "s4= StudentRevised(\"Ami\", \"Munshi\", 90)\n",
        "print(s4.grade()) #print grade for this instance"
      ],
      "execution_count": null,
      "outputs": [
        {
          "output_type": "stream",
          "name": "stdout",
          "text": [
            "9.473684210526315\n"
          ]
        }
      ]
    },
    {
      "cell_type": "markdown",
      "metadata": {
        "id": "vOgGLvcJMooD"
      },
      "source": [
        "Types of variables\n",
        "\n",
        "Instance variable\n",
        "Class variable or stactic variable\n"
      ]
    },
    {
      "cell_type": "code",
      "metadata": {
        "id": "OyGUUjOnMkhs"
      },
      "source": [
        "#Example for Instance variable\n",
        "\n",
        "class Sample:\n",
        "  #this is a constructor\n",
        "  def __init__(self):\n",
        "    self.x=10\n",
        "  \n",
        "  #this is a instance method\n",
        "  def modify(self):\n",
        "    self.x+=1\n"
      ],
      "execution_count": null,
      "outputs": []
    },
    {
      "cell_type": "code",
      "metadata": {
        "colab": {
          "base_uri": "https://localhost:8080/"
        },
        "id": "2WBX4_nONfK6",
        "outputId": "5d256b8d-e5e9-4c16-d124-6b75ca70d8f7"
      },
      "source": [
        "#Create 2 instances \n",
        "s1=Sample()\n",
        "s2=Sample()\n",
        "\n",
        "print(\"x in s1 is \", s1.x)\n",
        "print(\"x in s2 is \", s2.x)\n",
        "\n"
      ],
      "execution_count": null,
      "outputs": [
        {
          "output_type": "stream",
          "name": "stdout",
          "text": [
            "x in s1 is  10\n",
            "x in s2 is  10\n"
          ]
        }
      ]
    },
    {
      "cell_type": "code",
      "metadata": {
        "colab": {
          "base_uri": "https://localhost:8080/"
        },
        "id": "YadqOWKQOaMT",
        "outputId": "7370f70e-f5ea-4584-b810-9bb9130c6733"
      },
      "source": [
        "#modify x in s1\n",
        "\n",
        "s1.modify()\n",
        "print(\"x in s1= \", s1.x)\n",
        "print(\"x in s2= \", s2.x)"
      ],
      "execution_count": null,
      "outputs": [
        {
          "output_type": "stream",
          "name": "stdout",
          "text": [
            "x in s1=  11\n",
            "x in s2=  10\n"
          ]
        }
      ]
    },
    {
      "cell_type": "markdown",
      "metadata": {
        "id": "zN4yl6_aOsyI"
      },
      "source": [
        "Note: x is an instance variable. If we modify its value in one instance, it will not change in the other instance.\n",
        "\n",
        "Instance variables are defined and initialized using a constructor with self parameter.\n",
        "\n"
      ]
    },
    {
      "cell_type": "code",
      "metadata": {
        "id": "7ucMr7gLPkwg"
      },
      "source": [
        "#Example for class varibales or static variables\n",
        "\n",
        "class Sample:\n",
        "  #this is a class variable\n",
        "  x=10\n",
        "\n",
        "  #this is a class method\n",
        "  #we are using builtin decorator statement @classmethod() to mark this method as a class method\n",
        "  @classmethod\n",
        "  def modify(cls):\n",
        "    cls.x+=1\n",
        "  "
      ],
      "execution_count": null,
      "outputs": []
    },
    {
      "cell_type": "code",
      "metadata": {
        "colab": {
          "base_uri": "https://localhost:8080/"
        },
        "id": "HiX9I3N4QLMz",
        "outputId": "b1af6f15-7b2e-46a0-ea22-8b3bb1b8eeae"
      },
      "source": [
        "#Create 2 instances\n",
        "s1=Sample()\n",
        "s2=Sample()\n",
        "\n",
        "print(\"x in s1= \", s1.x)\n",
        "print(\"x in s2= \", s2.x)"
      ],
      "execution_count": null,
      "outputs": [
        {
          "output_type": "stream",
          "name": "stdout",
          "text": [
            "x in s1=  10\n",
            "x in s2=  10\n"
          ]
        }
      ]
    },
    {
      "cell_type": "code",
      "metadata": {
        "colab": {
          "base_uri": "https://localhost:8080/"
        },
        "id": "fze6E9K9QLTU",
        "outputId": "234c4ac0-3b95-4ed2-c905-749269f1fc55"
      },
      "source": [
        "#modify x in s1\n",
        "s1.modify()\n",
        "print(\"x in s1= \", s1.x)\n",
        "print(\"x in s2= \", s2.x)"
      ],
      "execution_count": null,
      "outputs": [
        {
          "output_type": "stream",
          "name": "stdout",
          "text": [
            "x in s1=  11\n",
            "x in s2=  11\n"
          ]
        }
      ]
    },
    {
      "cell_type": "code",
      "metadata": {
        "id": "uDd2Zb_QTYaG"
      },
      "source": [
        "#Example to process several instances\n",
        "\n",
        "class Student:\n",
        "  #this is a constructor \n",
        "  def __init__(self, n='', m=0):\n",
        "    self.name= n\n",
        "    self.marks=m\n",
        "\n",
        "  #this is an instance method\n",
        "\n",
        "  def display(self):\n",
        "    print(\"Hi\", self.name)\n",
        "    print(\"Your marks \", self.marks)\n",
        "    "
      ],
      "execution_count": null,
      "outputs": []
    },
    {
      "cell_type": "code",
      "metadata": {
        "id": "Kz3VcGQC2feT"
      },
      "source": [
        "#__init__() Function\n",
        "\n",
        "class Student:\n",
        "  \"\"\"Details about students\"\"\"\n",
        "  #Block below will define the attributes\n",
        "  def __init__(self):\n",
        "    self.name= \"Raj\"\n",
        "    self.age= 20\n",
        "    self.marks= 900\n",
        "  \n",
        "  #The block below defines a method\n",
        "  def talk(self):\n",
        "    print(\"Hi, I am \", self.name)\n",
        "    print(\"I am \", self.age, \" year's old\")\n",
        "    print(\"My marks are \", self.marks)"
      ],
      "execution_count": null,
      "outputs": []
    },
    {
      "cell_type": "code",
      "metadata": {
        "colab": {
          "base_uri": "https://localhost:8080/"
        },
        "id": "cb6ey4-n9yJF",
        "outputId": "4cc03a18-8bde-4baf-de90-bebfe6037af2"
      },
      "source": [
        "#Create instance or an object to the Student Class\n",
        "s1= Student()\n",
        "print(s1.talk())"
      ],
      "execution_count": null,
      "outputs": [
        {
          "output_type": "stream",
          "name": "stdout",
          "text": [
            "Hi, I am  Raj\n",
            "I am  20  year's old\n",
            "My marks are  900\n",
            "None\n"
          ]
        }
      ]
    },
    {
      "cell_type": "code",
      "metadata": {
        "id": "6JOqmidL98oj"
      },
      "source": [
        "class StudentNew():\n",
        "  def __init__(self, name, age, marks):\n",
        "      self.name= name\n",
        "      self.age= age\n",
        "      self.marks= marks\n",
        "    \n",
        "    #The block below defines a method\n",
        "  def talk(self):\n",
        "      print(\"Hi, I am \", self.name)\n",
        "      print(\"I am \", self.age, \" years old\")\n",
        "      print(\"My marks are \", self.marks)"
      ],
      "execution_count": null,
      "outputs": []
    },
    {
      "cell_type": "code",
      "metadata": {
        "colab": {
          "base_uri": "https://localhost:8080/"
        },
        "id": "fa9-vD52-3if",
        "outputId": "b2425f27-9cfd-47cf-88e3-31bd908ae4f2"
      },
      "source": [
        "s2= StudentNew(\"Jeet\", 20, 950)\n",
        "print(s2.name)"
      ],
      "execution_count": null,
      "outputs": [
        {
          "output_type": "stream",
          "name": "stdout",
          "text": [
            "Jeet\n"
          ]
        }
      ]
    },
    {
      "cell_type": "code",
      "metadata": {
        "colab": {
          "base_uri": "https://localhost:8080/"
        },
        "id": "GH-plZcM_FzW",
        "outputId": "209007fe-ffb9-4131-dc9a-00c82db3f8fc"
      },
      "source": [
        "s2.talk()"
      ],
      "execution_count": null,
      "outputs": [
        {
          "output_type": "stream",
          "name": "stdout",
          "text": [
            "Hi, I am  Jeet\n",
            "I am  20  year's old\n",
            "My marks are  950\n"
          ]
        }
      ]
    },
    {
      "cell_type": "code",
      "metadata": {
        "id": "olSE_ApoAYG7"
      },
      "source": [
        "#Modify the object property\n",
        "\n",
        "s2.age=18"
      ],
      "execution_count": null,
      "outputs": []
    },
    {
      "cell_type": "code",
      "metadata": {
        "colab": {
          "base_uri": "https://localhost:8080/"
        },
        "id": "m3fUrBIK_yXn",
        "outputId": "3ace4a52-3bfd-4442-d3d2-ec8a9452e22c"
      },
      "source": [
        "s2.talk()"
      ],
      "execution_count": null,
      "outputs": [
        {
          "output_type": "stream",
          "name": "stdout",
          "text": [
            "Hi, I am  Jeet\n",
            "I am  20  years old\n",
            "My marks are  950\n"
          ]
        }
      ]
    },
    {
      "cell_type": "code",
      "metadata": {
        "id": "NMm6D_6sAsIJ"
      },
      "source": [
        "#delete object property\n",
        "\n",
        "del s2.marks\n"
      ],
      "execution_count": null,
      "outputs": []
    },
    {
      "cell_type": "code",
      "metadata": {
        "colab": {
          "base_uri": "https://localhost:8080/"
        },
        "id": "0LwkLnYcAymp",
        "outputId": "413972cc-493d-4dd8-e00b-4fee1767a441"
      },
      "source": [
        "try:\n",
        "  s2.talk()\n",
        "except Exception as e1:\n",
        "  print(e1)"
      ],
      "execution_count": null,
      "outputs": [
        {
          "output_type": "stream",
          "name": "stdout",
          "text": [
            "Hi, I am  Jeet\n",
            "I am  20  years old\n",
            "'StudentNew' object has no attribute 'marks'\n"
          ]
        }
      ]
    },
    {
      "cell_type": "code",
      "metadata": {
        "id": "PdJ1ubUyAfpQ"
      },
      "source": [
        "s3= StudentNew(\"Jiya\", 19, 990) #Create a new object of class StudentNew()\n",
        "#It will be seen that the marks attribute is deleted from object s2. Not the class"
      ],
      "execution_count": null,
      "outputs": []
    },
    {
      "cell_type": "code",
      "metadata": {
        "colab": {
          "base_uri": "https://localhost:8080/"
        },
        "id": "yixZRXY0BL7c",
        "outputId": "772d0a5d-bf38-4a4a-93bd-2d4acb156158"
      },
      "source": [
        "s3.talk()"
      ],
      "execution_count": null,
      "outputs": [
        {
          "output_type": "stream",
          "name": "stdout",
          "text": [
            "Hi, I am  Jiya\n",
            "I am  19  years old\n",
            "My marks are  990\n"
          ]
        }
      ]
    },
    {
      "cell_type": "code",
      "metadata": {
        "id": "7EKaEc2bBMo3"
      },
      "source": [
        "#Delete the entire object\n",
        "\n",
        "del s2"
      ],
      "execution_count": null,
      "outputs": []
    },
    {
      "cell_type": "code",
      "metadata": {
        "colab": {
          "base_uri": "https://localhost:8080/"
        },
        "id": "NJdXY_wnBwcS",
        "outputId": "11f2edfc-3968-4720-9ef9-e8bd038942cf"
      },
      "source": [
        "try:\n",
        "  s2.talk()\n",
        "except Exception as e2:\n",
        "  print(e2)"
      ],
      "execution_count": null,
      "outputs": [
        {
          "output_type": "stream",
          "name": "stdout",
          "text": [
            "name 's2' is not defined\n"
          ]
        }
      ]
    },
    {
      "cell_type": "markdown",
      "metadata": {
        "id": "zl1v9buJiYOi"
      },
      "source": [
        "Encapsulation in Python\n",
        "\n",
        "Writing attributes(variables) and methods inside a class\n",
        "\n",
        "Methods processes the data available in the variables\n",
        "\n",
        "In the example given below,  the Student class becomes the example for encapsulation"
      ]
    },
    {
      "cell_type": "code",
      "metadata": {
        "id": "PqwRddwrjOr7"
      },
      "source": [
        "class Student:\n",
        "  #initialize the variables\n",
        "  def __init__(self):\n",
        "    self.id=10\n",
        "    self.name=\"Raju\"\n",
        "  \n",
        "  #display student details\n",
        "  def display(self):\n",
        "    print(self.id)\n",
        "    print(self.name)"
      ],
      "execution_count": null,
      "outputs": []
    },
    {
      "cell_type": "markdown",
      "metadata": {
        "id": "OULtK0zHjlGl"
      },
      "source": [
        "Abstraction\n",
        "\n",
        "The class may contain a lot of data. But all need not be shown to the user. In this case, some data can be hidden from the user. This is called as abstraction."
      ]
    },
    {
      "cell_type": "code",
      "metadata": {
        "id": "ZTeNOWSrkvXH"
      },
      "source": [
        "class MyClass:\n",
        "  #this is constructor\n",
        "  def __init__(self):\n",
        "    self.x= 10 #public variable\n",
        "    self.__y=2 #private variable\n",
        "  "
      ],
      "execution_count": null,
      "outputs": []
    },
    {
      "cell_type": "code",
      "metadata": {
        "colab": {
          "base_uri": "https://localhost:8080/"
        },
        "id": "5eBSSD5-jjkQ",
        "outputId": "10dda692-7a57-4716-d24f-dd528c6d2a26"
      },
      "source": [
        "c1=MyClass()\n",
        "print(c1.x)\n"
      ],
      "execution_count": null,
      "outputs": [
        {
          "output_type": "stream",
          "name": "stdout",
          "text": [
            "10\n"
          ]
        }
      ]
    },
    {
      "cell_type": "code",
      "metadata": {
        "colab": {
          "base_uri": "https://localhost:8080/",
          "height": 162
        },
        "id": "0E3UHHLalg2X",
        "outputId": "9648e9a0-74db-4ed5-d674-8f4c9ce3ad2a"
      },
      "source": [
        "print(c1.y)"
      ],
      "execution_count": null,
      "outputs": [
        {
          "output_type": "error",
          "ename": "AttributeError",
          "evalue": "ignored",
          "traceback": [
            "\u001b[0;31m---------------------------------------------------------------------------\u001b[0m",
            "\u001b[0;31mAttributeError\u001b[0m                            Traceback (most recent call last)",
            "\u001b[0;32m<ipython-input-4-03b9518066a1>\u001b[0m in \u001b[0;36m<module>\u001b[0;34m()\u001b[0m\n\u001b[0;32m----> 1\u001b[0;31m \u001b[0mprint\u001b[0m\u001b[0;34m(\u001b[0m\u001b[0mc1\u001b[0m\u001b[0;34m.\u001b[0m\u001b[0my\u001b[0m\u001b[0;34m)\u001b[0m\u001b[0;34m\u001b[0m\u001b[0;34m\u001b[0m\u001b[0m\n\u001b[0m",
            "\u001b[0;31mAttributeError\u001b[0m: 'MyClass' object has no attribute 'y'"
          ]
        }
      ]
    },
    {
      "cell_type": "code",
      "metadata": {
        "id": "aK9Z7WljliKJ"
      },
      "source": [
        "#Name mangling required to access private variable\n",
        "\n",
        "class MyClass:\n",
        "  #this is constructor\n",
        "  def __init__(self):\n",
        "    self.x= 10 #public variable\n",
        "    self.__y=2 #private variable\n",
        "  \n",
        "  #instance method to access variables\n",
        "\n",
        "  def display(self):\n",
        "    print(self.x) #x varible is directly available\n",
        "    print(self._MyClass__y) #name mangling required\n"
      ],
      "execution_count": null,
      "outputs": []
    },
    {
      "cell_type": "code",
      "metadata": {
        "colab": {
          "base_uri": "https://localhost:8080/"
        },
        "id": "Gs4cbyKIQM65",
        "outputId": "32a6bf4b-08e1-42bb-dfc6-8e139bcc917f"
      },
      "source": [
        "#Accessing variables through a method\n",
        "m=MyClass()\n"
      ],
      "execution_count": null,
      "outputs": [
        {
          "output_type": "stream",
          "name": "stdout",
          "text": [
            "Accessing variables thorugh method:\n"
          ]
        }
      ]
    },
    {
      "cell_type": "code",
      "metadata": {
        "colab": {
          "base_uri": "https://localhost:8080/"
        },
        "id": "6N6MD1nsQ_fS",
        "outputId": "d3a10833-7461-4f6c-a492-e0ee31951297"
      },
      "source": [
        "m.display()"
      ],
      "execution_count": null,
      "outputs": [
        {
          "output_type": "stream",
          "name": "stdout",
          "text": [
            "10\n",
            "2\n"
          ]
        }
      ]
    },
    {
      "cell_type": "code",
      "metadata": {
        "colab": {
          "base_uri": "https://localhost:8080/"
        },
        "id": "jVnfXJKyRH3Q",
        "outputId": "87e17832-6f86-43fb-8504-f04278dc61a0"
      },
      "source": [
        "#Accessing variables through instances\n",
        "print(m.x)\n",
        "print(m._MyClass__y)"
      ],
      "execution_count": null,
      "outputs": [
        {
          "output_type": "stream",
          "name": "stdout",
          "text": [
            "10\n",
            "2\n"
          ]
        }
      ]
    },
    {
      "cell_type": "code",
      "metadata": {
        "id": "zdFZzUDXqwWt"
      },
      "source": [
        "#Example \n",
        "\n",
        "class Bank:\n",
        "  def __init__(self):\n",
        "    self.accno= 10\n",
        "    self.name= \"Ami\"\n",
        "    self.balance= 100\n",
        "    self.__loan= 1000 #private variable\n",
        "\n",
        "  def display_to_clerk(self):\n",
        "    print(self.accno)\n",
        "    print(self.name)\n",
        "    print(self.balance)\n",
        "    print(self.loan)"
      ],
      "execution_count": null,
      "outputs": []
    },
    {
      "cell_type": "code",
      "metadata": {
        "id": "4FkVjkehrVf1"
      },
      "source": [
        "customer= Bank()"
      ],
      "execution_count": null,
      "outputs": []
    },
    {
      "cell_type": "code",
      "metadata": {
        "colab": {
          "base_uri": "https://localhost:8080/"
        },
        "id": "xC-85oy6rcVy",
        "outputId": "06c594f4-d6ee-4089-8948-47a76db62ad7"
      },
      "source": [
        "try:\n",
        "  customer.display_to_clerk()\n",
        "except Exception as e:\n",
        "  print(e)"
      ],
      "execution_count": null,
      "outputs": [
        {
          "output_type": "stream",
          "name": "stdout",
          "text": [
            "10\n",
            "Ami\n",
            "100\n",
            "'Bank' object has no attribute 'loan'\n"
          ]
        }
      ]
    },
    {
      "cell_type": "markdown",
      "metadata": {
        "id": "vykxwipeRYyC"
      },
      "source": [
        "Inheritance\n",
        "\n",
        "Creating a new class from the exisiting class so that the new class will acquire all the features of the existing class is called as inheritance"
      ]
    },
    {
      "cell_type": "code",
      "metadata": {
        "id": "jJYT70wCRzQ0"
      },
      "source": [
        "#Example of inheritance\n",
        "\n",
        "#Create class B from A\n",
        "\n",
        "class A:\n",
        "  a=1\n",
        "  b=2\n",
        "  def method(cls):\n",
        "    print(cls.a)\n",
        "    print(cls.b)\n",
        "\n",
        "  "
      ],
      "execution_count": null,
      "outputs": []
    },
    {
      "cell_type": "code",
      "metadata": {
        "id": "YipAI_PSRTHk"
      },
      "source": [
        "#Create class B from A\n",
        "\n",
        "class B(A):\n",
        "  c=3\n",
        "  def method2(cls):\n",
        "    print(cls.c)"
      ],
      "execution_count": null,
      "outputs": []
    },
    {
      "cell_type": "code",
      "metadata": {
        "colab": {
          "base_uri": "https://localhost:8080/"
        },
        "id": "K1_EcYrWSXit",
        "outputId": "6993343e-597b-4c6d-ce96-c5f0392c7e19"
      },
      "source": [
        "c1= B()\n",
        "print(c1.a)"
      ],
      "execution_count": null,
      "outputs": [
        {
          "output_type": "stream",
          "name": "stdout",
          "text": [
            "1\n"
          ]
        }
      ]
    },
    {
      "cell_type": "code",
      "metadata": {
        "id": "d1RDDcUNc7vM"
      },
      "source": [
        "#Python code to access the base class constructor from sub class\n",
        "\n",
        "class Father:\n",
        "  def __init__(self):\n",
        "    self.property1= 800000\n",
        "\n",
        "  def display_property(self):\n",
        "    print(\"Father's property is worth Rupees \", self.property1) "
      ],
      "execution_count": null,
      "outputs": []
    },
    {
      "cell_type": "code",
      "metadata": {
        "id": "dvFt9kp6wz0r"
      },
      "source": [
        "class Son(Father):\n",
        "  pass #we do not want to write anything"
      ],
      "execution_count": null,
      "outputs": []
    },
    {
      "cell_type": "code",
      "metadata": {
        "colab": {
          "base_uri": "https://localhost:8080/"
        },
        "id": "VgxKf8L_xAiq",
        "outputId": "b47b5964-4841-42d6-db00-cf889dd2940b"
      },
      "source": [
        "#Create instance of class Son\n",
        "s1= Son()\n",
        "s1.display_property()"
      ],
      "execution_count": null,
      "outputs": [
        {
          "output_type": "stream",
          "name": "stdout",
          "text": [
            "Father's property is worth Rupees  800000\n"
          ]
        }
      ]
    },
    {
      "cell_type": "code",
      "metadata": {
        "id": "2Pm0gSEcxXpY"
      },
      "source": [
        "#Python program to override super class constructor and method in sub class\n",
        "\n",
        "class Father:\n",
        "  def __init__(self):\n",
        "    self.property1= 800000\n",
        "\n",
        "  def display_property(self):\n",
        "    print(\"Father's property is worth Rupees \", self.property1) "
      ],
      "execution_count": null,
      "outputs": []
    },
    {
      "cell_type": "code",
      "metadata": {
        "id": "xr8Ucm4AxlAn"
      },
      "source": [
        "class Son(Father):\n",
        "  def __init__(self):\n",
        "    self.property1= 200000\n",
        "  \n",
        "  def display_property(self):\n",
        "    print(\"Child's property is worth Rupees \", self.property1)"
      ],
      "execution_count": null,
      "outputs": []
    },
    {
      "cell_type": "code",
      "metadata": {
        "colab": {
          "base_uri": "https://localhost:8080/"
        },
        "id": "0fxoCz0jx_mh",
        "outputId": "cff93a00-c99f-4288-d055-fddfa8d7ee71"
      },
      "source": [
        "s2= Son()\n",
        "s2.display_property()"
      ],
      "execution_count": null,
      "outputs": [
        {
          "output_type": "stream",
          "name": "stdout",
          "text": [
            "Child's property is worth Rupees  200000\n"
          ]
        }
      ]
    },
    {
      "cell_type": "code",
      "metadata": {
        "id": "I8UKNkHkyY8g"
      },
      "source": [
        "#the super() method\n",
        "\n",
        "#used to call super class constructor methods from the subclass\n",
        "\n",
        "#A program to call the super class constructor in the sub class using super()\n",
        "\n",
        "class Father:\n",
        "  def __init__(self, property1=0):\n",
        "    self.property1= property1\n",
        "\n",
        "  def display_property(self):\n",
        "    print(\"Father's property is worth Rupees \", self.property1) \n"
      ],
      "execution_count": null,
      "outputs": []
    },
    {
      "cell_type": "code",
      "metadata": {
        "id": "b2xxbzgdy-AL"
      },
      "source": [
        "class Son(Father):\n",
        "  def __init__(self, property2= 0, property1=0):\n",
        "    super().__init__(property1)\n",
        "    self.property2= property2\n",
        "\n",
        "  def display_property(self):\n",
        "    print(\"The total property of child is \", self.property1+self.property2)"
      ],
      "execution_count": null,
      "outputs": []
    },
    {
      "cell_type": "code",
      "metadata": {
        "id": "hAK7Av6hzr7v"
      },
      "source": [
        "#Create instance of the subclass Son\n",
        "\n",
        "s3= Son(200000, 1800000)"
      ],
      "execution_count": null,
      "outputs": []
    },
    {
      "cell_type": "code",
      "metadata": {
        "colab": {
          "base_uri": "https://localhost:8080/"
        },
        "id": "VzruqAcj0Xca",
        "outputId": "79189ecf-a130-4f18-f92c-f13bcf521295"
      },
      "source": [
        "s3.display_property()"
      ],
      "execution_count": null,
      "outputs": [
        {
          "output_type": "stream",
          "name": "stdout",
          "text": [
            "The total property of child is  2000000\n"
          ]
        }
      ]
    },
    {
      "cell_type": "code",
      "metadata": {
        "colab": {
          "base_uri": "https://localhost:8080/"
        },
        "id": "V5owQX8GScnA",
        "outputId": "f7f5cd23-fa99-4d47-8c16-b7c5dab2f0c1"
      },
      "source": [
        "#A program to create teacher class and store it into teacher.py\n",
        "\n",
        "%%writefile Teacher.py\n",
        "class Teacher:\n",
        "  def setid(self, id):\n",
        "    self.id=id\n",
        "  return id\n"
      ],
      "execution_count": null,
      "outputs": [
        {
          "output_type": "stream",
          "name": "stdout",
          "text": [
            "Overwriting Teacher.py\n"
          ]
        }
      ]
    },
    {
      "cell_type": "code",
      "metadata": {
        "id": "QtOlfbVwlr1q"
      },
      "source": [
        "#Using Teacher class\n",
        "\n",
        "from Teacher import Teacher\n",
        "#create instance of this class Teacher\n",
        "\n",
        "t= Teacher(10)"
      ],
      "execution_count": null,
      "outputs": []
    },
    {
      "cell_type": "code",
      "metadata": {
        "colab": {
          "base_uri": "https://localhost:8080/"
        },
        "id": "lnSbQtYcbdyK",
        "outputId": "ecb982b0-9c98-406b-da87-c168cef0705f"
      },
      "source": [
        "print(t.setid(10))"
      ],
      "execution_count": null,
      "outputs": [
        {
          "output_type": "stream",
          "name": "stdout",
          "text": [
            "None\n"
          ]
        }
      ]
    },
    {
      "cell_type": "code",
      "metadata": {
        "id": "r_0TXbjYl59B"
      },
      "source": [
        "000"
      ],
      "execution_count": null,
      "outputs": []
    }
  ]
}