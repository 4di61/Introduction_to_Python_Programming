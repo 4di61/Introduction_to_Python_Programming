{
  "nbformat": 4,
  "nbformat_minor": 0,
  "metadata": {
    "colab": {
      "provenance": [],
      "authorship_tag": "ABX9TyOPUgLAOCU3Y2tE99g/qh8s",
      "include_colab_link": true
    },
    "kernelspec": {
      "name": "python3",
      "display_name": "Python 3"
    },
    "language_info": {
      "name": "python"
    }
  },
  "cells": [
    {
      "cell_type": "markdown",
      "metadata": {
        "id": "view-in-github",
        "colab_type": "text"
      },
      "source": [
        "<a href=\"https://colab.research.google.com/github/AmiMunshi/Introduction_to_Python_Programming/blob/main/Unit6_1_RegularExpressions.ipynb\" target=\"_parent\"><img src=\"https://colab.research.google.com/assets/colab-badge.svg\" alt=\"Open In Colab\"/></a>"
      ]
    },
    {
      "cell_type": "markdown",
      "metadata": {
        "id": "h4fiLUEGmTAk"
      },
      "source": [
        "Regular Expressions\n",
        "\n",
        "Many times we need to extract data.For example-\n",
        "\n",
        "- We want to know the number of people who contacted us through our company email address\n",
        "\n",
        "- We want to know the phone numbers of all the employees whose name starts with a particular letter\n",
        "\n",
        "- We want to retrieve DOB of all the male employees\n",
        "\n",
        "- We want to retrieve names of all the students who have joined computer science engineering programme\n",
        "\n",
        "For all these operations, we have to conduct search operation on the data. Regular expressions help in doing these operations.\n",
        "\n",
        "Reference:\n",
        "\n",
        "Core Python Programming by Dr Nageswara Rao\n",
        "\n"
      ]
    },
    {
      "cell_type": "code",
      "metadata": {
        "id": "837R-VtLlRuE"
      },
      "source": [
        "#re module stands for regular operations\n",
        "import re\n",
        "\n"
      ],
      "execution_count": null,
      "outputs": []
    },
    {
      "cell_type": "code",
      "metadata": {
        "id": "JyRCQaXn2siO"
      },
      "source": [
        " #using compile method to search for a string\n",
        " prog= re.compile(r'm\\w\\w') # \\w any character from A to Z or a to z or 0 to 9\n",
        " str1= \"cat mat bat pat\"\n",
        " result= prog.search(str1) #searching for regular expression in str1"
      ],
      "execution_count": null,
      "outputs": []
    },
    {
      "cell_type": "code",
      "metadata": {
        "colab": {
          "base_uri": "https://localhost:8080/"
        },
        "id": "jynC5T5e3tfs",
        "outputId": "cd8e33a6-78d0-4556-86a3-95212c828291"
      },
      "source": [
        "print(result.group())"
      ],
      "execution_count": null,
      "outputs": [
        {
          "output_type": "stream",
          "name": "stdout",
          "text": [
            "mat\n"
          ]
        }
      ]
    },
    {
      "cell_type": "code",
      "metadata": {
        "colab": {
          "base_uri": "https://localhost:8080/"
        },
        "id": "HDt7ODpr3y3D",
        "outputId": "0fc19618-590f-4222-86f9-e727c32fcbfe"
      },
      "source": [
        "#using search() nethod\n",
        "\n",
        "result1= re.search(r'm\\w\\w',str1)\n",
        "print(result1.group())"
      ],
      "execution_count": null,
      "outputs": [
        {
          "output_type": "stream",
          "name": "stdout",
          "text": [
            "mat\n"
          ]
        }
      ]
    },
    {
      "cell_type": "code",
      "metadata": {
        "colab": {
          "base_uri": "https://localhost:8080/"
        },
        "id": "bLOsaLyr7vFw",
        "outputId": "1e25aa4e-a969-4cc1-bedd-279d5d43e9ba"
      },
      "source": [
        "type(result1)"
      ],
      "execution_count": null,
      "outputs": [
        {
          "output_type": "execute_result",
          "data": {
            "text/plain": [
              "re.Match"
            ]
          },
          "metadata": {},
          "execution_count": 17
        }
      ]
    },
    {
      "cell_type": "code",
      "metadata": {
        "colab": {
          "base_uri": "https://localhost:8080/"
        },
        "id": "SM9qKd4d4QtZ",
        "outputId": "60e00ac4-f95e-4368-88ba-2114a1d9a060"
      },
      "source": [
        "#Python program to create regular expression to search for strings starting with m using findall()\n",
        "\n",
        "import re\n",
        "str2= \"man sun mop m4s mp4\"\n",
        "result3= re.findall(r'm\\w\\w', str2) \n",
        "print(result3)\n"
      ],
      "execution_count": null,
      "outputs": [
        {
          "output_type": "stream",
          "name": "stdout",
          "text": [
            "['man', 'mop', 'm4s', 'mp4']\n"
          ]
        }
      ]
    },
    {
      "cell_type": "code",
      "metadata": {
        "colab": {
          "base_uri": "https://localhost:8080/"
        },
        "id": "h3BkhtdC7qSa",
        "outputId": "2859061a-a08a-42cd-91ca-99e19be6ff87"
      },
      "source": [
        "type(result3)"
      ],
      "execution_count": null,
      "outputs": [
        {
          "output_type": "execute_result",
          "data": {
            "text/plain": [
              "list"
            ]
          },
          "metadata": {},
          "execution_count": 15
        }
      ]
    },
    {
      "cell_type": "code",
      "metadata": {
        "id": "xJtLdV0Z5b2b"
      },
      "source": [
        "#Python program using match() to search for a string starting with m and having total 3 characters\n",
        "\n",
        "import re\n",
        "sentence1= \"man sun mop m4s mp4\"\n",
        "sentence2= \"cat mat bat pat\"\n"
      ],
      "execution_count": null,
      "outputs": []
    },
    {
      "cell_type": "code",
      "metadata": {
        "colab": {
          "base_uri": "https://localhost:8080/"
        },
        "id": "UOq9nzaE6DEX",
        "outputId": "e7376601-cf86-4b1d-a3a7-77c6796899bc"
      },
      "source": [
        "result1= re.match(r'm\\w\\w', sentence1)\n",
        "print(result1.group())"
      ],
      "execution_count": null,
      "outputs": [
        {
          "output_type": "stream",
          "name": "stdout",
          "text": [
            "man\n"
          ]
        }
      ]
    },
    {
      "cell_type": "code",
      "metadata": {
        "colab": {
          "base_uri": "https://localhost:8080/"
        },
        "id": "LAys_0eL717R",
        "outputId": "36c7084e-7a38-4380-813b-d397f3d67c6f"
      },
      "source": [
        "type(result1)"
      ],
      "execution_count": null,
      "outputs": [
        {
          "output_type": "execute_result",
          "data": {
            "text/plain": [
              "re.Match"
            ]
          },
          "metadata": {},
          "execution_count": 19
        }
      ]
    },
    {
      "cell_type": "code",
      "metadata": {
        "id": "azcDGE5p6QCP"
      },
      "source": [
        "result2=re.match(r'm\\w\\w',sentence2 )\n",
        "print(result2)"
      ],
      "execution_count": null,
      "outputs": []
    },
    {
      "cell_type": "code",
      "metadata": {
        "colab": {
          "base_uri": "https://localhost:8080/"
        },
        "id": "rNs4nQVK6qe-",
        "outputId": "f3620a66-58c3-40f0-fce0-cf659fd2ae5a"
      },
      "source": [
        "#program to split string into pieces where one or more non alpha numeric characters are found\n",
        "\n",
        "import re\n",
        "string = \"This;is?%#the:Python\\'s?book\"\n",
        "result4= re.split(r'\\W+',string)\n",
        "print(result4)"
      ],
      "execution_count": null,
      "outputs": [
        {
          "output_type": "stream",
          "name": "stdout",
          "text": [
            "['This', 'is', 'the', 'Python', 's', 'book']\n"
          ]
        }
      ]
    },
    {
      "cell_type": "code",
      "metadata": {
        "colab": {
          "base_uri": "https://localhost:8080/"
        },
        "id": "HHukD8vo8kiv",
        "outputId": "485bcf31-6e0b-481f-deb1-eb9c10a3065b"
      },
      "source": [
        "#program to create a regular expression to replace a string with a new string using sub()\n",
        "\n",
        "statement= \"Kumbhmela will be conducted in Ahemdabad in India\"\n",
        "res= re.sub(r'Ahemdabad', 'Allahabad', statement)\n",
        "print(res)"
      ],
      "execution_count": null,
      "outputs": [
        {
          "output_type": "stream",
          "name": "stdout",
          "text": [
            "Kumbhmela will be conducted in Allahabad in India\n"
          ]
        }
      ]
    },
    {
      "cell_type": "code",
      "metadata": {
        "colab": {
          "base_uri": "https://localhost:8080/"
        },
        "id": "uUnClIF0-LxW",
        "outputId": "17b5af59-cc02-4042-dcbb-8518ffe628aa"
      },
      "source": [
        "#Program to retrieve all the words starting with \"a\" in the given sentence\n",
        "\n",
        "import re\n",
        "\n",
        "statement1= \"an apple a day keeps the doctor away\"\n",
        "res1= re.findall(r'a[\\w]*', statement1)\n",
        "print(res1)"
      ],
      "execution_count": null,
      "outputs": [
        {
          "output_type": "stream",
          "name": "stdout",
          "text": [
            "['an', 'apple', 'a', 'ay', 'away']\n"
          ]
        }
      ]
    },
    {
      "cell_type": "code",
      "metadata": {
        "colab": {
          "base_uri": "https://localhost:8080/"
        },
        "id": "IB0pH6HD_rT3",
        "outputId": "f0fd188d-1d14-426c-e7eb-945660d07d1e"
      },
      "source": [
        "#Program to retrieve all the words starting with \"a\" in the given sentence\n",
        "\n",
        "import re\n",
        "\n",
        "statement1= \"an apple a day keeps the doctor away\"\n",
        "res2= re.findall(r'\\ba[\\w]*\\b', statement1)\n",
        "print(res2)"
      ],
      "execution_count": null,
      "outputs": [
        {
          "output_type": "stream",
          "name": "stdout",
          "text": [
            "['an', 'apple', 'a', 'away']\n"
          ]
        }
      ]
    },
    {
      "cell_type": "code",
      "metadata": {
        "colab": {
          "base_uri": "https://localhost:8080/"
        },
        "id": "gf6a-_4fADmd",
        "outputId": "5b6618af-b108-49b8-a507-d2238e09c580"
      },
      "source": [
        "#program to retrive all the words having _lenght of 3 characters\n",
        "\n",
        "import re\n",
        "words= \"one two three four five six seven eight 9 10 11\"\n",
        "result= re.findall(r'\\b\\w{3}\\b', words)\n",
        "print(result)"
      ],
      "execution_count": null,
      "outputs": [
        {
          "output_type": "stream",
          "name": "stdout",
          "text": [
            "['one', 'two', 'six']\n"
          ]
        }
      ]
    },
    {
      "cell_type": "code",
      "metadata": {
        "id": "yjFeeRZQBBIx",
        "colab": {
          "base_uri": "https://localhost:8080/"
        },
        "outputId": "8366d41b-0cb8-41e7-8f8f-7b83a42dbe05"
      },
      "source": [
        "#program to retrive all the words having _length greater than three characters\n",
        "import re\n",
        "words= \"one two three four five six seven eight 9 10 11\"\n",
        "result= re.findall(r'\\b\\w{3,}\\b', words)\n",
        "print(result)"
      ],
      "execution_count": null,
      "outputs": [
        {
          "output_type": "stream",
          "name": "stdout",
          "text": [
            "['one', 'two', 'three', 'four', 'five', 'six', 'seven', 'eight']\n"
          ]
        }
      ]
    },
    {
      "cell_type": "code",
      "metadata": {
        "colab": {
          "base_uri": "https://localhost:8080/"
        },
        "id": "suWvFI6JtHSb",
        "outputId": "2eee0bcd-0e57-4d8c-8af9-a4112285a6b5"
      },
      "source": [
        "#program to retrive all the words having _length 3, 4 and 5\n",
        "import re\n",
        "words= \"one two three four five six seven eight 9 10 11\"\n",
        "result= re.findall(r'\\b\\w{3,5}\\b', words)\n",
        "print(result)"
      ],
      "execution_count": null,
      "outputs": [
        {
          "output_type": "stream",
          "name": "stdout",
          "text": [
            "['one', 'two', 'three', 'four', 'five', 'six', 'seven', 'eight']\n"
          ]
        }
      ]
    },
    {
      "cell_type": "code",
      "metadata": {
        "colab": {
          "base_uri": "https://localhost:8080/"
        },
        "id": "olH2tmcQtp4Y",
        "outputId": "8c653439-4ea5-4b20-e8a7-ca25f1d8b96a"
      },
      "source": [
        "#program to retrieve all the words starting with numeric digit\n",
        "\n",
        "import re\n",
        "\n",
        "sentence= \" The class will be conducted on 1st and 3rd Saturday of the 5th month\"\n",
        "res= re.findall(r'\\d[\\w]*', sentence)\n",
        "\n",
        "for word in res:\n",
        "  print(word)"
      ],
      "execution_count": null,
      "outputs": [
        {
          "output_type": "stream",
          "name": "stdout",
          "text": [
            "1st\n",
            "3rd\n",
            "5th\n"
          ]
        }
      ]
    },
    {
      "cell_type": "code",
      "metadata": {
        "colab": {
          "base_uri": "https://localhost:8080/"
        },
        "id": "sb3uKY-yuMmp",
        "outputId": "eb384fc8-3de9-41be-a750-01ab99873659"
      },
      "source": [
        "#program to retive the last word of a string if it starts with \"t\"\n",
        "\n",
        "import re\n",
        "words_list= \"one two four five six seven eight three\"\n",
        "res1= re.findall(r't[\\w]*\\Z', words_list)\n",
        "print(res1)"
      ],
      "execution_count": null,
      "outputs": [
        {
          "output_type": "stream",
          "name": "stdout",
          "text": [
            "['three']\n"
          ]
        }
      ]
    },
    {
      "cell_type": "code",
      "metadata": {
        "colab": {
          "base_uri": "https://localhost:8080/"
        },
        "id": "KXEnZeS5u6wi",
        "outputId": "7cb8d979-de7a-4e58-97e8-7eb4b0be2df2"
      },
      "source": [
        "#program to extract only name but not the number from a string\n",
        "\n",
        "import re\n",
        "\n",
        "string= \"Ami Munshi: 1234567890\"\n",
        "res= re.search(r'\\D+', string)\n",
        "print(res.group())"
      ],
      "execution_count": null,
      "outputs": [
        {
          "output_type": "stream",
          "name": "stdout",
          "text": [
            "Ami Munshi: \n"
          ]
        }
      ]
    },
    {
      "cell_type": "code",
      "metadata": {
        "colab": {
          "base_uri": "https://localhost:8080/"
        },
        "id": "BWOBNKmzwmGQ",
        "outputId": "4d8e9819-8577-4d6c-c75d-f2f3dde4bd3a"
      },
      "source": [
        "# Python program to find all the words starting with \"an\" or \"ak\"\n",
        "\n",
        "import re\n",
        "names= \"anil anant arun akhil akansha aarti ankur abhijit alank\"\n",
        "\n",
        "name_res= re.findall(r'\\ba[nk][\\w]*\\b', names)\n",
        "print(name_res)\n"
      ],
      "execution_count": null,
      "outputs": [
        {
          "output_type": "stream",
          "name": "stdout",
          "text": [
            "['anil', 'anant', 'akhil', 'akansha', 'ankur']\n"
          ]
        }
      ]
    },
    {
      "cell_type": "code",
      "metadata": {
        "colab": {
          "base_uri": "https://localhost:8080/"
        },
        "id": "8vVpjKeuxcHi",
        "outputId": "944209c4-e661-40bd-a98f-5ed90f42853f"
      },
      "source": [
        "#python program to retrieve date of births from a string\n",
        "\n",
        "import re\n",
        "dob_details= \"Vijay 01-5-2020 Sita 2-10-2019 Jeet 12-07-2006\"\n",
        "\n",
        "dob= re.findall(r'\\d{,2}-\\d{,2}-\\d{4}', dob_details)\n",
        "print(dob)"
      ],
      "execution_count": null,
      "outputs": [
        {
          "output_type": "stream",
          "name": "stdout",
          "text": [
            "['01-5-2020', '2-10-2019', '12-07-2006']\n"
          ]
        }
      ]
    },
    {
      "cell_type": "code",
      "metadata": {
        "colab": {
          "base_uri": "https://localhost:8080/"
        },
        "id": "iDuuG6mC0wSh",
        "outputId": "2d7f5808-58a7-4899-e225-b27432f234ab"
      },
      "source": [
        "#Program to retrieve marks form the given string\n",
        "\n",
        "import re\n",
        "marks= \"Math 40 English 35 Science 47 Drawing 30\"\n",
        "\n",
        "print_marks= re.findall(r'\\d+', marks)\n",
        "print(print_marks)"
      ],
      "execution_count": null,
      "outputs": [
        {
          "output_type": "stream",
          "name": "stdout",
          "text": [
            "['40', '35', '47', '30']\n"
          ]
        }
      ]
    },
    {
      "cell_type": "code",
      "metadata": {
        "colab": {
          "base_uri": "https://localhost:8080/"
        },
        "id": "gRd63d-h1uuR",
        "outputId": "0032066c-08ff-44e3-d359-3d79b64cfc74"
      },
      "source": [
        "#Program to retrieve the timings either am or pm\n",
        "\n",
        "import re\n",
        "times= \"The meeting may start at 8am or 9am today or 5pm tomorrow\"\n",
        "print_times= re.findall(r'\\dam|\\dpm', times)\n",
        "print(print_times)"
      ],
      "execution_count": null,
      "outputs": [
        {
          "output_type": "stream",
          "name": "stdout",
          "text": [
            "['8am', '9am', '5pm']\n"
          ]
        }
      ]
    },
    {
      "cell_type": "code",
      "metadata": {
        "id": "gDGO-lUGz5KG"
      },
      "source": [],
      "execution_count": null,
      "outputs": []
    }
  ]
}
