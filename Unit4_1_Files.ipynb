{
  "nbformat": 4,
  "nbformat_minor": 0,
  "metadata": {
    "colab": {
      "name": "Unit4.1_Files.ipynb",
      "provenance": [],
      "collapsed_sections": [],
      "authorship_tag": "ABX9TyPDQPyZQJgx1C53bXk6rrUv",
      "include_colab_link": true
    },
    "kernelspec": {
      "name": "python3",
      "display_name": "Python 3"
    },
    "language_info": {
      "name": "python"
    }
  },
  "cells": [
    {
      "cell_type": "markdown",
      "metadata": {
        "id": "view-in-github",
        "colab_type": "text"
      },
      "source": [
        "<a href=\"https://colab.research.google.com/github/AmiMunshi/Introduction_to_Python_Programming/blob/main/Unit4_1_Files.ipynb\" target=\"_parent\"><img src=\"https://colab.research.google.com/assets/colab-badge.svg\" alt=\"Open In Colab\"/></a>"
      ]
    },
    {
      "cell_type": "markdown",
      "metadata": {
        "id": "zFGig3c616EU"
      },
      "source": [
        "Files\n",
        "\n",
        "To store data, we need files. Place on our computer harddisk where we store our data is called as a file.\n",
        "File handling is an important task and has many applications.\n",
        "Python has several functions for creating, reading,writing updating, and deleting files."
      ]
    },
    {
      "cell_type": "markdown",
      "metadata": {
        "id": "cioOpVJE40Jt"
      },
      "source": [
        "Website references\n",
        "\n",
        "https://www.w3schools.com/python/python_file_handling.asp<br>\n",
        "https://www.javatpoint.com/python-files-io\n"
      ]
    },
    {
      "cell_type": "markdown",
      "metadata": {
        "id": "yGp-f7O-2xJC"
      },
      "source": [
        "Opening a File using open()\n",
        "\n",
        "Python has a built-in open() function to open a file. This function returns a file object, also called a handle, as it is used to read or modify the file accordingly.\n",
        "\n",
        "The open() function takes two parameters; filename, and mode.\n",
        "\n",
        "There are four different methods (modes) for opening a file-\n",
        "\n",
        "\"r\" - Read - Default value. Opens a file for reading, error if the file does not exist\n",
        "\n",
        "\"a\" - Append - Opens a file for appending, creates the file if it does not exist\n",
        "\n",
        "\"w\" - Write - Opens a file for writing, creates the file if it does not exist\n",
        "\n",
        "\"x\" - Create - Creates the specified file, returns an error if the file exists\n",
        "\n",
        "In addition you can specify if the file should be handled as binary or text mode\n",
        "\n",
        "\"t\" - Text - Default value. Text mode\n",
        "\n",
        "\"b\" - Binary - Binary mode (e.g. images)"
      ]
    },
    {
      "cell_type": "code",
      "metadata": {
        "id": "ErI37OGs1dCs",
        "colab": {
          "base_uri": "https://localhost:8080/"
        },
        "outputId": "96c4ec0f-bdcf-4459-9b8f-6fd3fd17b968"
      },
      "source": [
        "#Open a file using \"with\"\n",
        "with open(\"/Hello.txt\", \"r\") as file1:\n",
        "  lines= file1.read()\n",
        "  #print(lines)\n",
        "print(lines)\n"
      ],
      "execution_count": null,
      "outputs": [
        {
          "output_type": "stream",
          "text": [
            "Hello world\n",
            "Hello Python\n",
            "Good morning\n",
            "How are you\n"
          ],
          "name": "stdout"
        }
      ]
    },
    {
      "cell_type": "code",
      "metadata": {
        "colab": {
          "base_uri": "https://localhost:8080/"
        },
        "id": "ujR5F9U04T0x",
        "outputId": "c8445271-ffe1-4d2d-889e-b82d61ed788a"
      },
      "source": [
        "#Using readlines() method\n",
        "with open(\"/Hello.txt\", \"r\") as file2:\n",
        "  lines= file2.readlines()\n",
        "  print(lines)\n",
        "#print(lines)"
      ],
      "execution_count": null,
      "outputs": [
        {
          "output_type": "stream",
          "text": [
            "['Hello world\\n', 'Hello Python\\n', 'Good morning\\n', 'How are you']\n"
          ],
          "name": "stdout"
        }
      ]
    },
    {
      "cell_type": "code",
      "metadata": {
        "colab": {
          "base_uri": "https://localhost:8080/"
        },
        "id": "FTn183-F6jvz",
        "outputId": "c126839a-3cdf-4bc7-9a9f-906e4a2f9d7e"
      },
      "source": [
        "#Printing line by line\n",
        "with open(\"/Hello.txt\", \"r\") as file3:\n",
        "  for line in file3.readlines():\n",
        " \n",
        "    print(line)\n"
      ],
      "execution_count": null,
      "outputs": [
        {
          "output_type": "stream",
          "text": [
            "Hello world\n",
            "\n",
            "Hello Python\n",
            "\n",
            "Good morning\n",
            "\n",
            "How are you\n"
          ],
          "name": "stdout"
        }
      ]
    },
    {
      "cell_type": "code",
      "metadata": {
        "id": "9so4EhMh4LYO"
      },
      "source": [
        "#Reading line by line\n",
        "with open(\"/Hello.txt\", \"r\") as file4:\n",
        "  for line in file4:\n",
        "     print(line)\n",
        "    "
      ],
      "execution_count": null,
      "outputs": []
    },
    {
      "cell_type": "code",
      "metadata": {
        "colab": {
          "base_uri": "https://localhost:8080/"
        },
        "id": "uqNiKm4y7r-d",
        "outputId": "b179a675-5b1b-41d1-af33-5711c629c1de"
      },
      "source": [
        "#Reading characters by one from a file\n",
        "with open(\"/Hello.txt\", \"r\") as file5:\n",
        "  for char in file5.readline():\n",
        "    print(char)"
      ],
      "execution_count": null,
      "outputs": [
        {
          "output_type": "stream",
          "text": [
            "H\n",
            "e\n",
            "l\n",
            "l\n",
            "o\n",
            " \n",
            "w\n",
            "o\n",
            "r\n",
            "l\n",
            "d\n",
            "\n",
            "\n"
          ],
          "name": "stdout"
        }
      ]
    },
    {
      "cell_type": "code",
      "metadata": {
        "id": "U4IOwsi4z_dA"
      },
      "source": [
        ""
      ],
      "execution_count": null,
      "outputs": []
    },
    {
      "cell_type": "code",
      "metadata": {
        "colab": {
          "base_uri": "https://localhost:8080/"
        },
        "id": "QEJELdNS7-Iz",
        "outputId": "a6c202c5-df08-43b0-c041-bffdb373d9c7"
      },
      "source": [
        "# Writing into a file\n",
        "\n",
        "file6= open(\"test.txt\", \"w\")\n",
        "file6.write(\"I am learning Python\")\n",
        "file6.write(\"I find it interesting\")"
      ],
      "execution_count": null,
      "outputs": [
        {
          "output_type": "execute_result",
          "data": {
            "text/plain": [
              "21"
            ]
          },
          "metadata": {},
          "execution_count": 31
        }
      ]
    },
    {
      "cell_type": "code",
      "metadata": {
        "colab": {
          "base_uri": "https://localhost:8080/"
        },
        "id": "5xKXxT7h9DMj",
        "outputId": "97a7119f-c428-4d58-a3d8-be3735ec42bb"
      },
      "source": [
        "#Write multiple statements from the user in the file\n",
        "with open(\"Test2.txt\",\"w\")as file7:\n",
        "  iter=4\n",
        "  for i in range(4):\n",
        "    txt= input(\"Enter the details\") +\"\\n\"\n",
        "    file7.write(txt)\n"
      ],
      "execution_count": null,
      "outputs": [
        {
          "output_type": "stream",
          "text": [
            "Enter the detailsAmi\n",
            "Enter the detailsMunshi\n",
            "Enter the detailsNMIMS\n",
            "Enter the detailsUniversity\n"
          ],
          "name": "stdout"
        }
      ]
    },
    {
      "cell_type": "code",
      "metadata": {
        "colab": {
          "base_uri": "https://localhost:8080/"
        },
        "id": "4zKcb8qu0EwE",
        "outputId": "35684de1-6366-4fe3-ecdd-bf5a9eab7a0b"
      },
      "source": [
        "#Take multiple lines from the user in the file\n",
        "new= open(\"new_file\",\"w\")\n",
        "char=\"\"\n",
        "\n",
        "while char != \"#\":\n",
        "  char= input(\"Enter the text: \")\n",
        "  if (char!= \"#\"):\n",
        "    new.write(char +\"\\n\")\n"
      ],
      "execution_count": null,
      "outputs": [
        {
          "output_type": "stream",
          "text": [
            "Enter the text: Ami\n",
            "Enter the text: Munshi\n",
            "Enter the text: #\n"
          ],
          "name": "stdout"
        }
      ]
    },
    {
      "cell_type": "code",
      "metadata": {
        "id": "gsGektOB9IRI"
      },
      "source": [
        "# Append some text to the existing file\n",
        "with open(\"Test2.txt\",\"a\") as file8:\n",
        "  file8.write(\"Mumbai\")\n"
      ],
      "execution_count": null,
      "outputs": []
    },
    {
      "cell_type": "code",
      "metadata": {
        "id": "gWu8O6j_YkV1"
      },
      "source": [
        "#Delete a file\n",
        "import os\n",
        "os.remove(\"Test2.txt\")"
      ],
      "execution_count": null,
      "outputs": []
    },
    {
      "cell_type": "code",
      "metadata": {
        "colab": {
          "base_uri": "https://localhost:8080/"
        },
        "id": "zajjOgdDZWlq",
        "outputId": "cde871e9-5353-4ea7-ab7d-805e0ed5ba35"
      },
      "source": [
        "#Check if the file exists\n",
        "import os\n",
        "if os.path.exists(\"test2.txt\"):\n",
        " print(\"Yes\")\n",
        "else:\n",
        "  print(\"The file does not exist\")"
      ],
      "execution_count": null,
      "outputs": [
        {
          "output_type": "stream",
          "text": [
            "The file does not exist\n"
          ],
          "name": "stdout"
        }
      ]
    },
    {
      "cell_type": "code",
      "metadata": {
        "id": "H7y89TMxQRzw"
      },
      "source": [
        "#copy an image into another file\n",
        "#Open files in binary mode\n",
        "I1= open(\"Test.tif\",\"rb\")\n",
        "I2= open(\"new.tif\",\"wb\")\n",
        "\n",
        "#Read bytes from I1 and write to I2\n",
        "pixels= I1.read()\n",
        "I2.write(pixels)\n",
        "\n",
        "I1.close()\n",
        "I2.close()\n",
        "\n"
      ],
      "execution_count": null,
      "outputs": []
    },
    {
      "cell_type": "markdown",
      "metadata": {
        "id": "aGi6a4ivJH6i"
      },
      "source": [
        "seek() and tell()<br>\n",
        "The functions that we have learnt till now are used to\n",
        "access the data sequentially from a file. But if we want\n",
        "to access data in a random fashion, then Python gives\n",
        "us seek() and tell() functions to do so\n",
        "\n",
        "The tell() method\n",
        "This function returns an integer that specifies the\n",
        "current position of the file object in the file. The position\n",
        "so specified is the byte position from the beginning of\n",
        "the file till the current position of the file object. The\n",
        "syntax of using tell() is:\n",
        "file_object.tell()\n",
        "\n",
        "The seek() method\n",
        "This method is used to position the file object at a\n",
        "particular position in a file. The syntax of seek() is:\n",
        "file_object.seek(offset, fromwhere)\n",
        "In the above syntax, offset is the number of bytes by\n",
        "which the file object is to be moved. fromwhere\n",
        "indicates the starting position of the file object. That is,\n",
        "with reference to which position, the offset has to be\n",
        "counted. It can have any of the following values:\n",
        "0 - beginning of the file\n",
        "1 - current position of the file\n",
        "2 - end of file\n",
        "By default, the value of reference_point is 0, i.e.\n",
        "the offset is counted from the beginning of the file. For\n",
        "example, the statement fileObject.seek(5,0) will\n",
        "position the file object at 5th byte position from the\n",
        "beginning of the file. <br>\n",
        "\n",
        "\n",
        "To know the position of the pointer, we can use tell() method\n",
        "\n",
        "To move the the pointer to a paticular location, we can use seek() method"
      ]
    },
    {
      "cell_type": "code",
      "metadata": {
        "colab": {
          "base_uri": "https://localhost:8080/"
        },
        "id": "0XpGHMlaKyb1",
        "outputId": "9a4cd637-a39d-4ee7-e3e4-c56a340950d6"
      },
      "source": [
        "f= open(\"/content/Hello.txt\", \"r+b\")\n",
        "f.seek(14,0)  # here offset is 10, and from where is 0. So from the beginning the file pointer will move to the 11th byte(10+1) from the beginning. \n"
      ],
      "execution_count": null,
      "outputs": [
        {
          "output_type": "execute_result",
          "data": {
            "text/plain": [
              "14"
            ]
          },
          "metadata": {},
          "execution_count": 10
        }
      ]
    },
    {
      "cell_type": "code",
      "metadata": {
        "colab": {
          "base_uri": "https://localhost:8080/"
        },
        "id": "BsjzdUKRL4Q1",
        "outputId": "3ad41fc5-cea9-4c13-efb1-3f3193326151"
      },
      "source": [
        "#print(f.readline())"
      ],
      "execution_count": null,
      "outputs": [
        {
          "output_type": "stream",
          "name": "stdout",
          "text": [
            "b'ello Python\\r\\n'\n"
          ]
        }
      ]
    },
    {
      "cell_type": "code",
      "metadata": {
        "id": "5JP5JT6yQyrU",
        "colab": {
          "base_uri": "https://localhost:8080/"
        },
        "outputId": "88c745d5-e17a-4490-b0fa-324b795845a2"
      },
      "source": [
        "print(f.tell())"
      ],
      "execution_count": null,
      "outputs": [
        {
          "output_type": "stream",
          "name": "stdout",
          "text": [
            "14\n"
          ]
        }
      ]
    },
    {
      "cell_type": "markdown",
      "metadata": {
        "id": "mtrNeI0-IwUx"
      },
      "source": [
        "Pickle in Python"
      ]
    },
    {
      "cell_type": "markdown",
      "metadata": {
        "id": "eL8w9YV7NXZz"
      },
      "source": [
        "Pickling is the serializing and de-serializing of python objects to a byte stream.Pickling is used to store python objects. This means things like lists, dictionaries, class objects, and more\n",
        "\n",
        "Pickling is a process of converting a class object into byte stream so that it can be stored into a file"
      ]
    },
    {
      "cell_type": "code",
      "metadata": {
        "id": "Sb4gyUJdOBJ5"
      },
      "source": [
        "#Example 1\n",
        "#create a pickle file (serialization)\n",
        "import pickle\n",
        "\n",
        "employee = {1:\"Ram\",2:\"Raj\",3:\"Rahul\"}  #Pickle the dictionary data type\n",
        "\n",
        "employee_pickle = open(\"employee_details\",\"wb\") #create a new file employee_details. file object name is employee_pickle\n",
        "pickle.dump(employee, employee_pickle) # pickle.dump(object, file)\n",
        "employee_pickle.close() #Close the file object"
      ],
      "execution_count": null,
      "outputs": []
    },
    {
      "cell_type": "code",
      "metadata": {
        "colab": {
          "base_uri": "https://localhost:8080/"
        },
        "id": "IogVEIczOmgX",
        "outputId": "23bdeabe-21ec-4480-d8b1-52d566783fc5"
      },
      "source": [
        "#Access the pickled file\n",
        "\n",
        "pickle_out = open(\"employee_details\",\"rb\")\n",
        "employee_out = pickle.load(pickle_out)\n",
        "print(employee_out)"
      ],
      "execution_count": null,
      "outputs": [
        {
          "output_type": "stream",
          "name": "stdout",
          "text": [
            "{1: 'Ram', 2: 'Raj', 3: 'Rahul'}\n"
          ]
        }
      ]
    },
    {
      "cell_type": "code",
      "metadata": {
        "id": "h3O1iu5KSMHf"
      },
      "source": [
        "#Example 2\n",
        "\n",
        "import pickle\n",
        "lst1 = ['mango', 'grapes', 'orange', 'banana']\n",
        "with open('lstfile.txt', 'wb') as f:\n",
        "   pickle.dump(lst1, f)"
      ],
      "execution_count": null,
      "outputs": []
    },
    {
      "cell_type": "code",
      "metadata": {
        "id": "sYGgtyfoQpk0"
      },
      "source": [
        ""
      ],
      "execution_count": null,
      "outputs": []
    }
  ]
}