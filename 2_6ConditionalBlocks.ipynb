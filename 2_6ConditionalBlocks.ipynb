{
  "nbformat": 4,
  "nbformat_minor": 0,
  "metadata": {
    "colab": {
      "name": "Unit2.6ConditionalBlocks.ipynb",
      "provenance": [],
      "authorship_tag": "ABX9TyM7wMAOhvlQiitAZEQG9siV",
      "include_colab_link": true
    },
    "kernelspec": {
      "name": "python3",
      "display_name": "Python 3"
    },
    "language_info": {
      "name": "python"
    }
  },
  "cells": [
    {
      "cell_type": "markdown",
      "metadata": {
        "id": "view-in-github",
        "colab_type": "text"
      },
      "source": [
        "<a href=\"https://colab.research.google.com/github/AmiMunshi/Introduction_to_Python_Programming/blob/main/Unit2_6ConditionalBlocks.ipynb\" target=\"_parent\"><img src=\"https://colab.research.google.com/assets/colab-badge.svg\" alt=\"Open In Colab\"/></a>"
      ]
    },
    {
      "cell_type": "markdown",
      "metadata": {
        "id": "UJS9esdyfgpt"
      },
      "source": [
        "###Conditional Blocks. \n",
        "\n",
        "It involves decision making. If given condition is True, a decision is made to run one block of program. If the decision is false, some other block of code is executed\n"
      ]
    },
    {
      "cell_type": "markdown",
      "metadata": {
        "id": "OFag7E2MgEo8"
      },
      "source": [
        "If,Else, Elif"
      ]
    },
    {
      "cell_type": "markdown",
      "metadata": {
        "id": "yXdJ_S_-gPtn"
      },
      "source": [
        "Simple If statement"
      ]
    },
    {
      "cell_type": "code",
      "metadata": {
        "colab": {
          "base_uri": "https://localhost:8080/"
        },
        "id": "e6e6JFKygHRo",
        "outputId": "56d78e91-1c39-41c4-fa59-8f606702ac53"
      },
      "source": [
        "marks= input(\"Enter your marks between 1 to 100: \")\n",
        "marks=int(marks)\n",
        "if 50<= marks<= 70:\n",
        "  print(\"Your marks are satisfactory\")"
      ],
      "execution_count": null,
      "outputs": [
        {
          "output_type": "stream",
          "text": [
            "Enter your marks between 1 to 100: 40\n"
          ],
          "name": "stdout"
        }
      ]
    },
    {
      "cell_type": "markdown",
      "metadata": {
        "id": "duV3G9-Fg3dI"
      },
      "source": [
        "If-Else"
      ]
    },
    {
      "cell_type": "code",
      "metadata": {
        "colab": {
          "base_uri": "https://localhost:8080/"
        },
        "id": "DFn8o-yJgzRF",
        "outputId": "2857212a-f99c-4ff4-bbe9-f192295f1e0c"
      },
      "source": [
        "marks= input(\"Enter your marks between 1 to 100: \")\n",
        "marks=int(marks)\n",
        "if marks<=50:\n",
        "  print(\"Your marks are poor\")\n",
        "else:\n",
        "  print(\"Your marks are good\")\n"
      ],
      "execution_count": null,
      "outputs": [
        {
          "output_type": "stream",
          "text": [
            "Enter your marks between 1 to 100: 70\n",
            "Your marks are good\n"
          ],
          "name": "stdout"
        }
      ]
    },
    {
      "cell_type": "markdown",
      "metadata": {
        "id": "c70aFMCLhjp2"
      },
      "source": [
        "If, Else,Elif"
      ]
    },
    {
      "cell_type": "code",
      "metadata": {
        "colab": {
          "base_uri": "https://localhost:8080/"
        },
        "id": "Ht1sdGrYhmJP",
        "outputId": "c64656e6-f940-40f0-831d-0a7e6d49542e"
      },
      "source": [
        "marks= input(\"Enter your marks between 1 to 100: \")\n",
        "marks=int(marks)\n",
        "if marks<=50:\n",
        "  print(\"Your marks are poor!\")\n",
        "elif 50<marks<=70:\n",
        "  print(\"Your marks are satisfactory!\")\n",
        "else:\n",
        "  print(\"Your marks are excellent!\")"
      ],
      "execution_count": null,
      "outputs": [
        {
          "output_type": "stream",
          "text": [
            "Enter your marks between 1 to 100: 80\n",
            "Your marks are excellent\n"
          ],
          "name": "stdout"
        }
      ]
    },
    {
      "cell_type": "markdown",
      "metadata": {
        "id": "Uur7QKS7iqHK"
      },
      "source": [
        "Nested If"
      ]
    },
    {
      "cell_type": "code",
      "metadata": {
        "colab": {
          "base_uri": "https://localhost:8080/"
        },
        "id": "_N-47KG5isUH",
        "outputId": "0f413f8d-412f-4a4f-8917-8859a7c1d77d"
      },
      "source": [
        "age, gender= input (\"Enter your age and gender(M/F) separated by a comma: \").split(\",\")\n",
        "age=int(age)\n",
        "if gender==\"F\":\n",
        "  if age <=40:\n",
        "    print(\"You are in group F1\")\n",
        "  else:\n",
        "    print(\"You are in group F2\")\n",
        "else:\n",
        "  if age<=40:\n",
        "    print(\"You are in group M1\")\n",
        "  else:\n",
        "    print(\"You are in group M2\")\n",
        "\n"
      ],
      "execution_count": null,
      "outputs": [
        {
          "output_type": "stream",
          "text": [
            "Enter your age and gender(M/F) separated by a comma: 45,M\n",
            "You are in group M2\n"
          ],
          "name": "stdout"
        }
      ]
    },
    {
      "cell_type": "code",
      "metadata": {
        "id": "rQVe5Cp0hcZS"
      },
      "source": [
        "age"
      ],
      "execution_count": null,
      "outputs": []
    },
    {
      "cell_type": "code",
      "metadata": {
        "id": "bUcJ2Ev-kG3v"
      },
      "source": [
        "gender"
      ],
      "execution_count": null,
      "outputs": []
    },
    {
      "cell_type": "code",
      "metadata": {
        "id": "k2Awjq_ikP51"
      },
      "source": [
        "# Write a program to know if the given number is positive, negative or zero using if-elif-else"
      ],
      "execution_count": null,
      "outputs": []
    },
    {
      "cell_type": "code",
      "metadata": {
        "id": "6D7iVC7vmWxH"
      },
      "source": [
        ""
      ],
      "execution_count": null,
      "outputs": []
    }
  ]
}
