{
  "nbformat": 4,
  "nbformat_minor": 0,
  "metadata": {
    "colab": {
      "name": "Unit3.5_ReduceZipEnumerate.ipynb",
      "provenance": [],
      "authorship_tag": "ABX9TyOMhSGUeJRGV6dKZFPuGnNV",
      "include_colab_link": true
    },
    "kernelspec": {
      "name": "python3",
      "display_name": "Python 3"
    },
    "language_info": {
      "name": "python"
    }
  },
  "cells": [
    {
      "cell_type": "markdown",
      "metadata": {
        "id": "view-in-github",
        "colab_type": "text"
      },
      "source": [
        "<a href=\"https://colab.research.google.com/github/AmiMunshi/Introduction_to_Python_Programming/blob/main/Unit3_5_ReduceZipEnumerate.ipynb\" target=\"_parent\"><img src=\"https://colab.research.google.com/assets/colab-badge.svg\" alt=\"Open In Colab\"/></a>"
      ]
    },
    {
      "cell_type": "markdown",
      "metadata": {
        "id": "TDG3oBy3K53c"
      },
      "source": [
        "reduce()\n",
        "This function  implements a mathematical technique called folding or reduction. <br>\n",
        "It is useful when you need to apply a function to an iterable and reduce it to a single cumulative value\n",
        "\n",
        "Note reduce is a function in functools package. So import it from functool"
      ]
    },
    {
      "cell_type": "code",
      "metadata": {
        "id": "AohrLxDfKetm"
      },
      "source": [
        "#Multiply all the numbers in the list to obtain the final product\n",
        "from functools import reduce\n"
      ],
      "execution_count": null,
      "outputs": []
    },
    {
      "cell_type": "code",
      "metadata": {
        "id": "h97cm7l9lpZt"
      },
      "source": [
        "#Sum all the nos in the list\n",
        "from functools import reduce\n"
      ],
      "execution_count": null,
      "outputs": []
    },
    {
      "cell_type": "code",
      "metadata": {
        "id": "gx8IR3KfmlBU"
      },
      "source": [
        "#Find minimum number in the list\n",
        "\n"
      ],
      "execution_count": null,
      "outputs": []
    },
    {
      "cell_type": "code",
      "metadata": {
        "id": "f9hflaN6mynD"
      },
      "source": [
        ""
      ],
      "execution_count": null,
      "outputs": []
    },
    {
      "cell_type": "code",
      "metadata": {
        "id": "OIxbt_lznpaW"
      },
      "source": [
        "#WAP to find perimeter of the given quadrilateral when the lengths of each side is given"
      ],
      "execution_count": null,
      "outputs": []
    },
    {
      "cell_type": "markdown",
      "metadata": {
        "id": "JwvvWb08nkza"
      },
      "source": [
        "zip()\n",
        "Python’s zip() function is defined as zip(*iterables). The function takes in iterables as arguments and returns an iterator. This iterator generates a series of tuples containing elements from each iterable. zip() can accept any type of iterable, such as files, lists, tuples, dictionaries, sets, and so on"
      ]
    },
    {
      "cell_type": "code",
      "metadata": {
        "id": "wOqv3ilgm0Zg"
      },
      "source": [
        "#Put student_name, marks and standard in a tuple\n"
      ],
      "execution_count": null,
      "outputs": []
    },
    {
      "cell_type": "markdown",
      "metadata": {
        "id": "KFfXlWz5NHPr"
      },
      "source": [
        "enumerate()\n",
        "The enumerate() method adds a counter to an iterable and returns it (the enumerate object).\n",
        "The firstindex value will start from 0. You can also specify the startindex by using the optional parameter startIndex in enumerate."
      ]
    },
    {
      "cell_type": "code",
      "metadata": {
        "colab": {
          "base_uri": "https://localhost:8080/"
        },
        "id": "NVKTnpW3M6Xa",
        "outputId": "f72d20c2-f6df-498c-8d7d-019805f5c17e"
      },
      "source": [
        "#Enumerate example\n"
      ],
      "execution_count": null,
      "outputs": [
        {
          "output_type": "stream",
          "text": [
            "[(0, 'Hindi'), (1, 'English'), (2, 'Sanskrit')]\n"
          ],
          "name": "stdout"
        }
      ]
    },
    {
      "cell_type": "code",
      "metadata": {
        "id": "q8eIyXLCNus0"
      },
      "source": [
        "#Use enumerate\n",
        "x = ('apple', 'banana', 'cherry')\n"
      ],
      "execution_count": null,
      "outputs": []
    }
  ]
}