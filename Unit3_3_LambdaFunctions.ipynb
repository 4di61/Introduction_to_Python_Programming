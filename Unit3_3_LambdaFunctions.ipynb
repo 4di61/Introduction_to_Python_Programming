{
  "nbformat": 4,
  "nbformat_minor": 0,
  "metadata": {
    "colab": {
      "name": "Unit3.3_LambdaFunctions.ipynb",
      "provenance": [],
      "authorship_tag": "ABX9TyP6fj2O9ASXMKhAthkopUD0",
      "include_colab_link": true
    },
    "kernelspec": {
      "name": "python3",
      "display_name": "Python 3"
    },
    "language_info": {
      "name": "python"
    }
  },
  "cells": [
    {
      "cell_type": "markdown",
      "metadata": {
        "id": "view-in-github",
        "colab_type": "text"
      },
      "source": [
        "<a href=\"https://colab.research.google.com/github/AmiMunshi/Introduction_to_Python_Programming/blob/main/Unit3_3_LambdaFunctions.ipynb\" target=\"_parent\"><img src=\"https://colab.research.google.com/assets/colab-badge.svg\" alt=\"Open In Colab\"/></a>"
      ]
    },
    {
      "cell_type": "markdown",
      "metadata": {
        "id": "GW6lGKW8FbgI"
      },
      "source": [
        "Lambda Functions<br>\n",
        "\n",
        "A lambda function is a small anonymous function.\n",
        "\n",
        "A lambda function can take any number of arguments, but can only have one expression.\n",
        "\n",
        "They do not use def of return key words. These are implicit in lambda\n",
        "\n"
      ]
    },
    {
      "cell_type": "code",
      "metadata": {
        "id": "JVo2aO2kGCDR"
      },
      "source": [
        "#Function to find cube of a number\n",
        "def cube(x):\n",
        "  return x**3"
      ],
      "execution_count": null,
      "outputs": []
    },
    {
      "cell_type": "code",
      "metadata": {
        "colab": {
          "base_uri": "https://localhost:8080/"
        },
        "id": "kNRCkY3PGLAf",
        "outputId": "0c075ed6-ec53-4103-f307-45e251e68c34"
      },
      "source": [
        "x= int(input(\"Enter the number: \"))\n",
        "print(\"Cube of the number {} is {}\".format(x,cube(x)))"
      ],
      "execution_count": null,
      "outputs": [
        {
          "output_type": "stream",
          "text": [
            "Enter the number: 5\n",
            "Cube of the number 5 is 125\n"
          ],
          "name": "stdout"
        }
      ]
    },
    {
      "cell_type": "code",
      "metadata": {
        "id": "5cR198_bFThi"
      },
      "source": [
        "#lambda function to find cube of a number\n",
        "\n"
      ],
      "execution_count": null,
      "outputs": []
    },
    {
      "cell_type": "code",
      "metadata": {
        "id": "JQaFlnD2KfmH"
      },
      "source": [
        ""
      ],
      "execution_count": null,
      "outputs": []
    },
    {
      "cell_type": "code",
      "metadata": {
        "id": "FAkgVKBcF4tM"
      },
      "source": [
        "# Function with two values passed in\n",
        "\n",
        "def add_num(x,y):\n",
        "  return x+y"
      ],
      "execution_count": null,
      "outputs": []
    },
    {
      "cell_type": "code",
      "metadata": {
        "colab": {
          "base_uri": "https://localhost:8080/"
        },
        "id": "qMeA9mgCMEEc",
        "outputId": "248c6b98-32f4-4749-9f2c-b4e1b8eb86d0"
      },
      "source": [
        "a,b= input(\"Enter two integers separated by comma \").split(\",\")\n",
        "print(add_num(int(a),int(b)))"
      ],
      "execution_count": null,
      "outputs": [
        {
          "output_type": "stream",
          "text": [
            "Enter two integers separated by comma 3,-7\n",
            "-4\n"
          ],
          "name": "stdout"
        }
      ]
    },
    {
      "cell_type": "code",
      "metadata": {
        "id": "4APk3hEDMadK"
      },
      "source": [
        "#Lambda function with two variables\n"
      ],
      "execution_count": null,
      "outputs": []
    },
    {
      "cell_type": "code",
      "metadata": {
        "id": "XJEJdOVsMuej"
      },
      "source": [
        ""
      ],
      "execution_count": null,
      "outputs": []
    },
    {
      "cell_type": "code",
      "metadata": {
        "id": "o9I7CNVFMw9C"
      },
      "source": [
        "#Function to find max of two numbers\n",
        "\n",
        "def max_num(x,y):\n",
        "  if x>y:\n",
        "    return x\n",
        "  else:\n",
        "    return y\n"
      ],
      "execution_count": null,
      "outputs": []
    },
    {
      "cell_type": "code",
      "metadata": {
        "colab": {
          "base_uri": "https://localhost:8080/"
        },
        "id": "qpDleOdjNLt3",
        "outputId": "750394b7-f588-45f6-edfc-809c5384ffaf"
      },
      "source": [
        "a,b= input(\"Enter two integers separated by comma \").split(\",\")\n",
        "print(max_num(int(a), int(b)))"
      ],
      "execution_count": null,
      "outputs": [
        {
          "output_type": "stream",
          "text": [
            "Enter two integers separated by comma 4,-7\n",
            "4\n"
          ],
          "name": "stdout"
        }
      ]
    },
    {
      "cell_type": "code",
      "metadata": {
        "id": "iXFHjjPTNbBk"
      },
      "source": [
        "#Print max of two numbers using lambda function\n"
      ],
      "execution_count": null,
      "outputs": []
    },
    {
      "cell_type": "code",
      "metadata": {
        "id": "M0xRzQ9BNsxz"
      },
      "source": [
        ""
      ],
      "execution_count": null,
      "outputs": []
    },
    {
      "cell_type": "code",
      "metadata": {
        "id": "Xl9wfFMS8rJN"
      },
      "source": [
        ""
      ],
      "execution_count": null,
      "outputs": []
    }
  ]
}