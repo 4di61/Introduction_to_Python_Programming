{
  "nbformat": 4,
  "nbformat_minor": 0,
  "metadata": {
    "colab": {
      "name": "Practice_Problems1.ipynb",
      "provenance": [],
      "authorship_tag": "ABX9TyPYTQTQNYUYvypdCbGiEXNa",
      "include_colab_link": true
    },
    "kernelspec": {
      "name": "python3",
      "display_name": "Python 3"
    },
    "language_info": {
      "name": "python"
    }
  },
  "cells": [
    {
      "cell_type": "markdown",
      "metadata": {
        "id": "view-in-github",
        "colab_type": "text"
      },
      "source": [
        "<a href=\"https://colab.research.google.com/github/AmiMunshi/Introduction_to_Python_Programming/blob/main/Practice_Problems1.ipynb\" target=\"_parent\"><img src=\"https://colab.research.google.com/assets/colab-badge.svg\" alt=\"Open In Colab\"/></a>"
      ]
    },
    {
      "cell_type": "markdown",
      "metadata": {
        "id": "J0vs7MFe14WI"
      },
      "source": [
        "**Problem1**<br>\n",
        "Create a program that asks the user to enter their name and their age. <br>\n",
        "Print a message with their name to tell what will be their age after 5 years"
      ]
    },
    {
      "cell_type": "markdown",
      "metadata": {
        "id": "WdlOM33g2SpS"
      },
      "source": [
        "**Problem2**<br>\n",
        "Take two integer as input. <br>\n",
        "Calculate their product.<br>\n",
        "If the product is greater than 500, then return their difference"
      ]
    },
    {
      "cell_type": "markdown",
      "metadata": {
        "id": "3rNukvGC5hv-"
      },
      "source": [
        "**Problem 3**<br>\n",
        "Input range of numbers from the user<br>\n",
        "Add all the numbers in that range<pr>\n",
        "Print the sum\n"
      ]
    },
    {
      "cell_type": "markdown",
      "metadata": {
        "id": "RpFSsJ8b6i6U"
      },
      "source": [
        "**Problem 4**<br>\n",
        "Find HCF of two numbers\n",
        "\n",
        "\n",
        "\n"
      ]
    },
    {
      "cell_type": "markdown",
      "metadata": {
        "id": "FrfoaUMl6k_t"
      },
      "source": [
        ""
      ]
    },
    {
      "cell_type": "code",
      "metadata": {
        "id": "vaUBDOJT1zeC"
      },
      "source": [
        ""
      ],
      "execution_count": null,
      "outputs": []
    }
  ]
}
