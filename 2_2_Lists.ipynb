{
  "nbformat": 4,
  "nbformat_minor": 0,
  "metadata": {
    "colab": {
      "name": "Unit2.2_Lists.ipynb",
      "provenance": [],
      "authorship_tag": "ABX9TyPLwCCU6Cw19NRo+jaBz5BK",
      "include_colab_link": true
    },
    "kernelspec": {
      "name": "python3",
      "display_name": "Python 3"
    },
    "language_info": {
      "name": "python"
    }
  },
  "cells": [
    {
      "cell_type": "markdown",
      "metadata": {
        "id": "view-in-github",
        "colab_type": "text"
      },
      "source": [
        "<a href=\"https://colab.research.google.com/github/AmiMunshi/Introduction_to_Python_Programming/blob/main/Unit2_2_Lists.ipynb\" target=\"_parent\"><img src=\"https://colab.research.google.com/assets/colab-badge.svg\" alt=\"Open In Colab\"/></a>"
      ]
    },
    {
      "cell_type": "markdown",
      "metadata": {
        "id": "qoMHi9O2f5bs"
      },
      "source": [
        "### List\n",
        "It is collection of various elements. Used to store multiple items. Lists are **mutable**"
      ]
    },
    {
      "cell_type": "code",
      "metadata": {
        "id": "Dx0qKDXDf1Vw"
      },
      "source": [
        "#Example\n",
        "vegetables= [\"Beans\", \"Pepper\", \"Cabbage\"]\n",
        "student_info= [\"Jeet\", 89]"
      ],
      "execution_count": null,
      "outputs": []
    },
    {
      "cell_type": "markdown",
      "metadata": {
        "id": "nDp-5x5Lj9rg"
      },
      "source": [
        "####Lists are ordered\n",
        "Every element has a fixed index in a list"
      ]
    },
    {
      "cell_type": "code",
      "metadata": {
        "id": "MxWXwJYGkEIG"
      },
      "source": [
        "#Example\n",
        "class1= [\"Jeet\", \"Jay\", \"Joe\"]\n",
        "class2= [\"Joe\", \"Jeet\", \"Jay\"]\n",
        "class1==class2  #Although elements of both the lists are same, order of the elements are different. Hence comparison gives false output"
      ],
      "execution_count": null,
      "outputs": []
    },
    {
      "cell_type": "markdown",
      "metadata": {
        "id": "uKTxfuAWlbNc"
      },
      "source": [
        "####Can add, remove, replace items from a list\n"
      ]
    },
    {
      "cell_type": "code",
      "metadata": {
        "colab": {
          "base_uri": "https://localhost:8080/"
        },
        "id": "k21FV_NXjodm",
        "outputId": "ee45a096-7b9d-4676-fa82-edeaf7d2de0a"
      },
      "source": [
        "colours= [\"Red\", \"Green\"]\n",
        "colours.append(\"Blue\") #adds the argument as a single element\n",
        "print(colours)"
      ],
      "execution_count": null,
      "outputs": [
        {
          "output_type": "stream",
          "text": [
            "['Red', 'Green', 'Blue']\n"
          ],
          "name": "stdout"
        }
      ]
    },
    {
      "cell_type": "code",
      "metadata": {
        "colab": {
          "base_uri": "https://localhost:8080/"
        },
        "id": "mGQAoAZSlslJ",
        "outputId": "34b1c528-49a0-4d1f-cb6d-e16dc88c8caf"
      },
      "source": [
        "colours.extend(\"white\")\n",
        "print(colours) # Adds the argument by iterarating over it"
      ],
      "execution_count": null,
      "outputs": [
        {
          "output_type": "stream",
          "text": [
            "['Red', 'Green', 'Blue', 'w', 'h', 'i', 't', 'e']\n"
          ],
          "name": "stdout"
        }
      ]
    },
    {
      "cell_type": "code",
      "metadata": {
        "colab": {
          "base_uri": "https://localhost:8080/"
        },
        "id": "3FAWeemFl9LP",
        "outputId": "4b9c3e40-fe20-4255-e0cc-5a170d290390"
      },
      "source": [
        "#Element in the list replaced by another element\n",
        "colours[1]= \"purple\"\n",
        "print(colours)"
      ],
      "execution_count": null,
      "outputs": [
        {
          "output_type": "stream",
          "text": [
            "['Red', 'purple', 'Blue', 'w', 'h', 'i', 't', 'e']\n"
          ],
          "name": "stdout"
        }
      ]
    },
    {
      "cell_type": "code",
      "metadata": {
        "colab": {
          "base_uri": "https://localhost:8080/"
        },
        "id": "q0l4Kedwmdp2",
        "outputId": "32120d10-668c-40c0-8536-8a5647a73f2e"
      },
      "source": [
        "colours.pop(1) #removesthe element at index 1\n",
        "print(colours)"
      ],
      "execution_count": null,
      "outputs": [
        {
          "output_type": "stream",
          "text": [
            "['Red', 'Blue', 'w', 'h', 'i', 't', 'e']\n"
          ],
          "name": "stdout"
        }
      ]
    },
    {
      "cell_type": "markdown",
      "metadata": {
        "id": "7NCdI-crnkuP"
      },
      "source": [
        "####List Indexing and Slicing"
      ]
    },
    {
      "cell_type": "code",
      "metadata": {
        "colab": {
          "base_uri": "https://localhost:8080/"
        },
        "id": "5pMHbVlym3aO",
        "outputId": "16a7ffc9-f2c0-4e16-d5f2-5b669daa23f0"
      },
      "source": [
        "stationery=[\"pencil\", \"eraser\", \"scale\", \"papers\", \"gluestick\", \"sharpner\"]\n",
        "print(stationery[0:3])\n",
        "print(stationery[2:4])\n",
        "\n",
        "#Apply slicing similar to string"
      ],
      "execution_count": null,
      "outputs": [
        {
          "output_type": "stream",
          "text": [
            "['pencil', 'eraser', 'scale']\n",
            "['scale', 'papers']\n"
          ],
          "name": "stdout"
        }
      ]
    },
    {
      "cell_type": "markdown",
      "metadata": {
        "id": "5RbP7jhDpQOT"
      },
      "source": [
        "###Concatenation and replication"
      ]
    },
    {
      "cell_type": "code",
      "metadata": {
        "colab": {
          "base_uri": "https://localhost:8080/"
        },
        "id": "WmhWGkvvpbh3",
        "outputId": "4b7e8b55-4570-4c1e-abdf-478a8bcb5e9b"
      },
      "source": [
        "vowels= [\"a\", \"e\", \"i\"]\n",
        "vowels=vowels+[\"o\", \"u\"] #concatenation\n",
        "print(vowels)"
      ],
      "execution_count": null,
      "outputs": [
        {
          "output_type": "stream",
          "text": [
            "['a', 'e', 'i', 'o', 'u']\n"
          ],
          "name": "stdout"
        }
      ]
    },
    {
      "cell_type": "code",
      "metadata": {
        "colab": {
          "base_uri": "https://localhost:8080/"
        },
        "id": "7R3JnuzGpqt8",
        "outputId": "0bf48b55-03a8-44b8-bef5-b0a69c31be22"
      },
      "source": [
        "vowels= 2*vowels\n",
        "print(vowels)"
      ],
      "execution_count": null,
      "outputs": [
        {
          "output_type": "stream",
          "text": [
            "['a', 'e', 'i', 'o', 'u', 'a', 'e', 'i', 'o', 'u']\n"
          ],
          "name": "stdout"
        }
      ]
    },
    {
      "cell_type": "markdown",
      "metadata": {
        "id": "aQygyGOKqQBc"
      },
      "source": [
        "len(), min(), max(), sorted functions"
      ]
    },
    {
      "cell_type": "code",
      "metadata": {
        "id": "VKlx6ltXoM70"
      },
      "source": [
        "countries= [\"India\", \"Canada\", \"New Zealand\", \"Australia\", \"United Kingdom\"]\n",
        "print(len(countries))\n",
        "print(max(countries))\n",
        "print(min(countries))\n",
        "print(sorted(countries))\n",
        "print(countries)"
      ],
      "execution_count": null,
      "outputs": []
    },
    {
      "cell_type": "code",
      "metadata": {
        "id": "oaaE2hH0rP_c"
      },
      "source": [
        "countries.sort()\n",
        "print(countries)\n"
      ],
      "execution_count": null,
      "outputs": []
    },
    {
      "cell_type": "markdown",
      "metadata": {
        "id": "YE7mPNsWrzH5"
      },
      "source": [
        "####Nested Lists"
      ]
    },
    {
      "cell_type": "code",
      "metadata": {
        "colab": {
          "base_uri": "https://localhost:8080/"
        },
        "id": "TcA1ELyJoon-",
        "outputId": "66c52bbc-5fb9-4f8f-8ef4-1a9f130c96ad"
      },
      "source": [
        "my_list= [\"shoes\", [\"potato\", \"onions\"], [[\"books\", \"papers\"], \"pencils\", \"gluestick\"], \"bread\"]\n",
        "print(len(my_list))"
      ],
      "execution_count": null,
      "outputs": [
        {
          "output_type": "stream",
          "text": [
            "4\n"
          ],
          "name": "stdout"
        }
      ]
    },
    {
      "cell_type": "code",
      "metadata": {
        "colab": {
          "base_uri": "https://localhost:8080/"
        },
        "id": "uwa-z2iL5pSq",
        "outputId": "3b5df7c2-859b-41d7-e1bb-d95bc700ae90"
      },
      "source": [
        "print(my_list[0], my_list[3])"
      ],
      "execution_count": null,
      "outputs": [
        {
          "output_type": "stream",
          "text": [
            "shoes bread\n"
          ],
          "name": "stdout"
        }
      ]
    },
    {
      "cell_type": "code",
      "metadata": {
        "colab": {
          "base_uri": "https://localhost:8080/"
        },
        "id": "zoFsCZ9450ZO",
        "outputId": "7103399b-0655-43d9-dfe9-7c558ce897cb"
      },
      "source": [
        "print(my_list[1])"
      ],
      "execution_count": null,
      "outputs": [
        {
          "output_type": "stream",
          "text": [
            "['potato', 'onions']\n"
          ],
          "name": "stdout"
        }
      ]
    },
    {
      "cell_type": "code",
      "metadata": {
        "colab": {
          "base_uri": "https://localhost:8080/"
        },
        "id": "ErhZiEK56H1b",
        "outputId": "cbd85768-a1ed-49d1-b250-5ba4c3fe63dc"
      },
      "source": [
        "print(my_list[1][1])"
      ],
      "execution_count": null,
      "outputs": [
        {
          "output_type": "stream",
          "text": [
            "onions\n"
          ],
          "name": "stdout"
        }
      ]
    },
    {
      "cell_type": "code",
      "metadata": {
        "colab": {
          "base_uri": "https://localhost:8080/"
        },
        "id": "aoMjLQa76AL2",
        "outputId": "e90f34f5-d79c-45f7-edc2-f38f87991b9a"
      },
      "source": [
        "print(my_list[2])"
      ],
      "execution_count": null,
      "outputs": [
        {
          "output_type": "stream",
          "text": [
            "[['books', 'papers'], 'pencils', 'gluestick']\n"
          ],
          "name": "stdout"
        }
      ]
    },
    {
      "cell_type": "code",
      "metadata": {
        "colab": {
          "base_uri": "https://localhost:8080/"
        },
        "id": "rNziub516Cx6",
        "outputId": "cc910e54-bc80-4a4a-fbaf-cdc2eb82e139"
      },
      "source": [
        "print(my_list[2][0])"
      ],
      "execution_count": null,
      "outputs": [
        {
          "output_type": "stream",
          "text": [
            "['books', 'papers']\n"
          ],
          "name": "stdout"
        }
      ]
    },
    {
      "cell_type": "code",
      "metadata": {
        "colab": {
          "base_uri": "https://localhost:8080/"
        },
        "id": "YLUC5i_w6UQZ",
        "outputId": "f4fe161a-9d40-4924-c09a-f5656004328a"
      },
      "source": [
        "print(my_list[2][0][1])"
      ],
      "execution_count": null,
      "outputs": [
        {
          "output_type": "stream",
          "text": [
            "papers\n"
          ],
          "name": "stdout"
        }
      ]
    },
    {
      "cell_type": "markdown",
      "metadata": {
        "id": "wQ5lVe7bGQMg"
      },
      "source": [
        "###Copying a list"
      ]
    },
    {
      "cell_type": "code",
      "metadata": {
        "id": "UKJYTmuTFfmx"
      },
      "source": [
        ""
      ],
      "execution_count": null,
      "outputs": []
    }
  ]
}
