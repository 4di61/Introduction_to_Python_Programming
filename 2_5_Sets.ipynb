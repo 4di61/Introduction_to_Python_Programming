{
  "nbformat": 4,
  "nbformat_minor": 0,
  "metadata": {
    "colab": {
      "name": "Unit2.5Sets.ipynb",
      "provenance": [],
      "authorship_tag": "ABX9TyPcCzNvtZNlVZrPcHBQSQ/R",
      "include_colab_link": true
    },
    "kernelspec": {
      "name": "python3",
      "display_name": "Python 3"
    },
    "language_info": {
      "name": "python"
    }
  },
  "cells": [
    {
      "cell_type": "markdown",
      "metadata": {
        "id": "view-in-github",
        "colab_type": "text"
      },
      "source": [
        "<a href=\"https://colab.research.google.com/github/AmiMunshi/Introduction_to_Python_Programming/blob/main/Unit2_5Sets.ipynb\" target=\"_parent\"><img src=\"https://colab.research.google.com/assets/colab-badge.svg\" alt=\"Open In Colab\"/></a>"
      ]
    },
    {
      "cell_type": "markdown",
      "metadata": {
        "id": "vF8vyWpUnl4K"
      },
      "source": [
        "Sets\n",
        "\n",
        "Used to store multiple items in a single variable. It is unordered,unstructured and does not allow duplicate values. "
      ]
    },
    {
      "cell_type": "code",
      "metadata": {
        "colab": {
          "base_uri": "https://localhost:8080/"
        },
        "id": "Bm8CXl87nUN-",
        "outputId": "303a1878-f176-41a8-fc2a-cbeaf39bf87a"
      },
      "source": [
        "fruits= {\"apple\", \"banana\", \"mango\", \"banana\", \"grapes\"} #create set\n",
        "print(fruits)"
      ],
      "execution_count": null,
      "outputs": [
        {
          "output_type": "stream",
          "text": [
            "{'banana', 'mango', 'grapes', 'apple'}\n"
          ],
          "name": "stdout"
        }
      ]
    },
    {
      "cell_type": "code",
      "metadata": {
        "colab": {
          "base_uri": "https://localhost:8080/"
        },
        "id": "--Lds34ooiGk",
        "outputId": "389298db-30a3-4b1d-c7e7-1b339b876033"
      },
      "source": [
        "print(fruits)"
      ],
      "execution_count": null,
      "outputs": [
        {
          "output_type": "stream",
          "text": [
            "{'banana', 'mango', 'grapes', 'apple'}\n"
          ],
          "name": "stdout"
        }
      ]
    },
    {
      "cell_type": "code",
      "metadata": {
        "colab": {
          "base_uri": "https://localhost:8080/"
        },
        "id": "M6qQkcoNom-7",
        "outputId": "d3f0d585-e7b6-4869-bba6-d06386e7ba66"
      },
      "source": [
        "#different data types allowed in a set\n",
        "\n",
        "my_set= {\"car\", 20, True, 3.14, 20 }\n",
        "print(my_set)"
      ],
      "execution_count": null,
      "outputs": [
        {
          "output_type": "stream",
          "text": [
            "{'car', 3.14, 20, True}\n"
          ],
          "name": "stdout"
        }
      ]
    },
    {
      "cell_type": "code",
      "metadata": {
        "colab": {
          "base_uri": "https://localhost:8080/"
        },
        "id": "7kaBpL7Rovfh",
        "outputId": "65f47de6-8bb3-47ec-ed29-86179b6827c0"
      },
      "source": [
        "type(my_set) #get the type of the data structure"
      ],
      "execution_count": null,
      "outputs": [
        {
          "output_type": "execute_result",
          "data": {
            "text/plain": [
              "set"
            ]
          },
          "metadata": {
            "tags": []
          },
          "execution_count": 8
        }
      ]
    },
    {
      "cell_type": "code",
      "metadata": {
        "colab": {
          "base_uri": "https://localhost:8080/"
        },
        "id": "TOT6vUFBpRvh",
        "outputId": "b4d96ec8-9e44-4e04-e15a-ad3f4050467e"
      },
      "source": [
        "len(my_set) #Get the length of the set. It it counts nly number of unique elements"
      ],
      "execution_count": null,
      "outputs": [
        {
          "output_type": "execute_result",
          "data": {
            "text/plain": [
              "4"
            ]
          },
          "metadata": {
            "tags": []
          },
          "execution_count": 9
        }
      ]
    },
    {
      "cell_type": "code",
      "metadata": {
        "colab": {
          "base_uri": "https://localhost:8080/"
        },
        "id": "VR-tDU7YpX9p",
        "outputId": "5566af8f-5817-48c9-dfe2-6657c4ac96ac"
      },
      "source": [
        "my_cars= set(input(\"Enter car companies separated bya comma: \").split(\",\")) #input set from the user\n",
        "print(my_cars)"
      ],
      "execution_count": null,
      "outputs": [
        {
          "output_type": "stream",
          "text": [
            "Enter car companies separated bya comma: Tata,Honda,Hyundai\n",
            "{'Hyundai', 'Honda', 'Tata'}\n"
          ],
          "name": "stdout"
        }
      ]
    },
    {
      "cell_type": "markdown",
      "metadata": {
        "id": "2tCtQ_7jqKpp"
      },
      "source": [
        "####Access Set item"
      ]
    },
    {
      "cell_type": "code",
      "metadata": {
        "colab": {
          "base_uri": "https://localhost:8080/"
        },
        "id": "TGfW2TLYpnb5",
        "outputId": "4c3b180e-9e1d-4140-8c6c-ad9c12fb3811"
      },
      "source": [
        "for car in my_cars:\n",
        "  print(car)"
      ],
      "execution_count": null,
      "outputs": [
        {
          "output_type": "stream",
          "text": [
            "Hyundai\n",
            "Honda\n",
            "Tata\n"
          ],
          "name": "stdout"
        }
      ]
    },
    {
      "cell_type": "code",
      "metadata": {
        "colab": {
          "base_uri": "https://localhost:8080/"
        },
        "id": "4lxvsabopsux",
        "outputId": "d9f67b53-e822-4cbc-c096-55cc4dab832f"
      },
      "source": [
        "# check is some element is present in the set\n",
        "print(\"Tata\" in my_cars)"
      ],
      "execution_count": null,
      "outputs": [
        {
          "output_type": "stream",
          "text": [
            "True\n"
          ],
          "name": "stdout"
        }
      ]
    },
    {
      "cell_type": "markdown",
      "metadata": {
        "id": "g7ahxVNMq3Zh"
      },
      "source": [
        "Add and remove values in the set"
      ]
    },
    {
      "cell_type": "code",
      "metadata": {
        "colab": {
          "base_uri": "https://localhost:8080/"
        },
        "id": "uxK6XywiqoBh",
        "outputId": "7b017b13-be69-4040-b613-b2382650af3a"
      },
      "source": [
        "my_cars.add(\"Mercedes\") #use add method\n",
        "print(my_cars)"
      ],
      "execution_count": null,
      "outputs": [
        {
          "output_type": "stream",
          "text": [
            "{'Hyundai', 'Honda', 'Mercedes', 'Tata'}\n"
          ],
          "name": "stdout"
        }
      ]
    },
    {
      "cell_type": "code",
      "metadata": {
        "colab": {
          "base_uri": "https://localhost:8080/"
        },
        "id": "nhAwjvsirDgp",
        "outputId": "48c6ee20-70fa-4cbf-fed7-c24a0ab13f0b"
      },
      "source": [
        "my_cars.remove(\"Honda\")\n",
        "print(my_cars)"
      ],
      "execution_count": null,
      "outputs": [
        {
          "output_type": "stream",
          "text": [
            "{'Hyundai', 'Mercedes', 'Tata'}\n"
          ],
          "name": "stdout"
        }
      ]
    },
    {
      "cell_type": "code",
      "metadata": {
        "id": "YPzTrqj4Fqyp"
      },
      "source": [
        "# DIY Union of two sets\n",
        "even={2,4,6,8}\n",
        "odd= {1,3,5,7}\n"
      ],
      "execution_count": null,
      "outputs": []
    },
    {
      "cell_type": "code",
      "metadata": {
        "id": "8Uz0iT0NFwBZ"
      },
      "source": [
        ""
      ],
      "execution_count": null,
      "outputs": []
    },
    {
      "cell_type": "code",
      "metadata": {
        "id": "br1BoXq-F0BB"
      },
      "source": [
        "# DIY Set intersection\n",
        "a= {1,2,3}\n",
        "b={1,2,3,4,5,6}\n"
      ],
      "execution_count": null,
      "outputs": []
    },
    {
      "cell_type": "code",
      "metadata": {
        "id": "duWAwGbYGOCJ"
      },
      "source": [
        "#DIY Exclusivity ,Symmetric Difference\n",
        "d= {1,2,3,9,10,11}\n",
        "c= {1,2,3,4,5,6,7}\n"
      ],
      "execution_count": null,
      "outputs": []
    },
    {
      "cell_type": "code",
      "metadata": {
        "id": "6jtINIO8GSw_"
      },
      "source": [
        "#Set difference\n",
        "a= {1,2,3}\n",
        "c= {1,2,3,4,5,6,7}\n"
      ],
      "execution_count": null,
      "outputs": []
    },
    {
      "cell_type": "code",
      "metadata": {
        "id": "bsV2bkl0GaDf"
      },
      "source": [
        "#Check if a set is subset of another\n",
        "a= {1,2,3,4}\n",
        "b= {1,2,3,4,5}\n"
      ],
      "execution_count": null,
      "outputs": []
    },
    {
      "cell_type": "code",
      "metadata": {
        "id": "41q0HDWkFZ09"
      },
      "source": [
        "# Converting string to set\n",
        "string1= \"good morning India\"\n",
        "set1= set(string1)\n",
        "print(set1)\n",
        "print(set1[4]) # Indexing not possible in set"
      ],
      "execution_count": null,
      "outputs": []
    },
    {
      "cell_type": "markdown",
      "metadata": {
        "id": "OHs9amyJsjLk"
      },
      "source": [
        "####Set Methods- **EXPLORE**\n",
        "\n",
        "add()\tAdds an element to the set <br>\n",
        "clear()\tRemoves all the elements from the set<br>\n",
        "copy()\tReturns a copy of the set<br>\n",
        "difference()\tReturns a set containing the difference between two or more sets<br>\n",
        "difference_update()\tRemoves the items in this set that are also included in another, specified set<br>\n",
        "discard()\tRemove the specified item<br>\n",
        "intersection()\tReturns a set, that is the intersection of two other sets<br>\n",
        "intersection_update()\tRemoves the items in this set that are not present in other, specified set(s)<br>\n",
        "isdisjoint()\tReturns whether two sets have a intersection or not<br>\n",
        "issubset()\tReturns whether another set contains this set or not<br>\n",
        "issuperset()\tReturns whether this set contains another set or not<br>\n",
        "pop()\tRemoves an element from the set<br>\n",
        "remove()\tRemoves the specified element<br>\n",
        "symmetric_difference()\tReturns a set with the symmetric differences of two sets<br>\n",
        "symmetric_difference_update()\tinserts the symmetric differences from this set and another<br>\n",
        "union()\tReturn a set containing the union of sets<br>\n",
        "update()\tUpdate the set with the union of this set and others<br>"
      ]
    },
    {
      "cell_type": "code",
      "metadata": {
        "id": "r5uUSLa7sZcW"
      },
      "source": [
        ""
      ],
      "execution_count": null,
      "outputs": []
    }
  ]
}
