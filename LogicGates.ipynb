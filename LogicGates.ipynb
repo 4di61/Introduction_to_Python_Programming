{
  "nbformat": 4,
  "nbformat_minor": 0,
  "metadata": {
    "colab": {
      "name": "LogicGates.ipynb",
      "provenance": [],
      "authorship_tag": "ABX9TyNu+gQSUXs24bGMXjFXG8ZV",
      "include_colab_link": true
    },
    "kernelspec": {
      "name": "python3",
      "display_name": "Python 3"
    },
    "language_info": {
      "name": "python"
    }
  },
  "cells": [
    {
      "cell_type": "markdown",
      "metadata": {
        "id": "view-in-github",
        "colab_type": "text"
      },
      "source": [
        "<a href=\"https://colab.research.google.com/github/AmiMunshi/Introduction_to_Python_Programming/blob/main/LogicGates.ipynb\" target=\"_parent\"><img src=\"https://colab.research.google.com/assets/colab-badge.svg\" alt=\"Open In Colab\"/></a>"
      ]
    },
    {
      "cell_type": "code",
      "metadata": {
        "colab": {
          "base_uri": "https://localhost:8080/"
        },
        "id": "WRcZXtz5IsQB",
        "outputId": "018a5e8a-ff0a-43c7-e318-b410f4e1d2f0"
      },
      "source": [
        "choice= input(\"Enter your choice, not, and, or, xor: \") #Enter logic gates choice\n",
        "x= bool(int(input(\"enter 1 or 0: \"))) #Enter the two numbers\n",
        "y= bool(int(input(\"enter 1 or 0: \")))\n",
        "\n",
        "#NOT gate\n",
        "if choice==\"not\":\n",
        "  print(\"not of \", x, \" is \", not x)\n",
        "\n",
        "#AND gate\n",
        "elif choice==\"and\":\n",
        "  print(x, \" and \", y, \" is \", x and y)\n",
        "\n",
        "#OR gate\n",
        "elif choice==\"or\":\n",
        "  print(x, \" or \", y, \" is \", x or y)\n",
        "\n",
        "#XOR gate\n",
        "elif choice==\"xor\":\n",
        "  if x==y:\n",
        "    print(x, \" xor \", y, \" is False\")\n",
        "  else:\n",
        "    print(x, \" xor \", y, \" is True\")\n",
        "  "
      ],
      "execution_count": 6,
      "outputs": [
        {
          "output_type": "stream",
          "text": [
            "Enter your choice, not, and, or, xor: xor\n",
            "enter 1 or 0: 1\n",
            "enter 1 or 0: 0\n",
            "True  xor  False  is True\n"
          ],
          "name": "stdout"
        }
      ]
    }
  ]
}