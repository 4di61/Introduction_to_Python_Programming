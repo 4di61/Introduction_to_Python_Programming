{
  "nbformat": 4,
  "nbformat_minor": 0,
  "metadata": {
    "colab": {
      "name": "Unit2.7_Loops.ipynb",
      "provenance": [],
      "authorship_tag": "ABX9TyORbx609ZEXQz/b4LF4YRgn",
      "include_colab_link": true
    },
    "kernelspec": {
      "name": "python3",
      "display_name": "Python 3"
    },
    "language_info": {
      "name": "python"
    }
  },
  "cells": [
    {
      "cell_type": "markdown",
      "metadata": {
        "id": "view-in-github",
        "colab_type": "text"
      },
      "source": [
        "<a href=\"https://colab.research.google.com/github/AmiMunshi/Introduction_to_Python_Programming/blob/main/Unit2_7_Loops.ipynb\" target=\"_parent\"><img src=\"https://colab.research.google.com/assets/colab-badge.svg\" alt=\"Open In Colab\"/></a>"
      ]
    },
    {
      "cell_type": "markdown",
      "metadata": {
        "id": "p_b6FPGG20v7"
      },
      "source": [
        "<font color=\"green\" >\n",
        "\n",
        "<h2>Loops</h2>\n",
        "\n",
        "There are two basic loops in python-<br>\n",
        "For Loop <br>\n",
        "While Loop\n",
        "</font>"
      ]
    },
    {
      "cell_type": "markdown",
      "metadata": {
        "id": "6_VaXsXl3HEr"
      },
      "source": [
        "####While Loops:\n",
        "Set of statements within the block are executed till the statement is true"
      ]
    },
    {
      "cell_type": "code",
      "metadata": {
        "colab": {
          "base_uri": "https://localhost:8080/"
        },
        "id": "8p-61x-g2m21",
        "outputId": "deff2779-f6cd-4ef5-db0f-88feaddc290c"
      },
      "source": [
        "#print yes 5 times\n",
        "i=0\n",
        "while i<5:\n",
        "  print(\"yes\")\n",
        "  i+=1"
      ],
      "execution_count": null,
      "outputs": [
        {
          "output_type": "stream",
          "text": [
            "yes\n",
            "yes\n",
            "yes\n",
            "yes\n",
            "yes\n"
          ],
          "name": "stdout"
        }
      ]
    },
    {
      "cell_type": "code",
      "metadata": {
        "colab": {
          "base_uri": "https://localhost:8080/"
        },
        "id": "zLA31A_G3lqo",
        "outputId": "f4eb3b0f-0746-4b26-9262-3e3bb8638916"
      },
      "source": [
        "#print value of i\n",
        "i=7\n",
        "while i>1:\n",
        "  print(i)\n",
        "  i-=1 #i=i-1\n"
      ],
      "execution_count": null,
      "outputs": [
        {
          "output_type": "stream",
          "text": [
            "7\n",
            "6\n",
            "5\n",
            "4\n",
            "3\n",
            "2\n"
          ],
          "name": "stdout"
        }
      ]
    },
    {
      "cell_type": "markdown",
      "metadata": {
        "id": "PCdwVhJRLRR9"
      },
      "source": [
        "####Break Statement\n",
        "Exit the loop even if the while statement is True"
      ]
    },
    {
      "cell_type": "code",
      "metadata": {
        "colab": {
          "base_uri": "https://localhost:8080/"
        },
        "id": "3ezo5bOlKgrr",
        "outputId": "95a50c9e-2782-4f7d-95d4-9181e8e7fa5a"
      },
      "source": [
        "i = 1\n",
        "while i <7:\n",
        "  print(i)\n",
        "  if i == 4:\n",
        "    break\n",
        "  i += 1"
      ],
      "execution_count": null,
      "outputs": [
        {
          "output_type": "stream",
          "text": [
            "1\n",
            "2\n",
            "3\n",
            "4\n"
          ],
          "name": "stdout"
        }
      ]
    },
    {
      "cell_type": "code",
      "metadata": {
        "colab": {
          "base_uri": "https://localhost:8080/"
        },
        "id": "ScqVlbywL2wt",
        "outputId": "31f40afa-73ba-4463-8e2b-cacb48b32c92"
      },
      "source": [
        "i= 1\n",
        "while i<7:\n",
        "  print(i)\n",
        "  s=input(\"Continue? Enter Y/N: \")\n",
        "  if s==\"N\":\n",
        "    break\n",
        "  i+=1  "
      ],
      "execution_count": null,
      "outputs": [
        {
          "output_type": "stream",
          "text": [
            "1\n",
            "Continue? Enter Y/N: y\n",
            "2\n",
            "Continue? Enter Y/N: n\n",
            "3\n",
            "Continue? Enter Y/N: N\n"
          ],
          "name": "stdout"
        }
      ]
    },
    {
      "cell_type": "markdown",
      "metadata": {
        "id": "hyAsM8ATMdPN"
      },
      "source": [
        "####Continue\n",
        "With the continue statement we can stop the current iteration, and continue with the next"
      ]
    },
    {
      "cell_type": "code",
      "metadata": {
        "colab": {
          "base_uri": "https://localhost:8080/"
        },
        "id": "uZQW2YAgMLmb",
        "outputId": "b5a887e3-3173-4f21-a2ed-f50f8ce64ef4"
      },
      "source": [
        "i = 0\n",
        "while i <7:\n",
        "  i += 1\n",
        "  if i == 4:\n",
        "    continue\n",
        "  print(i)\n",
        " "
      ],
      "execution_count": null,
      "outputs": [
        {
          "output_type": "stream",
          "text": [
            "1\n",
            "2\n",
            "3\n",
            "5\n",
            "6\n",
            "7\n"
          ],
          "name": "stdout"
        }
      ]
    },
    {
      "cell_type": "markdown",
      "metadata": {
        "id": "56faDMPCNI4V"
      },
      "source": [
        "####While-Else"
      ]
    },
    {
      "cell_type": "code",
      "metadata": {
        "colab": {
          "base_uri": "https://localhost:8080/"
        },
        "id": "tuWibbcAM2c1",
        "outputId": "c648dd9e-b280-450e-84e9-6a173a97a381"
      },
      "source": [
        "i=7\n",
        "while i>1:\n",
        "  print(i)\n",
        "  i-=1\n",
        "else:\n",
        "  print(\"Count down over\")\n"
      ],
      "execution_count": null,
      "outputs": [
        {
          "output_type": "stream",
          "text": [
            "7\n",
            "6\n",
            "5\n",
            "4\n",
            "3\n",
            "2\n",
            "Count down over\n"
          ],
          "name": "stdout"
        }
      ]
    },
    {
      "cell_type": "markdown",
      "metadata": {
        "id": "ZfNHVZTyNaVQ"
      },
      "source": [
        "###For Loops"
      ]
    },
    {
      "cell_type": "code",
      "metadata": {
        "colab": {
          "base_uri": "https://localhost:8080/"
        },
        "id": "vURGRHqhNZ9q",
        "outputId": "1a8a0785-40c0-4434-ed0b-06146d398eb4"
      },
      "source": [
        "#print numbers\n",
        "numbers=[4,2,3,7,9,6,5]\n",
        "for i in numbers:\n",
        "  print(i)\n"
      ],
      "execution_count": null,
      "outputs": [
        {
          "output_type": "stream",
          "text": [
            "4\n",
            "2\n",
            "3\n",
            "7\n",
            "9\n",
            "6\n",
            "5\n"
          ],
          "name": "stdout"
        }
      ]
    },
    {
      "cell_type": "markdown",
      "metadata": {
        "id": "FZLriS5QP_7_"
      },
      "source": [
        "###Break statement"
      ]
    },
    {
      "cell_type": "code",
      "metadata": {
        "colab": {
          "base_uri": "https://localhost:8080/"
        },
        "id": "gu82dSVRNTaE",
        "outputId": "9ad8e195-20e3-4908-f597-893693ec8d76"
      },
      "source": [
        "#if a certain number comes, break the loop and exit\n",
        "numbers=[4,2,3,7,9,6,5]\n",
        "for i in numbers:\n",
        "  if i==7:\n",
        "    break\n",
        "  print(i)"
      ],
      "execution_count": null,
      "outputs": [
        {
          "output_type": "stream",
          "text": [
            "4\n",
            "2\n",
            "3\n"
          ],
          "name": "stdout"
        }
      ]
    },
    {
      "cell_type": "markdown",
      "metadata": {
        "id": "3WFbHhEdnniL"
      },
      "source": [
        "For Loops<br>\n",
        "A for loop is used for iterating over a sequence (that is either a list, a tuple, a dictionary, a set, or a string).\n",
        "\n",
        "This is less like the for keyword in other programming languages, and works more like an iterator method as found in other object-orientated programming languages.\n",
        "\n",
        "With the for loop we can execute a set of statements, once for each item in a list, tuple, set etc"
      ]
    },
    {
      "cell_type": "code",
      "metadata": {
        "id": "66FWT2HVQTTx",
        "colab": {
          "base_uri": "https://localhost:8080/"
        },
        "outputId": "b0720165-83b9-4bb5-8535-52f07d767abb"
      },
      "source": [
        "#Print elements in the list using for loop\n",
        "fruits= [\"banana\", \"apple\", \"mango\"]\n",
        "for fruit in fruits:\n",
        "  print(fruit)"
      ],
      "execution_count": null,
      "outputs": [
        {
          "output_type": "stream",
          "text": [
            "banana\n",
            "apple\n",
            "mango\n"
          ],
          "name": "stdout"
        }
      ]
    },
    {
      "cell_type": "code",
      "metadata": {
        "colab": {
          "base_uri": "https://localhost:8080/"
        },
        "id": "wYJp42_uoKIh",
        "outputId": "6cc53bbf-e7f4-4e03-e4ae-4917422a1ae0"
      },
      "source": [
        "# sum all the numbers in the given list\n",
        "\n",
        "nums= [10,20,30,40,50]\n",
        "\n",
        "count=0\n",
        "for num in nums:\n",
        "  count+=num\n",
        "  print(count)\n",
        "print(count)"
      ],
      "execution_count": null,
      "outputs": [
        {
          "output_type": "stream",
          "text": [
            "10\n",
            "30\n",
            "60\n",
            "100\n",
            "150\n",
            "150\n"
          ],
          "name": "stdout"
        }
      ]
    },
    {
      "cell_type": "code",
      "metadata": {
        "id": "Xsn2Qwgpof3b"
      },
      "source": [
        "#Display odd numbers between 1 to 100 using for loop"
      ],
      "execution_count": null,
      "outputs": []
    },
    {
      "cell_type": "code",
      "metadata": {
        "colab": {
          "base_uri": "https://localhost:8080/"
        },
        "id": "GzRRf37JPM1w",
        "outputId": "1094253e-9f8f-43f9-82d8-2952afa95ab1"
      },
      "source": [
        "#searching for element in the list\n",
        "numbers=[4,2,3,7,9,6,5]\n",
        "\n",
        "search = int(input(\"Enter the number: \"))\n",
        "for element in numbers:\n",
        "  if search==element:\n",
        "    print(\"Element found\")\n",
        "    break\n",
        "    \n",
        "else: \n",
        "  print(\"Element not found\")"
      ],
      "execution_count": null,
      "outputs": [
        {
          "output_type": "stream",
          "text": [
            "Enter the number: 10\n",
            "Element not found\n"
          ],
          "name": "stdout"
        }
      ]
    },
    {
      "cell_type": "markdown",
      "metadata": {
        "id": "dVm5LCcA6Qik"
      },
      "source": [
        "Nested For loop"
      ]
    },
    {
      "cell_type": "code",
      "metadata": {
        "colab": {
          "base_uri": "https://localhost:8080/"
        },
        "id": "S1tFgjVx6YbG",
        "outputId": "cbfb8425-50d4-4f47-95ca-683586c2b9d5"
      },
      "source": [
        "for i in range(3):\n",
        "  for j in range(4):\n",
        "    print(\"i= \", i, \" j= \", j)"
      ],
      "execution_count": null,
      "outputs": [
        {
          "output_type": "stream",
          "text": [
            "i=  0  j=  0\n",
            "i=  0  j=  1\n",
            "i=  0  j=  2\n",
            "i=  0  j=  3\n",
            "i=  1  j=  0\n",
            "i=  1  j=  1\n",
            "i=  1  j=  2\n",
            "i=  1  j=  3\n",
            "i=  2  j=  0\n",
            "i=  2  j=  1\n",
            "i=  2  j=  2\n",
            "i=  2  j=  3\n"
          ],
          "name": "stdout"
        }
      ]
    },
    {
      "cell_type": "code",
      "metadata": {
        "id": "RxPLkmeQ6Rxr"
      },
      "source": [
        "# DIY: Display stars in right angled triangular form using nested for loops"
      ],
      "execution_count": null,
      "outputs": []
    },
    {
      "cell_type": "markdown",
      "metadata": {
        "id": "s47CjFVt8SMY"
      },
      "source": [
        "Use of pass statement\n",
        "\n",
        "Pass statement does not do anything. It is used with \"if\" or inside a loopto represent no operation.\n",
        "\n",
        "We use pass statement when we need a statement syntactically but do not want to do any operation.\n",
        "\n"
      ]
    },
    {
      "cell_type": "code",
      "metadata": {
        "id": "dWQsmuAS8oYw",
        "colab": {
          "base_uri": "https://localhost:8080/"
        },
        "outputId": "c68c6305-d349-432d-d41c-92a74de0bf81"
      },
      "source": [
        "#Write a program to print only negative numbers\n",
        "\n",
        "nums= [1,4,-3,2,-5,6,-8]\n",
        "for i in nums:\n",
        "  if i>0:\n",
        "    pass\n",
        "  else:\n",
        "    print(i)"
      ],
      "execution_count": null,
      "outputs": [
        {
          "output_type": "stream",
          "text": [
            "-3\n",
            "-5\n",
            "-8\n"
          ],
          "name": "stdout"
        }
      ]
    },
    {
      "cell_type": "code",
      "metadata": {
        "colab": {
          "base_uri": "https://localhost:8080/"
        },
        "id": "qEjW5ifzrxOy",
        "outputId": "0705015b-01fc-40f7-cf9b-1852299a4043"
      },
      "source": [
        "# Pass and continue\n",
        "#Display numbers from 1 to 5\n",
        "x=0\n",
        "while x<10:\n",
        "  x+=1\n",
        "  if x>5:\n",
        "    continue\n",
        "  print('x=',x)\n",
        "print(\"Out of loop\")"
      ],
      "execution_count": null,
      "outputs": [
        {
          "output_type": "stream",
          "text": [
            "x= 1\n",
            "x= 2\n",
            "x= 3\n",
            "x= 4\n",
            "x= 5\n",
            "Out of loop\n"
          ],
          "name": "stdout"
        }
      ]
    },
    {
      "cell_type": "code",
      "metadata": {
        "colab": {
          "base_uri": "https://localhost:8080/"
        },
        "id": "IRrzKFC2sVhA",
        "outputId": "84776060-b078-4c06-e315-37293a216eb4"
      },
      "source": [
        "x=0\n",
        "while x<10:\n",
        "  x+=1\n",
        "  if x>5:\n",
        "    pass\n",
        "  print('x=',x)\n",
        "print(\"Out of loop\")"
      ],
      "execution_count": null,
      "outputs": [
        {
          "output_type": "stream",
          "text": [
            "x= 1\n",
            "x= 2\n",
            "x= 3\n",
            "x= 4\n",
            "x= 5\n",
            "x= 6\n",
            "x= 7\n",
            "x= 8\n",
            "x= 9\n",
            "x= 10\n",
            "Out of loop\n"
          ],
          "name": "stdout"
        }
      ]
    },
    {
      "cell_type": "markdown",
      "metadata": {
        "id": "eukUVEUBIVqJ"
      },
      "source": [
        "Assert Statement<br>\n",
        "\n",
        "Used to check if a particular statement is fulfilled"
      ]
    },
    {
      "cell_type": "code",
      "metadata": {
        "id": "HlDswYaAIgJW"
      },
      "source": [
        "#program to assert if the number entered by the user is greater than zero\n",
        "\n",
        "x= int(input(\"Enter a number >0 : \"))\n",
        "assert x>0, \"Wrong input\"\n"
      ],
      "execution_count": null,
      "outputs": []
    },
    {
      "cell_type": "markdown",
      "metadata": {
        "id": "0nquP1n5JEJN"
      },
      "source": [
        "try except <br>\n",
        "\n",
        "The assertion error shown above when the negative input is given is called an exception. An exception is an error that occurs during runtime. To avoid such type of exceptions, we can handle them using \"try\" and \"except\"<br>\n",
        "After *try* we write *assert*.After *except* we write the exception name to be handled."
      ]
    },
    {
      "cell_type": "code",
      "metadata": {
        "id": "kMkJEWlo87PO"
      },
      "source": [
        "x= int(input(\"Enter the number greater than 0: \"))\n",
        "try: \n",
        "  assert (x>0) #exception may occur here\n",
        "  print(\"You entered \",x)\n",
        "except AssertionError:\n",
        "  print(\"Wrong input entered\") #this is excuted if the exception occurs"
      ],
      "execution_count": null,
      "outputs": []
    },
    {
      "cell_type": "code",
      "metadata": {
        "id": "xvbfPkgLySNU"
      },
      "source": [
        "#DIY find more examples for try and except"
      ],
      "execution_count": null,
      "outputs": []
    },
    {
      "cell_type": "code",
      "metadata": {
        "id": "amacpHyIypAS"
      },
      "source": [
        ""
      ],
      "execution_count": null,
      "outputs": []
    },
    {
      "cell_type": "code",
      "metadata": {
        "id": "CN50jo8WzCaK"
      },
      "source": [
        ""
      ],
      "execution_count": null,
      "outputs": []
    }
  ]
}