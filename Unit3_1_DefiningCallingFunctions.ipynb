{
  "nbformat": 4,
  "nbformat_minor": 0,
  "metadata": {
    "colab": {
      "name": "Unit3.1_DefiningCallingFunctions.ipynb",
      "provenance": [],
      "authorship_tag": "ABX9TyNf2gu02Uneevpq/OGiFV6D",
      "include_colab_link": true
    },
    "kernelspec": {
      "name": "python3",
      "display_name": "Python 3"
    },
    "language_info": {
      "name": "python"
    }
  },
  "cells": [
    {
      "cell_type": "markdown",
      "metadata": {
        "id": "view-in-github",
        "colab_type": "text"
      },
      "source": [
        "<a href=\"https://colab.research.google.com/github/AmiMunshi/Introduction_to_Python_Programming/blob/main/Unit3_1_DefiningCallingFunctions.ipynb\" target=\"_parent\"><img src=\"https://colab.research.google.com/assets/colab-badge.svg\" alt=\"Open In Colab\"/></a>"
      ]
    },
    {
      "cell_type": "markdown",
      "metadata": {
        "id": "3LYnNpayovlC"
      },
      "source": [
        "###Functions\n",
        "Blocks of code/chunks of code where parameters are passed and it returns the output.<br>\n",
        "Same block can called multiple number of times. <br>\n",
        "It is a set of code defined to carry out a specific task.\n",
        "\n",
        "There are three types of functions\n",
        "\n",
        "**Built-in function**<br>\n",
        "Functions like help(), max(), min(), print() are built-in functions\n",
        "\n",
        "**User Defined Functions**<br>\n",
        "Created by the user to perform a specific task\n",
        "\n",
        "**Anonymous functions**<br>\n",
        "Which are also called lambda functions because they are not declared with the standard def keyword.\n",
        "\n",
        "\n"
      ]
    },
    {
      "cell_type": "markdown",
      "metadata": {
        "id": "omwJm5QUV36k"
      },
      "source": [
        "Additional Resources\n",
        "\n",
        "https://realpython.com/defining-your-own-python-function/ <br>\n",
        "https://www.tutorialspoint.com/python/python_functions.htm <br>\n",
        "https://www.programiz.com/python-programming/function <br>\n",
        "https://www.javatpoint.com/python-functions"
      ]
    },
    {
      "cell_type": "markdown",
      "metadata": {
        "id": "maq9gTezpWY3"
      },
      "source": [
        "####Creating Function\n",
        "Function is defined using \"def key word"
      ]
    },
    {
      "cell_type": "code",
      "metadata": {
        "id": "H4m-BlZHofcY"
      },
      "source": [
        "#Function to greet the user\n",
        "def greet(name):\n",
        "\n",
        "  \"\"\" This function greets \n",
        "      the user\"\"\"\n",
        "\n",
        "  return (\"Hello\"+\" \" +name)"
      ],
      "execution_count": null,
      "outputs": []
    },
    {
      "cell_type": "code",
      "metadata": {
        "colab": {
          "base_uri": "https://localhost:8080/"
        },
        "id": "GvtelUXip-0-",
        "outputId": "afa87840-2f77-40b3-c55b-9e7430c05531"
      },
      "source": [
        "print(greet(\"ami\"))"
      ],
      "execution_count": null,
      "outputs": [
        {
          "output_type": "stream",
          "text": [
            "Hello ami\n"
          ],
          "name": "stdout"
        }
      ]
    },
    {
      "cell_type": "markdown",
      "metadata": {
        "id": "1pc_nIy3YeSg"
      },
      "source": [
        "Docstring <br>\n",
        "\n",
        "\"\"\" This function greets \n",
        "      the user\"\"\" <br>\n",
        "\n",
        "This statement immediately after the header is called as document string. It tells the user what a particular function does. "
      ]
    },
    {
      "cell_type": "code",
      "metadata": {
        "colab": {
          "base_uri": "https://localhost:8080/"
        },
        "id": "7e_3BuRoY-Ug",
        "outputId": "47193849-d9a5-4175-b6d0-bac0fc926c95"
      },
      "source": [
        "print(greet.__doc__) #It prints the doc string of the function"
      ],
      "execution_count": null,
      "outputs": [
        {
          "output_type": "stream",
          "text": [
            " This function greets \n",
            "      the user\n"
          ],
          "name": "stdout"
        }
      ]
    },
    {
      "cell_type": "markdown",
      "metadata": {
        "id": "DNtcwtIeZPo3"
      },
      "source": [
        "return statement <br>\n",
        "\n",
        "It is used to exit the fucntion. It is optional "
      ]
    },
    {
      "cell_type": "markdown",
      "metadata": {
        "id": "oJx8hDgtPpRP"
      },
      "source": [
        "###Defining and calling a function"
      ]
    },
    {
      "cell_type": "code",
      "metadata": {
        "colab": {
          "base_uri": "https://localhost:8080/"
        },
        "id": "sb71llTiWpZg",
        "outputId": "69d1343b-29e6-49fc-e512-8f21b612b402"
      },
      "source": [
        "#Greet function without return\n",
        "def greet_new(name):\n",
        "\n",
        "    print(\"Good Morning \",name )\n",
        "\n",
        "greet_new(\"Ami\") #call function greet_new"
      ],
      "execution_count": null,
      "outputs": [
        {
          "output_type": "stream",
          "text": [
            "Good Morning  Ami\n"
          ],
          "name": "stdout"
        }
      ]
    },
    {
      "cell_type": "code",
      "metadata": {
        "colab": {
          "base_uri": "https://localhost:8080/"
        },
        "id": "-pCeJMiFZjjm",
        "outputId": "facb9751-b9dc-4a19-8a29-337bca7b8a67"
      },
      "source": [
        "print(greet_new(\"Ami\")) # None will be printed as there is no return statement in the function. So the function is returning None value"
      ],
      "execution_count": null,
      "outputs": [
        {
          "output_type": "stream",
          "text": [
            "Good Morning  Ami\n",
            "None\n"
          ],
          "name": "stdout"
        }
      ]
    },
    {
      "cell_type": "code",
      "metadata": {
        "id": "BFfUko3sZ9eN"
      },
      "source": [
        "# function to check if the number is positive or negative\n",
        "def compare_num(num):\n",
        "  if num > 0:\n",
        "    return \"Positive\"\n",
        "  else:\n",
        "    return \"Negative\"\n",
        "  "
      ],
      "execution_count": null,
      "outputs": []
    },
    {
      "cell_type": "code",
      "metadata": {
        "colab": {
          "base_uri": "https://localhost:8080/"
        },
        "id": "P_UBxz4PaqkS",
        "outputId": "72323734-71bf-441c-b26c-730030d21349"
      },
      "source": [
        "x= input(\"Enter any integer: \") # take number from the user\n",
        "x= int(x)\n",
        "print(\"The number is \", compare_num(x)) #call function compare_num within print"
      ],
      "execution_count": null,
      "outputs": [
        {
          "output_type": "stream",
          "text": [
            "Enter any integer: -6\n",
            "The number is  Negative\n"
          ],
          "name": "stdout"
        }
      ]
    },
    {
      "cell_type": "code",
      "metadata": {
        "id": "RV94eG38QJPr"
      },
      "source": [
        "#write a function to find difference between two numbers"
      ],
      "execution_count": null,
      "outputs": []
    },
    {
      "cell_type": "code",
      "metadata": {
        "id": "1GBxDY3iQPWK"
      },
      "source": [
        "#write a function to add numbers in the list\n",
        "\n",
        "def list_add(x):\n",
        "  y= sum(x)\n",
        "  return y\n"
      ],
      "execution_count": null,
      "outputs": []
    },
    {
      "cell_type": "code",
      "metadata": {
        "colab": {
          "base_uri": "https://localhost:8080/"
        },
        "id": "pdG-hFCxQ_3-",
        "outputId": "1d521188-bcde-41b5-c256-fd847600c1bf"
      },
      "source": [
        "numbers = input(\"Enter the numbers: \").split()\n",
        "numbers= [int(i) for i in numbers]\n",
        "print(\"numbers =\",numbers)\n",
        "print(\"sum of numbers in the list is \", list_add(numbers))\n"
      ],
      "execution_count": null,
      "outputs": [
        {
          "output_type": "stream",
          "text": [
            "Enter the numbers: 2 3\n",
            "numbers = [2, 3]\n",
            "sum of numbers in the list is  5\n"
          ],
          "name": "stdout"
        }
      ]
    },
    {
      "cell_type": "code",
      "metadata": {
        "id": "g9IpAfXmSaLi"
      },
      "source": [
        "# function to calculate factorial\n",
        "def fact(n):\n",
        "  product= 1\n",
        "  while n>=1:\n",
        "    product*=n\n",
        "    n-=1\n",
        "  return product"
      ],
      "execution_count": null,
      "outputs": []
    },
    {
      "cell_type": "code",
      "metadata": {
        "colab": {
          "base_uri": "https://localhost:8080/"
        },
        "id": "5Ch4yHkTSyuv",
        "outputId": "e48ee92b-cd82-4db7-fe7e-4ad842da77f9"
      },
      "source": [
        "num= int(input(\"Enter the number: \"))\n",
        "print(\"Factorial of \", num, \"is\", fact(num))\n"
      ],
      "execution_count": null,
      "outputs": [
        {
          "output_type": "stream",
          "text": [
            "Enter the number: 6\n",
            "Factorial of  6 is 720\n"
          ],
          "name": "stdout"
        }
      ]
    },
    {
      "cell_type": "code",
      "metadata": {
        "id": "h_6o3N9TBIds"
      },
      "source": [
        "#function to check all the vowels used in the given word\n",
        "def check_vowels(word):\n",
        "  \"\"\"Returns all the vowels used in the given word\"\"\"\n",
        "  vowels= set(\"aeiou\")\n",
        "  return vowels.intersection(set(word))\n"
      ],
      "execution_count": null,
      "outputs": []
    },
    {
      "cell_type": "code",
      "metadata": {
        "colab": {
          "base_uri": "https://localhost:8080/"
        },
        "id": "uWUuOXtRBxmO",
        "outputId": "a4bc78a3-5821-4b2a-9407-2e92a0341bfc"
      },
      "source": [
        "print(check_vowels((input(\"Enter the word: \")).lower()))"
      ],
      "execution_count": null,
      "outputs": [
        {
          "output_type": "stream",
          "text": [
            "Enter the word: Argument\n",
            "{'a', 'u', 'e'}\n"
          ],
          "name": "stdout"
        }
      ]
    },
    {
      "cell_type": "code",
      "metadata": {
        "id": "E0viEfXFCnOe"
      },
      "source": [
        "#function to search for a specific string\n",
        "def search_letters(phrase, string1):\n",
        "  \"\"\" returns true if string present in phrase\"\"\"\n",
        "  if string1 in phrase:\n",
        "    return True\n",
        "\n",
        "  else:\n",
        "    return False"
      ],
      "execution_count": null,
      "outputs": []
    },
    {
      "cell_type": "code",
      "metadata": {
        "colab": {
          "base_uri": "https://localhost:8080/"
        },
        "id": "6OkG_rPrDyWd",
        "outputId": "d91f65e7-f04a-4a13-c836-59cf44dd5484"
      },
      "source": [
        "phrase= input(\"Enter the phrase: \")\n",
        "string1= input(\"Enter the string to be searched: \")\n",
        "if search_letters(phrase, string1):\n",
        "  print(\"yes\")\n",
        "else:\n",
        "  print(\"no\")"
      ],
      "execution_count": null,
      "outputs": [
        {
          "output_type": "stream",
          "text": [
            "Enter the phrase: xyz@ymailcom\n",
            "Enter the string to be searched: .com\n",
            "no\n"
          ],
          "name": "stdout"
        }
      ]
    },
    {
      "cell_type": "code",
      "metadata": {
        "id": "zmRmm879UPRB"
      },
      "source": [
        "#DIY :write a function to find hcf of two numbers"
      ],
      "execution_count": null,
      "outputs": []
    },
    {
      "cell_type": "markdown",
      "metadata": {
        "id": "5lT8r2S9UcLL"
      },
      "source": [
        "### Returning multiple values from a function"
      ]
    },
    {
      "cell_type": "code",
      "metadata": {
        "id": "hMpjOhTcUiep"
      },
      "source": [
        "#Write a function to obtain quotient and a remainder\n",
        "def division(a,b):\n",
        "  \"\"\"This is a funtion to obtain quotient\n",
        "  and remainder when a is divided by b\"\"\"\n",
        "  q= a//b\n",
        "  r= a%b\n",
        "  return q,r"
      ],
      "execution_count": null,
      "outputs": []
    },
    {
      "cell_type": "code",
      "metadata": {
        "colab": {
          "base_uri": "https://localhost:8080/"
        },
        "id": "Fz7i2NwgVM6Y",
        "outputId": "7a0d0e53-8d7d-49d7-9bd4-6b9d464004da"
      },
      "source": [
        "x,y = input(\"Enter divisor and then the dividend\").split()\n",
        "x= int(x)\n",
        "y=int(y)\n",
        "print(\"quotient and remainder are \", division(x,y))\n",
        "\n"
      ],
      "execution_count": null,
      "outputs": [
        {
          "output_type": "stream",
          "text": [
            "Enter divisor and then the dividend7 2\n",
            "quotient and remainder are  (3, 1)\n"
          ],
          "name": "stdout"
        }
      ]
    },
    {
      "cell_type": "markdown",
      "metadata": {
        "id": "yrrPFdSrdX2W"
      },
      "source": [
        "###Function Arguments"
      ]
    },
    {
      "cell_type": "markdown",
      "metadata": {
        "id": "xWNR-aSnUOVy"
      },
      "source": [
        "Formal and actual arguments"
      ]
    },
    {
      "cell_type": "code",
      "metadata": {
        "id": "nge9R2BzZRnq"
      },
      "source": [
        "def subtract(x,y): #here x,y are formal arguments\n",
        "  return x-y\n",
        "a=10\n",
        "b=8\n",
        "print(subtract(a,b)) #here a and b are actual arguments"
      ],
      "execution_count": null,
      "outputs": []
    },
    {
      "cell_type": "markdown",
      "metadata": {
        "id": "BwRHhuO8dim1"
      },
      "source": [
        "Fixed Arguments and variable arguments"
      ]
    },
    {
      "cell_type": "code",
      "metadata": {
        "id": "3P_FzJtkc0jl"
      },
      "source": [
        "def class_5(name, rollNo):\n",
        "  \"\"\"This function will print roll number \n",
        "  and student name\"\"\"\n",
        "  print(\"{} is roll number of {}\".format(rollNo,name))\n",
        "  return\n"
      ],
      "execution_count": null,
      "outputs": []
    },
    {
      "cell_type": "code",
      "metadata": {
        "colab": {
          "base_uri": "https://localhost:8080/"
        },
        "id": "s5a1_DJQeRpX",
        "outputId": "36c81b0d-669f-485e-e153-cd0dc48af0ef"
      },
      "source": [
        "class_5(\"Jiya\", 6) #Call function class_5 to print roll number and name\n",
        "##Note: In the above function class_5, the number of arguments are fixed. "
      ],
      "execution_count": null,
      "outputs": [
        {
          "output_type": "stream",
          "text": [
            "6 is roll number of Jiya\n"
          ],
          "name": "stdout"
        }
      ]
    },
    {
      "cell_type": "markdown",
      "metadata": {
        "id": "-28plbBjfGMb"
      },
      "source": [
        "Function with default argument"
      ]
    },
    {
      "cell_type": "code",
      "metadata": {
        "id": "l6ntKN5cfK23"
      },
      "source": [
        "def class_6 (name, std='6'):\n",
        "  \"\"\"This function will print name of the student in std 6\"\"\"\n",
        "  print(name, \" is in std \", std)\n",
        "  return\n",
        "#In this above function, std is the default argument\n",
        "#But this default argument can be changed\n",
        "#In the above function, parameter name does not have any deafult value. Hence it has to be given"
      ],
      "execution_count": null,
      "outputs": []
    },
    {
      "cell_type": "code",
      "metadata": {
        "colab": {
          "base_uri": "https://localhost:8080/"
        },
        "id": "ZRXqwNuWfgVm",
        "outputId": "b9fe385d-b0a1-4ee5-ce06-28cfb428196a"
      },
      "source": [
        "class_6(\"Reena\") #statement with default argument will be printed"
      ],
      "execution_count": null,
      "outputs": [
        {
          "output_type": "stream",
          "text": [
            "Reena  is in std  6\n"
          ],
          "name": "stdout"
        }
      ]
    },
    {
      "cell_type": "code",
      "metadata": {
        "colab": {
          "base_uri": "https://localhost:8080/"
        },
        "id": "OZJLvwi2f41H",
        "outputId": "14ba9918-46b5-4aa8-b9f1-5d7d8d795593"
      },
      "source": [
        "class_6(\"Jaya\", \"7\")\n",
        "#Here default argument is replaced by 7\n",
        "#Here Jaya and 7 both are positional argument "
      ],
      "execution_count": null,
      "outputs": [
        {
          "output_type": "stream",
          "text": [
            "Jaya  is in std  7\n"
          ],
          "name": "stdout"
        }
      ]
    },
    {
      "cell_type": "code",
      "metadata": {
        "colab": {
          "base_uri": "https://localhost:8080/"
        },
        "id": "m_pqr39ihpuN",
        "outputId": "40f4af00-4365-4048-95bb-2d5879502437"
      },
      "source": [
        "class_6(\"Jay\", std= \"9\")\n",
        "#Here Jay is postional argument and 9 is the keyword argument"
      ],
      "execution_count": null,
      "outputs": [
        {
          "output_type": "stream",
          "text": [
            "Jay  is in std  9\n"
          ],
          "name": "stdout"
        }
      ]
    },
    {
      "cell_type": "code",
      "metadata": {
        "id": "tjA43rNmiBDK"
      },
      "source": [
        "class_6(std= \"7\", \"Jiya\")\n",
        "##If keyword argument is placed before the positional argument, we get an error"
      ],
      "execution_count": null,
      "outputs": []
    },
    {
      "cell_type": "markdown",
      "metadata": {
        "id": "WT0B87Igg6fF"
      },
      "source": [
        "Keyword Argument"
      ]
    },
    {
      "cell_type": "code",
      "metadata": {
        "colab": {
          "base_uri": "https://localhost:8080/"
        },
        "id": "MTzk178NgxFQ",
        "outputId": "c469d2e0-aeda-4a20-d8ac-5f79cd6c63fa"
      },
      "source": [
        "class_6(std=\"8\", name=\"Raj\") \n",
        "#Arguments are given with the key word. Hence position do not matter\n",
        "#Both the arguments are keyword arguments"
      ],
      "execution_count": null,
      "outputs": [
        {
          "output_type": "stream",
          "text": [
            "Raj  is in std  8\n"
          ],
          "name": "stdout"
        }
      ]
    },
    {
      "cell_type": "markdown",
      "metadata": {
        "id": "1eKArVhdjU7B"
      },
      "source": [
        "Arbitrary arguments (*args)\n",
        "\n",
        "Sometimes we are not sure how many arguments will be passed.\n",
        "Here the arguments can be packed in a tuple \n",
        "\n",
        "```\n",
        "#This is formatted as code\n",
        "```\n",
        "\n"
      ]
    },
    {
      "cell_type": "code",
      "metadata": {
        "id": "kjhuWF2gjUfL"
      },
      "source": [
        "#Function showing use of *args\n",
        "def students(*names):\n",
        "  for name in names:\n",
        "    print (name, \" is in my class\")\n",
        "  return"
      ],
      "execution_count": null,
      "outputs": []
    },
    {
      "cell_type": "code",
      "metadata": {
        "colab": {
          "base_uri": "https://localhost:8080/"
        },
        "id": "CeBZ8NNKkAwy",
        "outputId": "fb475314-23ef-482f-f6c3-7f2d3e3bf0d8"
      },
      "source": [
        "students(\"Jeet\", \"Jiya\", \"Jay\") #call function student\n"
      ],
      "execution_count": null,
      "outputs": [
        {
          "output_type": "stream",
          "text": [
            "Jeet  is in my class\n",
            "Jiya  is in my class\n",
            "Jay  is in my class\n"
          ],
          "name": "stdout"
        }
      ]
    },
    {
      "cell_type": "code",
      "metadata": {
        "id": "FsHUQCaSkxu2"
      },
      "source": [
        "#Function showing example of *args\n",
        "def king(*child):\n",
        "  print(\"King's 2nd child is \", child[1])\n",
        "  return"
      ],
      "execution_count": null,
      "outputs": []
    },
    {
      "cell_type": "code",
      "metadata": {
        "colab": {
          "base_uri": "https://localhost:8080/"
        },
        "id": "mLzRDWQAlFq3",
        "outputId": "86f526ac-ce05-445c-c16c-b79a34ab5fec"
      },
      "source": [
        "king(\"Ram\", \"Bharat\", \"Laxman\", \"Shatrughna\")"
      ],
      "execution_count": null,
      "outputs": [
        {
          "output_type": "stream",
          "text": [
            "King's 2nd child is  Bharat\n"
          ],
          "name": "stdout"
        }
      ]
    },
    {
      "cell_type": "markdown",
      "metadata": {
        "id": "LQQ3Q1smlcz9"
      },
      "source": [
        "Arbitrary keyword arguments (**kwargs)<br>\n",
        "Argument which is a key-value pair is packed in a dictionary"
      ]
    },
    {
      "cell_type": "code",
      "metadata": {
        "id": "d9f79oqXkrpg"
      },
      "source": [
        "#Function to print author and book\n",
        "def books(**kwargs):\n",
        "  for key,value in kwargs.items():\n",
        "    print(\"{} is written by {}\".format(value,key))\n",
        "  return"
      ],
      "execution_count": null,
      "outputs": []
    },
    {
      "cell_type": "code",
      "metadata": {
        "colab": {
          "base_uri": "https://localhost:8080/"
        },
        "id": "KpdNtS5KoC7P",
        "outputId": "60515592-0285-4b7a-82f1-b3d07c16c682"
      },
      "source": [
        "books(Sudha= \"Wise or otherwise\", Robin= \"Monk who sold his ferrari\")"
      ],
      "execution_count": null,
      "outputs": [
        {
          "output_type": "stream",
          "text": [
            "Wise or otherwise is written by Sudha\n",
            "Monk who sold his ferrari is written by Robin\n"
          ],
          "name": "stdout"
        }
      ]
    },
    {
      "cell_type": "code",
      "metadata": {
        "id": "F_fSumavp5Kf"
      },
      "source": [
        "#Function to concatenate\n",
        "def concat(**words):\n",
        "  sentence=\"\"\n",
        "  for value in words.values():\n",
        "    sentence= sentence+value\n",
        "  return (sentence)"
      ],
      "execution_count": null,
      "outputs": []
    },
    {
      "cell_type": "code",
      "metadata": {
        "colab": {
          "base_uri": "https://localhost:8080/"
        },
        "id": "20KElKZxrLCy",
        "outputId": "e378eab4-2a81-4499-83c0-548f4b209566"
      },
      "source": [
        "print(concat(a=\"Welcome \", b=\"to \", c=\"Python \", d= \"Programming \"))"
      ],
      "execution_count": null,
      "outputs": [
        {
          "output_type": "stream",
          "text": [
            "Welcome to Python Programming \n"
          ],
          "name": "stdout"
        }
      ]
    },
    {
      "cell_type": "code",
      "metadata": {
        "id": "12i4zMagqRq9"
      },
      "source": [
        "#Write a function to find prime numbers in the given range"
      ],
      "execution_count": null,
      "outputs": []
    },
    {
      "cell_type": "code",
      "metadata": {
        "id": "AZE0CEYb0Srw"
      },
      "source": [
        "#Write a function to obtain Fibonacci number series "
      ],
      "execution_count": null,
      "outputs": []
    },
    {
      "cell_type": "markdown",
      "metadata": {
        "id": "o4BwP51B0-TX"
      },
      "source": [
        "Local and Global Variables"
      ]
    },
    {
      "cell_type": "code",
      "metadata": {
        "id": "x3C5rJxD1BhI"
      },
      "source": [
        ""
      ],
      "execution_count": null,
      "outputs": []
    }
  ]
}