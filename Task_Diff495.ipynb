{
  "nbformat": 4,
  "nbformat_minor": 0,
  "metadata": {
    "colab": {
      "name": "PythonLabTest_Batch2_Diff495.ipynb",
      "provenance": [],
      "authorship_tag": "ABX9TyOg+DT7fupx+A5dtHt76anx",
      "include_colab_link": true
    },
    "kernelspec": {
      "name": "python3",
      "display_name": "Python 3"
    },
    "language_info": {
      "name": "python"
    }
  },
  "cells": [
    {
      "cell_type": "markdown",
      "metadata": {
        "id": "view-in-github",
        "colab_type": "text"
      },
      "source": [
        "<a href=\"https://colab.research.google.com/github/AmiMunshi/Introduction_to_Python_Programming/blob/main/PythonLabTest_Batch2_Diff495.ipynb\" target=\"_parent\"><img src=\"https://colab.research.google.com/assets/colab-badge.svg\" alt=\"Open In Colab\"/></a>"
      ]
    },
    {
      "cell_type": "markdown",
      "metadata": {
        "id": "0t4ufpxoeB5e"
      },
      "source": [
        "Lab Test Question\n",
        "\n",
        "1.\tTake a list of three digit numbers from the user\n",
        "2.\tTake the first three-digit number from the above list\n",
        "3.\tFrom the same number obtain a smallest three-digit number and largest three-digit number.\n",
        "4.\tSubtract the smaller number from the larger number.\n",
        "5.\tIf the difference is equal to 495, you stop and take the next number.\n",
        "6.\tIf the difference is not 495, apply step 3 and 4 till the difference obtained is 495\n",
        "7.\tStore the original number from the list and number of iterations needed to obtain 495 in a dictionary.\n",
        "8.\tPrint the dictionary\n",
        "9.\tUse the same function for 4 digits number to obtain the constant of 6147\n",
        "\n",
        "Example\n",
        "\n",
        "Number=647\n",
        "\n",
        "Iteration 1\n",
        "\n",
        "Smallest= 467\n",
        "Largest= 764\n",
        "Difference= 764-467= 297\n",
        "\n",
        "297!= 495\n",
        "\n",
        "Iteration 2\n",
        "\n",
        "Smallest= 279\n",
        "Largest= 972\n",
        "Difference= 693\n",
        "\n",
        "693!=495\n",
        "\n",
        "Iteration 3\n",
        "\n",
        "963-369=594\n",
        "\n",
        "594 != 495\n",
        "\n",
        "Iteration4\n",
        "\n",
        "954-459= 495 \n",
        "\n",
        "Stop\n"
      ]
    },
    {
      "cell_type": "code",
      "metadata": {
        "id": "sDHGTiQmSM3I"
      },
      "source": [
        "#function to find smallest  and largest number from the given three digit numbers in python\n",
        "\n",
        "def small_large(num):\n",
        "\n",
        "  #Convert the given number to str, then list, then individual elements back to int, then sort them in ascending and descending\n",
        "  num= list(str(num)) \n",
        "  new=[int(i) for i in num] \n",
        "  small= sorted(new)  \n",
        "  large=sorted(new, reverse=True) \n",
        "\n",
        "  #Convert the sorted list elements to string, join them and then convert the number to int\n",
        "  small=[str(i) for i in small]\n",
        "  small=int(\"\".join(small))\n",
        "  large=[str(i) for i in large]\n",
        "  large=int(\"\".join(large))\n",
        "\n",
        "  #Return the smallest and largest number obtained from the given number\n",
        "  \n",
        "  return small,large\n",
        "\n",
        "    "
      ],
      "execution_count": null,
      "outputs": []
    },
    {
      "cell_type": "code",
      "metadata": {
        "id": "d3EgeG7Wdpmq"
      },
      "source": [
        "#Method 1 to write the difference function\n",
        "\n",
        "#Difference function which will take the num\n",
        "#Will check if the difference between the small and large number formed from that number is 495\n",
        "#Will call this function till the difference of 495 is obtained.\n",
        "#Will return the number of iterations required to obtain the difference of 495\n",
        "\n",
        "\n",
        "def difference(num, count=1):\n",
        "  small,large= small_large(num)\n",
        "  diff= large-small\n",
        "  if diff==495:\n",
        "    count1=count\n",
        "    #print(diff, count1)\n",
        "    return count\n",
        "    \n",
        "  else:\n",
        "    count1=count+1\n",
        "    #print(diff, count1)\n",
        "    ctr= difference(diff,count1)\n",
        "    return ctr "
      ],
      "execution_count": null,
      "outputs": []
    },
    {
      "cell_type": "code",
      "metadata": {
        "id": "wgD_VvZGj84c"
      },
      "source": [
        "#Method 2 to write the difference function\n",
        "\n",
        "#Difference function which will take the num\n",
        "#Will check if the difference between the small and large number formed from that number is 495\n",
        "#Will call this function till the difference of 495 is obtained.\n",
        "#Will retrun the number of iterations required to obtain the difference of 495\n",
        "\n",
        "\n",
        "def difference(num,count=1):\n",
        "  small,large= small_large(num)\n",
        "  ctr=count\n",
        "  diff= large-small\n",
        "  if diff!=495:\n",
        "    ctr=ctr+1\n",
        "    #print(\"diff= \", diff,\"ctr=\",  ctr)\n",
        "    ctr=difference(diff,ctr)\n",
        "  return ctr"
      ],
      "execution_count": null,
      "outputs": []
    },
    {
      "cell_type": "code",
      "metadata": {
        "colab": {
          "base_uri": "https://localhost:8080/"
        },
        "id": "j4sNySjNit6K",
        "outputId": "09c553ef-9286-4089-a1f8-afcf1112fa19"
      },
      "source": [
        "#Example to check the small_large and difference functions\n",
        "num=647\n",
        "print(\"Number of iterations needed to obtain the difference of 495 for {} is \".format(num), difference(num))    "
      ],
      "execution_count": 15,
      "outputs": [
        {
          "output_type": "stream",
          "name": "stdout",
          "text": [
            "Number of iterations needed to obtain the difference of 495 for 647 is  4\n"
          ]
        }
      ]
    },
    {
      "cell_type": "code",
      "metadata": {
        "colab": {
          "base_uri": "https://localhost:8080/"
        },
        "id": "wDk6JvL6YLRa",
        "outputId": "b9413d8e-9126-4020-9db7-d0313d11823a"
      },
      "source": [
        "#Example to find the number of iterations needed to get a difference of 495\n",
        "\n",
        "\n",
        "list1=[456,756,331,245] #Take the list\n",
        "dict1={}\n",
        "\n",
        "#Iterate over the list to find out the number of iterations needed for each element of the lsit to obtain the difference of 495\n",
        "\n",
        "for i in list1:\n",
        "  value= difference(i)\n",
        "  dict1.update({i:value})\n",
        "print(dict1)\n",
        "  \n",
        "    \n"
      ],
      "execution_count": null,
      "outputs": [
        {
          "output_type": "stream",
          "name": "stdout",
          "text": [
            "{456: 5, 756: 5, 331: 5, 245: 4}\n"
          ]
        }
      ]
    },
    {
      "cell_type": "code",
      "metadata": {
        "id": "2oApPSBZUMUy"
      },
      "source": [
        ""
      ],
      "execution_count": null,
      "outputs": []
    }
  ]
}
