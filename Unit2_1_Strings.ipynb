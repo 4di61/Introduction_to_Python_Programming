{
  "nbformat": 4,
  "nbformat_minor": 0,
  "metadata": {
    "colab": {
      "name": "Unit2.1_Strings.ipynb",
      "provenance": [],
      "authorship_tag": "ABX9TyNXB8nJRPpUioJJl88HkTFc",
      "include_colab_link": true
    },
    "kernelspec": {
      "name": "python3",
      "display_name": "Python 3"
    },
    "language_info": {
      "name": "python"
    }
  },
  "cells": [
    {
      "cell_type": "markdown",
      "metadata": {
        "id": "view-in-github",
        "colab_type": "text"
      },
      "source": [
        "<a href=\"https://colab.research.google.com/github/AmiMunshi/Introduction_to_Python_Programming/blob/main/Unit2_1_Strings.ipynb\" target=\"_parent\"><img src=\"https://colab.research.google.com/assets/colab-badge.svg\" alt=\"Open In Colab\"/></a>"
      ]
    },
    {
      "cell_type": "markdown",
      "metadata": {
        "id": "gf-uFLyFuNl0"
      },
      "source": [
        "#Unit 2 Python Data Structure and Flow Control\n",
        "**Syllabus**<br>\n",
        "String, List, Dictionary, Tuple,  Sets<br>\n",
        "Slicing<br>\n",
        "Properties, operations and methods used for these data structures<br>\n",
        "Conditional block using if-else and elif, simple for loops, for loop using range, while loop, loop manipulation using continue, break, pass<br>\n",
        "List and dictionary comprehension"
      ]
    },
    {
      "cell_type": "markdown",
      "metadata": {
        "id": "eeclFw0Pv-hR"
      },
      "source": [
        "#Data Structure\n",
        "\n",
        "The way or a structure or a form in which the data is stored so that they can be accessed easily for further processing, maniupulation, analysis.\n"
      ]
    },
    {
      "cell_type": "markdown",
      "metadata": {
        "id": "hCN6fnLyxX8w"
      },
      "source": [
        "###String\n",
        "Strings are array of bytes representing unicode characters"
      ]
    },
    {
      "cell_type": "markdown",
      "metadata": {
        "id": "YMz9Gp3HL2X_"
      },
      "source": [
        "**DIY** Find out about unicode characters"
      ]
    },
    {
      "cell_type": "markdown",
      "metadata": {
        "id": "PPYAZcNXQP2B"
      },
      "source": [
        "####String Operators"
      ]
    },
    {
      "cell_type": "code",
      "metadata": {
        "id": "VNdgHGRruHM_"
      },
      "source": [
        "# + operator for concatenation\n",
        "first_name= input(\"Enter your first name: \") #input from user\n",
        "last_name= \"Munshi\"\n",
        "name= first_name +\" \" +last_name #string concatenation\n",
        "print(name)"
      ],
      "execution_count": null,
      "outputs": []
    },
    {
      "cell_type": "code",
      "metadata": {
        "id": "5s8PNjzlI3m-"
      },
      "source": [
        "type(name) #type of variable name"
      ],
      "execution_count": null,
      "outputs": []
    },
    {
      "cell_type": "code",
      "metadata": {
        "id": "SH5-VMEnQZFn"
      },
      "source": [
        "# * operator for repetition\n",
        "word= \"good\"\n",
        "n=2\n",
        "2*word"
      ],
      "execution_count": null,
      "outputs": []
    },
    {
      "cell_type": "code",
      "metadata": {
        "colab": {
          "base_uri": "https://localhost:8080/"
        },
        "id": "R7vhUq7cPC-S",
        "outputId": "45740f6b-7025-43e5-d1d7-cd60a6bc0b9f"
      },
      "source": [
        "# in operator to check if certain word is present in the string\n",
        "info= \"Good morning Mumbai. Welcome to this program\"\n",
        "if \"Mumbai\" in info:\n",
        "  print(\"yes\")\n",
        "\n",
        "#Alternative way \n",
        "print(\"Mumbai\" in info)"
      ],
      "execution_count": null,
      "outputs": [
        {
          "output_type": "stream",
          "text": [
            "yes\n",
            "True\n"
          ],
          "name": "stdout"
        }
      ]
    },
    {
      "cell_type": "code",
      "metadata": {
        "id": "q29NZ-gEKBzG"
      },
      "source": [
        "#mulit line string\n",
        "announce= \"\"\"Hello and welcome to this program\n",
        "my name is Ami Munshi\"\"\" # can use single quotes also\n",
        "print(announce)"
      ],
      "execution_count": null,
      "outputs": []
    },
    {
      "cell_type": "markdown",
      "metadata": {
        "id": "lyvUmvgCSyeh"
      },
      "source": [
        "####Some basic in built function in string"
      ]
    },
    {
      "cell_type": "code",
      "metadata": {
        "colab": {
          "base_uri": "https://localhost:8080/",
          "height": 35
        },
        "id": "Iftaqry9TByR",
        "outputId": "c58bf0c0-9309-4231-f95c-46e5f3cb97fa"
      },
      "source": [
        "ord(\"a\")\n",
        "chr(65)\n",
        "len(\"fighter\")\n",
        "str(78)\n"
      ],
      "execution_count": null,
      "outputs": [
        {
          "output_type": "execute_result",
          "data": {
            "application/vnd.google.colaboratory.intrinsic+json": {
              "type": "string"
            },
            "text/plain": [
              "'78'"
            ]
          },
          "metadata": {
            "tags": []
          },
          "execution_count": 42
        }
      ]
    },
    {
      "cell_type": "markdown",
      "metadata": {
        "id": "j8_J32P4Tk95"
      },
      "source": [
        "####String Indexing and slicing"
      ]
    },
    {
      "cell_type": "code",
      "metadata": {
        "colab": {
          "base_uri": "https://localhost:8080/"
        },
        "id": "FWe9EQR7LvNK",
        "outputId": "3e711188-3264-47b8-f578-c630e8e19e87"
      },
      "source": [
        "#accessing string element\n",
        "city= \"Mumbai\"\n",
        "print(city[2])\n",
        "print (city[-1])"
      ],
      "execution_count": null,
      "outputs": [
        {
          "output_type": "stream",
          "text": [
            "m\n",
            "i\n"
          ],
          "name": "stdout"
        }
      ]
    },
    {
      "cell_type": "code",
      "metadata": {
        "colab": {
          "base_uri": "https://localhost:8080/"
        },
        "id": "eh8bW6B1Mfds",
        "outputId": "a8ca8101-5ff1-4321-fa3c-d17238d72c4d"
      },
      "source": [
        "#slicing examples\n",
        "data= 'Programming'\n",
        "#print(len(data)) #get length of the string\n",
        "#print(data[0:11]) #print all the characters\n",
        "#print(data[:])#print all the characters\n",
        "#print(data[::-1]) #print reverse\n",
        "#print(data[3:7])\n",
        "#print(data[0:-4])\n"
      ],
      "execution_count": null,
      "outputs": [
        {
          "output_type": "stream",
          "text": [
            "11\n",
            "Programming\n",
            "Programming\n",
            "gnimmargorP\n",
            "gram\n",
            "Program\n"
          ],
          "name": "stdout"
        }
      ]
    },
    {
      "cell_type": "code",
      "metadata": {
        "id": "Y9cX0yHGM33r"
      },
      "source": [
        "#print all the characters in the string one by one using for and in\n",
        "country=\"India\"\n",
        "for letter in country:\n",
        "  print(letter)"
      ],
      "execution_count": null,
      "outputs": []
    },
    {
      "cell_type": "code",
      "metadata": {
        "colab": {
          "base_uri": "https://localhost:8080/"
        },
        "id": "PVc9IeZgOZdL",
        "outputId": "3d6c8684-1aba-495f-d7f4-143c43115126"
      },
      "source": [
        "#count number of a letters in a string\n",
        "river= \"mississippi\"\n",
        "river.count(\"s\")"
      ],
      "execution_count": null,
      "outputs": [
        {
          "output_type": "execute_result",
          "data": {
            "text/plain": [
              "4"
            ]
          },
          "metadata": {
            "tags": []
          },
          "execution_count": 25
        }
      ]
    },
    {
      "cell_type": "markdown",
      "metadata": {
        "id": "fAHxiv5cUfP3"
      },
      "source": [
        "####Inserting values in to a string"
      ]
    },
    {
      "cell_type": "code",
      "metadata": {
        "id": "ZRIuLBzaPy9B"
      },
      "source": [
        "#Method 1\n",
        "x= 6\n",
        "y=7\n",
        "z= x+y\n",
        "print(\"when \", x, \" is added to \", y, \" we get \", z )\n"
      ],
      "execution_count": null,
      "outputs": []
    },
    {
      "cell_type": "code",
      "metadata": {
        "colab": {
          "base_uri": "https://localhost:8080/"
        },
        "id": "bez8YjFQU9Vl",
        "outputId": "d0f0735b-d167-4961-c7da-a5a42c4ecba3"
      },
      "source": [
        "#Method 2- using f-string\n",
        "\n",
        "m= 6\n",
        "n=7\n",
        "o= m + n\n",
        "print(f'sum of {m} and {n} is {o}')"
      ],
      "execution_count": null,
      "outputs": [
        {
          "output_type": "stream",
          "text": [
            "sum of 6 and 7 is 13\n"
          ],
          "name": "stdout"
        }
      ]
    },
    {
      "cell_type": "code",
      "metadata": {
        "colab": {
          "base_uri": "https://localhost:8080/"
        },
        "id": "4ZSn1PjtVuBN",
        "outputId": "d1ec9dc5-4262-4f56-e195-5fc7f1ddcc9f"
      },
      "source": [
        "# Method 3 using format\n",
        "student= \"Raj\"\n",
        "marks= \"87\"\n",
        "subject= \"Math\"\n",
        "\n",
        "print(\"{} got {} marks in {}\".format(student, marks, subject))\n"
      ],
      "execution_count": null,
      "outputs": [
        {
          "output_type": "stream",
          "text": [
            "Raj got 87 marks in Math\n"
          ],
          "name": "stdout"
        }
      ]
    },
    {
      "cell_type": "markdown",
      "metadata": {
        "id": "Kkc028kMY64j"
      },
      "source": [
        "###Modifying strings"
      ]
    },
    {
      "cell_type": "code",
      "metadata": {
        "id": "pAb9aUEQXQEI"
      },
      "source": [
        "#String is immutable\n",
        "\n",
        "colour= \"Orange\"\n",
        "colour[2]=\"x\" #Replacing the letter at index 2 is not possible\n",
        "print(colour)"
      ],
      "execution_count": null,
      "outputs": []
    },
    {
      "cell_type": "code",
      "metadata": {
        "colab": {
          "base_uri": "https://localhost:8080/"
        },
        "id": "N_NSS6akZXaE",
        "outputId": "cbf40948-4428-4bda-84ad-4229c98736da"
      },
      "source": [
        "Method 1 to modify string\n",
        "str1= colour[0:2] +\"x\" +colour[3:]\n",
        "print(str1)"
      ],
      "execution_count": null,
      "outputs": [
        {
          "output_type": "stream",
          "text": [
            "Orxnge\n"
          ],
          "name": "stdout"
        }
      ]
    },
    {
      "cell_type": "code",
      "metadata": {
        "colab": {
          "base_uri": "https://localhost:8080/"
        },
        "id": "6FaCHf9NZuae",
        "outputId": "0920905d-b89a-4165-9af8-30d99eedf103"
      },
      "source": [
        "#Method 2- Use in built method\n",
        "\n",
        "planet= \"Saturn\"\n",
        "planet= planet.replace(\"t\",\"X\")\n",
        "print(planet)"
      ],
      "execution_count": null,
      "outputs": [
        {
          "output_type": "stream",
          "text": [
            "SaXurn\n"
          ],
          "name": "stdout"
        }
      ]
    },
    {
      "cell_type": "markdown",
      "metadata": {
        "id": "ti6ZBf7xaWxe"
      },
      "source": [
        "####Some useful methods in strings- **EXPLORE**\n",
        "\n",
        "capitalize()\tConverts the first character to upper case <br>\n",
        "upper() Converts all the characters in upper case<br>\n",
        "lower() Converst all the characters in lower case<br>\n",
        "casefold()\tConverts string into lower case<br>\n",
        "center()\tReturns a centered string<br>\n",
        "count()\tReturns the number of times a specified value occurs in a string<br>\n",
        "encode()\tReturns an encoded version of the string<br>\n",
        "endswith()\tReturns true if the string ends with the specified value<br>\n",
        "expandtabs()\tSets the tab size of the string<br>\n",
        "find()\tSearches the string for a specified value and returns the position of where it was found<br>\n",
        "format()\tFormats specified values in a string<br>\n",
        "format_map()\tFormats specified values in a string<br>\n",
        "index()\tSearches the string for a specified value and returns the position of where it was found<br>\n",
        "isalnum()\tReturns True if all characters in the string are alphanumeric<br>\n",
        "isalpha()\tReturns True if all characters in the string are in the alphabet<br>\n",
        "isdecimal()\tReturns True if all characters in the string are decimals<br>\n",
        "isdigit()\tReturns True if all characters in the string are digits<br>\n",
        "isidentifier()\tReturns True if the string is an identifier<br>\n",
        "islower()\tReturns True if all characters in the string are lower case<br>\n",
        "isnumeric()\tReturns True if all characters in the string are numeric<br>\n",
        "isprintable()\tReturns True if all characters in the string are printable<br>\n",
        "isspace()\tReturns True if all characters in the string are whitespaces<br>"
      ]
    },
    {
      "cell_type": "code",
      "metadata": {
        "id": "pJ278go7aO9Q"
      },
      "source": [
        "#Examples\n",
        "name= \"jiya\"\n",
        "print(name.upper())\n",
        "print(\"Good Morning\".isspace())\n",
        "print(\"     \".isspace())\n",
        "print(\"123\".isdigit())"
      ],
      "execution_count": null,
      "outputs": []
    },
    {
      "cell_type": "markdown",
      "metadata": {
        "id": "OZeuTZ9NccjP"
      },
      "source": [
        "####Use of escape character \\- **EXPLORE**\n",
        "\n",
        "\n",
        "\\'\tSingle Quote\t<br>\n",
        "\\\\\tBackslash\t<br>\n",
        "\\n\tNew Line\t<br>\n",
        "\\r\tCarriage Return <br>\t\n",
        "\\t\tTab\t<br>\n",
        "\\b\tBackspace<br>\t\n",
        "\\f\tForm Feed\t<br>\n",
        "\\ooo\tOctal value\t<br>\n",
        "\\xhh\tHex value<br>"
      ]
    },
    {
      "cell_type": "code",
      "metadata": {
        "id": "CZ3NA-2_bTT1"
      },
      "source": [
        "#Some examples\n",
        "print(\"My am a \\\"Champion\\\" in this game\") # use of double quotes within a text\n"
      ],
      "execution_count": null,
      "outputs": []
    },
    {
      "cell_type": "code",
      "metadata": {
        "id": "mEN_G7Ooc80e"
      },
      "source": [
        "print(\"You go to school \\ndo your homework in the evening\") #use of new line character"
      ],
      "execution_count": null,
      "outputs": []
    },
    {
      "cell_type": "markdown",
      "metadata": {
        "id": "YlO2q194es3t"
      },
      "source": [
        "####String to List and Back to string"
      ]
    },
    {
      "cell_type": "code",
      "metadata": {
        "colab": {
          "base_uri": "https://localhost:8080/"
        },
        "id": "BPcN_8KTdK_H",
        "outputId": "e2db0310-45c8-481c-e68f-43ce0aeea084"
      },
      "source": [
        "sentence= \"We all like Python programming\"\n",
        "print(sentence)\n",
        "new= sentence.split(\" \")\n",
        "print(new)\n",
        "sentence_again= \" \".join(new)\n",
        "print(sentence_again)"
      ],
      "execution_count": null,
      "outputs": [
        {
          "output_type": "stream",
          "text": [
            "We all like Python programming\n",
            "['We', 'all', 'like', 'Python', 'programming']\n",
            "We all like Python programming\n"
          ],
          "name": "stdout"
        }
      ]
    },
    {
      "cell_type": "code",
      "metadata": {
        "id": "I2dw1nDBe_Zw"
      },
      "source": [
        ""
      ],
      "execution_count": null,
      "outputs": []
    }
  ]
}