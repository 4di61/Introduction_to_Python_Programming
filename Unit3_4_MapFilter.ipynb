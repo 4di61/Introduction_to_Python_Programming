{
  "nbformat": 4,
  "nbformat_minor": 0,
  "metadata": {
    "colab": {
      "name": "Unit3.4_MapFilter.ipynb",
      "provenance": [],
      "authorship_tag": "ABX9TyMtTxLH6TlD/6WEWvwKJK5v",
      "include_colab_link": true
    },
    "kernelspec": {
      "name": "python3",
      "display_name": "Python 3"
    },
    "language_info": {
      "name": "python"
    }
  },
  "cells": [
    {
      "cell_type": "markdown",
      "metadata": {
        "id": "view-in-github",
        "colab_type": "text"
      },
      "source": [
        "<a href=\"https://colab.research.google.com/github/AmiMunshi/Introduction_to_Python_Programming/blob/main/Unit3_4_MapFilter.ipynb\" target=\"_parent\"><img src=\"https://colab.research.google.com/assets/colab-badge.svg\" alt=\"Open In Colab\"/></a>"
      ]
    },
    {
      "cell_type": "markdown",
      "metadata": {
        "id": "jYF9-ewmdPBq"
      },
      "source": [
        "map()\n",
        "\n",
        "It is Python's built-in function to used to apply the given function to all the iterables. The returned value from map() (map object) can then be passed to functions like list() (to create a list), set() (to create a set) and so on."
      ]
    },
    {
      "cell_type": "code",
      "metadata": {
        "id": "mjnXemWmOQVT"
      },
      "source": [
        "#Function to obtain square of numbers\n",
        "\n",
        "def squares(n):\n",
        "  return n**2"
      ],
      "execution_count": null,
      "outputs": []
    },
    {
      "cell_type": "code",
      "metadata": {
        "id": "Rm_w8uC8eosw"
      },
      "source": [
        "#Use map to obtain square of nos in the given tuple\n",
        "num= (1,2,3,4)\n",
        "\n",
        "z= list(map(squares, num))\n"
      ],
      "execution_count": null,
      "outputs": []
    },
    {
      "cell_type": "code",
      "metadata": {
        "colab": {
          "base_uri": "https://localhost:8080/"
        },
        "id": "29GjLmEAUY5l",
        "outputId": "4a22a42a-9313-495a-db20-94cda245d6e3"
      },
      "source": [
        "print(z)"
      ],
      "execution_count": null,
      "outputs": [
        {
          "output_type": "stream",
          "text": [
            "[1, 4, 9, 16]\n"
          ],
          "name": "stdout"
        }
      ]
    },
    {
      "cell_type": "code",
      "metadata": {
        "id": "8xGvJs3geyjg"
      },
      "source": [
        "#Function to find length of each word \n",
        "\n",
        "def word_len(n):\n",
        "  return len(n)\n",
        "\n"
      ],
      "execution_count": null,
      "outputs": []
    },
    {
      "cell_type": "code",
      "metadata": {
        "colab": {
          "base_uri": "https://localhost:8080/"
        },
        "id": "1x8usUuXVSFe",
        "outputId": "2b4617d9-dd10-4d13-ee03-7d9a4142de75"
      },
      "source": [
        "print(word_len(\"Mumbai\"))"
      ],
      "execution_count": null,
      "outputs": [
        {
          "output_type": "stream",
          "text": [
            "6\n"
          ],
          "name": "stdout"
        }
      ]
    },
    {
      "cell_type": "code",
      "metadata": {
        "id": "OsVdJaqZgfdp",
        "colab": {
          "base_uri": "https://localhost:8080/"
        },
        "outputId": "3b51dac6-884c-46c3-d48a-973b8d8ddbcc"
      },
      "source": [
        "#Using map , calculate length of each word in the given tuple/list\n",
        "\n",
        "names= [\"Jeet\", \"Jiya\", \"Ahaan\", \"Aarya\", \"Vanishka\"]\n",
        "\n",
        "length_string= list(map(word_len,names))\n",
        "\n",
        "print(length_string)\n"
      ],
      "execution_count": null,
      "outputs": [
        {
          "output_type": "stream",
          "text": [
            "[4, 4, 5, 5, 8]\n"
          ],
          "name": "stdout"
        }
      ]
    },
    {
      "cell_type": "code",
      "metadata": {
        "id": "mPI2OymJhEXt"
      },
      "source": [
        "#Function to concatenate two strings\n",
        "\n",
        "def myfunc(a, b):\n",
        "  return a + b\n",
        "\n"
      ],
      "execution_count": null,
      "outputs": []
    },
    {
      "cell_type": "code",
      "metadata": {
        "colab": {
          "base_uri": "https://localhost:8080/"
        },
        "id": "xUQmKFbbV71f",
        "outputId": "172d6795-3212-402e-f2f4-1d7871d77923"
      },
      "source": [
        "greet= [\"Hello\", \"Good morning\", \"Thank you\"]\n",
        "names= names= [\" Jeet\", \" Jiya\", \" Ahaan\"]\n",
        "\n",
        "greeting= list(map(myfunc, greet, names))\n",
        "print(greeting)"
      ],
      "execution_count": null,
      "outputs": [
        {
          "output_type": "stream",
          "text": [
            "['Hello Jeet', 'Good morning Jiya', 'Thank you Ahaan']\n"
          ],
          "name": "stdout"
        }
      ]
    },
    {
      "cell_type": "code",
      "metadata": {
        "id": "z-s6yf1neVhT"
      },
      "source": [
        "#Function to multiple by two\n",
        "def mul(i):\n",
        "  return 2*i\n",
        "                                                                                                                                                                                                                                                                                                                                                                                                                                                                                                                                                                                                                                                                                                                                                                                                                                                                                                                                                                                                                                                                                                                                                                                                                                                                    "
      ],
      "execution_count": null,
      "outputs": []
    },
    {
      "cell_type": "code",
      "metadata": {
        "id": "ixH-fUj-fR7p",
        "colab": {
          "base_uri": "https://localhost:8080/"
        },
        "outputId": "d43cd4cd-9fda-4584-abd3-75a3a207b64e"
      },
      "source": [
        "#two times table using map()\n",
        "\n",
        "table= list(map(mul, list(range(1,13))))\n",
        "print(table)"
      ],
      "execution_count": null,
      "outputs": [
        {
          "output_type": "stream",
          "text": [
            "[2, 4, 6, 8, 10, 12, 14, 16, 18, 20, 22, 24]\n"
          ],
          "name": "stdout"
        }
      ]
    },
    {
      "cell_type": "markdown",
      "metadata": {
        "id": "d7puZvkGgQHa"
      },
      "source": [
        "Using lambda function with map()"
      ]
    },
    {
      "cell_type": "code",
      "metadata": {
        "id": "hyuHdKmmg2N2"
      },
      "source": [
        "#Two times table using lambda function with map()\n",
        "\n",
        "num=list(range(1,13))\n",
        "\n",
        "table_2= list(map(lambda i: 2*i, num))\n",
        "\n"
      ],
      "execution_count": null,
      "outputs": []
    },
    {
      "cell_type": "code",
      "metadata": {
        "colab": {
          "base_uri": "https://localhost:8080/"
        },
        "id": "bcCiV53tZZi3",
        "outputId": "f43229fa-f543-4b61-f387-ee542de32be8"
      },
      "source": [
        "print(table_2)"
      ],
      "execution_count": null,
      "outputs": [
        {
          "output_type": "stream",
          "text": [
            "[2, 4, 6, 8, 10, 12, 14, 16, 18, 20, 22, 24]\n"
          ],
          "name": "stdout"
        }
      ]
    },
    {
      "cell_type": "code",
      "metadata": {
        "id": "itpVFxpMg_ZW",
        "colab": {
          "base_uri": "https://localhost:8080/"
        },
        "outputId": "3d53b966-b951-47f3-8b11-e59db0461271"
      },
      "source": [
        "#Convert all the letters in the strings in the given list to upper characters\n",
        "\n",
        "fruits= [\"banana\", \"mango\", \"apple\", \"grapes\"]\n",
        "\n",
        "upper_case= list(map(lambda s:s.upper(), fruits))\n",
        "\n",
        "print(upper_case)\n"
      ],
      "execution_count": null,
      "outputs": [
        {
          "output_type": "stream",
          "text": [
            "['BANANA', 'MANGO', 'APPLE', 'GRAPES']\n"
          ],
          "name": "stdout"
        }
      ]
    },
    {
      "cell_type": "code",
      "metadata": {
        "id": "lQv6IXeyanPX"
      },
      "source": [
        "upper_case(\"school\")"
      ],
      "execution_count": null,
      "outputs": []
    },
    {
      "cell_type": "code",
      "metadata": {
        "id": "ruDdqYYZkmax"
      },
      "source": [
        "#Add a string in the dictionary value\n",
        "\n",
        "wages= {\"A\": \"2500\", \"B\": \"3000\", \"C\": \"3700\"}\n",
        "\n",
        "new_wages= dict(map(lambda d: (d[0], \"Rs\"+d[1]), wages.items()))\n",
        "\n"
      ],
      "execution_count": null,
      "outputs": []
    },
    {
      "cell_type": "code",
      "metadata": {
        "id": "LDJWMCuVcn14",
        "colab": {
          "base_uri": "https://localhost:8080/"
        },
        "outputId": "e2aeee40-a35c-4f3a-c115-23b5f6ba4e58"
      },
      "source": [
        "print(new_wages)"
      ],
      "execution_count": null,
      "outputs": [
        {
          "output_type": "stream",
          "text": [
            "{'A': 'Rs2500', 'B': 'Rs3000', 'C': 'Rs3700'}\n"
          ],
          "name": "stdout"
        }
      ]
    },
    {
      "cell_type": "code",
      "metadata": {
        "colab": {
          "base_uri": "https://localhost:8080/"
        },
        "id": "Ab4RqeqDbgO5",
        "outputId": "5a0a3515-7b62-450a-c245-97108bf8e5bd"
      },
      "source": [
        "for d in wages.items():\n",
        "  print(d)\n",
        "  print(d[0])\n",
        "  print(d[1])\n"
      ],
      "execution_count": null,
      "outputs": [
        {
          "output_type": "stream",
          "text": [
            "('A', '2500')\n",
            "A\n",
            "2500\n",
            "('B', '3000')\n",
            "B\n",
            "3000\n",
            "('C', '3700')\n",
            "C\n",
            "3700\n"
          ],
          "name": "stdout"
        }
      ]
    },
    {
      "cell_type": "code",
      "metadata": {
        "colab": {
          "base_uri": "https://localhost:8080/"
        },
        "id": "JCRdBmUvmHp5",
        "outputId": "3f9d32fb-3728-45e7-893b-953e55974152"
      },
      "source": [
        "#update dictionary from two lists using map and lambda function\n",
        "\n",
        "students=[\"Jeet\", \"Jiya\", \"Rohan\"]\n",
        "marks= [15,14,13]\n",
        "\n",
        "dict1= dict(map(lambda key,value:(key,value), students,marks))\n",
        "print(dict1)"
      ],
      "execution_count": null,
      "outputs": [
        {
          "output_type": "stream",
          "text": [
            "{'Jeet': 15, 'Jiya': 14, 'Rohan': 13}\n"
          ],
          "name": "stdout"
        }
      ]
    },
    {
      "cell_type": "code",
      "metadata": {
        "id": "r72zIYKcnJqX",
        "colab": {
          "base_uri": "https://localhost:8080/"
        },
        "outputId": "35908d5a-ecbc-4f7b-81ba-e97402f3f0cf"
      },
      "source": [
        "#Write a lamda function using map that returns product of the elements in two lists\n",
        "lst1= [1,2,3,4,5]\n",
        "lst2= [5,4,3,2,1]\n",
        "\n",
        "lst3= list(map(lambda x,y:x*y,lst1,lst2))\n",
        "print(lst3)"
      ],
      "execution_count": null,
      "outputs": [
        {
          "output_type": "stream",
          "text": [
            "[5, 8, 9, 8, 5]\n"
          ],
          "name": "stdout"
        }
      ]
    },
    {
      "cell_type": "markdown",
      "metadata": {
        "id": "-MoVQqmYN66C"
      },
      "source": [
        "Filter()\n",
        "It filters the array and returns a new array with filtered value"
      ]
    },
    {
      "cell_type": "code",
      "metadata": {
        "id": "RoNxv-wJNdTT"
      },
      "source": [
        "#Program to display all the even nos \n",
        "\n"
      ],
      "execution_count": null,
      "outputs": []
    },
    {
      "cell_type": "code",
      "metadata": {
        "id": "ByWzkgjXNcpM"
      },
      "source": [
        "#Program to display all the even nos in the list using filter\n",
        "\n"
      ],
      "execution_count": null,
      "outputs": []
    },
    {
      "cell_type": "code",
      "metadata": {
        "id": "fOaWdXkXXO1w",
        "colab": {
          "base_uri": "https://localhost:8080/"
        },
        "outputId": "4f7b55f1-2926-4828-85c4-f16ee37091aa"
      },
      "source": [
        "#Program to display all the nos which are square roots in the given list using filter()\n",
        "\n"
      ],
      "execution_count": null,
      "outputs": [
        {
          "output_type": "stream",
          "text": [
            "[1, 2, 3, 4, 5, 6, 7, 8, 9, 10, 11, 12, 13, 14, 15, 16, 17, 18, 19, 20, 21, 22, 23, 24, 25, 26, 27, 28, 29, 30, 31, 32, 33, 34, 35, 36, 37, 38, 39, 40, 41, 42, 43, 44, 45, 46, 47, 48, 49, 50, 51, 52, 53, 54, 55, 56, 57, 58, 59, 60, 61, 62, 63, 64, 65, 66, 67, 68, 69, 70, 71, 72, 73, 74, 75, 76, 77, 78, 79, 80, 81, 82, 83, 84, 85, 86, 87, 88, 89, 90, 91, 92, 93, 94, 95, 96, 97, 98, 99, 100]\n"
          ],
          "name": "stdout"
        }
      ]
    },
    {
      "cell_type": "code",
      "metadata": {
        "id": "EhxDycT2Hqpc"
      },
      "source": [
        ""
      ],
      "execution_count": null,
      "outputs": []
    },
    {
      "cell_type": "code",
      "metadata": {
        "id": "fBGF2hnZIi94"
      },
      "source": [
        ""
      ],
      "execution_count": null,
      "outputs": []
    },
    {
      "cell_type": "code",
      "metadata": {
        "id": "A2r2ezeTI5in"
      },
      "source": [
        ""
      ],
      "execution_count": null,
      "outputs": []
    }
  ]
}