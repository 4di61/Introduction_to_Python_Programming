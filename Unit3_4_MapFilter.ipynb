{
  "nbformat": 4,
  "nbformat_minor": 0,
  "metadata": {
    "colab": {
      "name": "Unit3.4_MapFilter.ipynb",
      "provenance": [],
      "authorship_tag": "ABX9TyOKaWgR+dxvo+34hO7PftIR",
      "include_colab_link": true
    },
    "kernelspec": {
      "name": "python3",
      "display_name": "Python 3"
    },
    "language_info": {
      "name": "python"
    }
  },
  "cells": [
    {
      "cell_type": "markdown",
      "metadata": {
        "id": "view-in-github",
        "colab_type": "text"
      },
      "source": [
        "<a href=\"https://colab.research.google.com/github/AmiMunshi/Introduction_to_Python_Programming/blob/main/Unit3_4_MapFilter.ipynb\" target=\"_parent\"><img src=\"https://colab.research.google.com/assets/colab-badge.svg\" alt=\"Open In Colab\"/></a>"
      ]
    },
    {
      "cell_type": "markdown",
      "metadata": {
        "id": "jYF9-ewmdPBq"
      },
      "source": [
        "map()\n",
        "\n",
        "It is Python's built-in function to used to apply the given function to all the iterables. The returned value from map() (map object) can then be passed to functions like list() (to create a list), set() (to create a set) and so on."
      ]
    },
    {
      "cell_type": "code",
      "metadata": {
        "id": "mjnXemWmOQVT"
      },
      "source": [
        "#Function to obtain square of numbers\n",
        "\n",
        "def squares(n):\n",
        "  return n**2"
      ],
      "execution_count": null,
      "outputs": []
    },
    {
      "cell_type": "code",
      "metadata": {
        "id": "Rm_w8uC8eosw"
      },
      "source": [
        "#Use map to obtain square of nos in the given tuple\n"
      ],
      "execution_count": null,
      "outputs": []
    },
    {
      "cell_type": "code",
      "metadata": {
        "id": "8xGvJs3geyjg"
      },
      "source": [
        "#Function to find length of each word \n",
        "\n",
        "def word_len(n):\n",
        "  return len(n)\n",
        "\n"
      ],
      "execution_count": null,
      "outputs": []
    },
    {
      "cell_type": "code",
      "metadata": {
        "id": "OsVdJaqZgfdp"
      },
      "source": [
        "#Using map , calculate length of each word in the given tuple\n"
      ],
      "execution_count": null,
      "outputs": []
    },
    {
      "cell_type": "code",
      "metadata": {
        "id": "mPI2OymJhEXt"
      },
      "source": [
        "#Function to concatenate two strings\n",
        "\n",
        "def myfunc(a, b):\n",
        "  return a + b\n",
        "\n"
      ],
      "execution_count": null,
      "outputs": []
    },
    {
      "cell_type": "code",
      "metadata": {
        "id": "z-s6yf1neVhT"
      },
      "source": [
        "#Function to multiple by two\n",
        "def mul(i):\n",
        "  return 2*i\n",
        "                                                                                                                                                                                                                                                                                                                                                                                                                                                                                                                                                                                                                                                                                                                                                                                                                                                                                                                                                                                                                                                                                                                                                                                                                                                                    "
      ],
      "execution_count": null,
      "outputs": []
    },
    {
      "cell_type": "code",
      "metadata": {
        "id": "ixH-fUj-fR7p"
      },
      "source": [
        "#two times table using map()"
      ],
      "execution_count": null,
      "outputs": []
    },
    {
      "cell_type": "markdown",
      "metadata": {
        "id": "d7puZvkGgQHa"
      },
      "source": [
        "Using lambda function with map()"
      ]
    },
    {
      "cell_type": "code",
      "metadata": {
        "id": "hyuHdKmmg2N2"
      },
      "source": [
        "#Two times table using lambda function with map()\n",
        "\n",
        "num=list(range(1,13))\n",
        "\n"
      ],
      "execution_count": null,
      "outputs": []
    },
    {
      "cell_type": "code",
      "metadata": {
        "id": "itpVFxpMg_ZW"
      },
      "source": [
        "#Convert all the letters in the strings in the given list to upper characters\n",
        "\n",
        "fruits= [\"banana\", \"mango\", \"apple\", \"grapes\"]\n",
        "\n",
        "\n"
      ],
      "execution_count": null,
      "outputs": []
    },
    {
      "cell_type": "code",
      "metadata": {
        "colab": {
          "base_uri": "https://localhost:8080/"
        },
        "id": "ruDdqYYZkmax",
        "outputId": "6bbb2412-1299-4141-c726-93e051a28099"
      },
      "source": [
        "#Add a string in the dictionary value\n",
        "\n",
        "wages= {\"A\": \"2500\", \"B\": \"3000\", \"C\": \"3700\"}\n",
        "\n"
      ],
      "execution_count": null,
      "outputs": [
        {
          "output_type": "stream",
          "text": [
            "{'A': 'Rs2500', 'B': 'Rs3000', 'C': 'Rs3700'}\n"
          ],
          "name": "stdout"
        }
      ]
    },
    {
      "cell_type": "code",
      "metadata": {
        "colab": {
          "base_uri": "https://localhost:8080/"
        },
        "id": "JCRdBmUvmHp5",
        "outputId": "bd1af02d-a19e-4587-be36-25a4c21d4f0f"
      },
      "source": [
        "#update dictionary from two lists using map and lambda function\n",
        "\n",
        "students=[\"Jeet\", \"Jiya\", \"Rohan\"]\n",
        "marks= [15,14,13]\n",
        "\n"
      ],
      "execution_count": null,
      "outputs": [
        {
          "output_type": "stream",
          "text": [
            "{'Jeet': 15, 'Jiya': 14, 'Rohan': 13}\n"
          ],
          "name": "stdout"
        }
      ]
    },
    {
      "cell_type": "code",
      "metadata": {
        "id": "r72zIYKcnJqX"
      },
      "source": [
        "#Write a lamda function using map that returns product of the elements in two lists\n",
        "#lst1= [1,2,3,4,5]\n",
        "#lst2= [5,4,3,2,1]"
      ],
      "execution_count": null,
      "outputs": []
    }
  ]
}