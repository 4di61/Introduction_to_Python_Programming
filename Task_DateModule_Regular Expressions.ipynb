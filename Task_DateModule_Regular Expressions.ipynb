{
  "nbformat": 4,
  "nbformat_minor": 0,
  "metadata": {
    "colab": {
      "provenance": [],
      "authorship_tag": "ABX9TyM8dBstNClwKRpg+V6dIV8q",
      "include_colab_link": true
    },
    "kernelspec": {
      "name": "python3",
      "display_name": "Python 3"
    }
  },
  "cells": [
    {
      "cell_type": "markdown",
      "metadata": {
        "id": "view-in-github",
        "colab_type": "text"
      },
      "source": [
        "<a href=\"https://colab.research.google.com/github/AmiMunshi/Introduction_to_Python_Programming/blob/main/IBM_Expt_6.ipynb\" target=\"_parent\"><img src=\"https://colab.research.google.com/assets/colab-badge.svg\" alt=\"Open In Colab\"/></a>"
      ]
    },
    {
      "cell_type": "markdown",
      "metadata": {
        "id": "uZtXE8JDz7Vt"
      },
      "source": [
        "Date Time Module"
      ]
    },
    {
      "cell_type": "code",
      "metadata": {
        "id": "WwPpHDlGWmPU",
        "colab": {
          "base_uri": "https://localhost:8080/",
          "height": 50
        },
        "outputId": "5a89ca73-3df6-4685-9e29-2b074674f8d3"
      },
      "source": [
        "#Get current date and time\n",
        "import datetime\n",
        "\n",
        "present = datetime.datetime.now()\n",
        "print(present)\n"
      ],
      "execution_count": null,
      "outputs": [
        {
          "output_type": "stream",
          "text": [
            "2020-09-02 06:40:27.184639\n",
            "<built-in method time of datetime.datetime object at 0x7f8101a5a760>\n"
          ],
          "name": "stdout"
        }
      ]
    },
    {
      "cell_type": "code",
      "metadata": {
        "id": "a5Mx85frXL1j",
        "colab": {
          "base_uri": "https://localhost:8080/",
          "height": 34
        },
        "outputId": "f01d429c-444f-4061-efbf-56f958482df7"
      },
      "source": [
        "#Current date\n",
        "import datetime\n",
        "\n",
        "Date_today = datetime.date.today()\n",
        "print(Date_today)"
      ],
      "execution_count": null,
      "outputs": [
        {
          "output_type": "stream",
          "text": [
            "2020-09-02\n"
          ],
          "name": "stdout"
        }
      ]
    },
    {
      "cell_type": "code",
      "metadata": {
        "id": "JSv-dheTghXg"
      },
      "source": [
        "#Today's year, month and day\n",
        "import datetime\n",
        "# date object of today's date\n",
        "present = date.today() \n",
        "\n",
        "print(\"Current year:\", present.year)\n",
        "print(\"Current month:\", present.month)\n",
        "print(\"Current day:\", present.day)"
      ],
      "execution_count": null,
      "outputs": []
    },
    {
      "cell_type": "code",
      "metadata": {
        "id": "YNFn0wWbXxX4",
        "colab": {
          "base_uri": "https://localhost:8080/",
          "height": 34
        },
        "outputId": "c927d022-34be-4843-dd32-719a0a69e5ae"
      },
      "source": [
        "#Date object to represent a date\n",
        "import datetime\n",
        "\n",
        "D = datetime.date(2000,8,15)\n",
        "print(D)"
      ],
      "execution_count": null,
      "outputs": [
        {
          "output_type": "stream",
          "text": [
            "2000-08-15\n"
          ],
          "name": "stdout"
        }
      ]
    },
    {
      "cell_type": "code",
      "metadata": {
        "id": "3DjdNJqTYV1f"
      },
      "source": [
        "#Print today's year, month and day\n",
        "import datetime\n",
        "# date object of today's date\n",
        "present = date.today() \n",
        "\n",
        "print(\"Current year:\", present.year)\n",
        "print(\"Current month:\", present.month)\n",
        "print(\"Current day:\", present.day)"
      ],
      "execution_count": null,
      "outputs": []
    },
    {
      "cell_type": "code",
      "metadata": {
        "id": "boxgmQ63iGw5",
        "colab": {
          "base_uri": "https://localhost:8080/",
          "height": 50
        },
        "outputId": "c2bc92b1-9a4e-49a6-eb76-99e8901b0a1d"
      },
      "source": [
        "#Time object to represent a Time\n",
        "import datetime \n",
        "\n",
        "# time(hour = 0, minute = 0, second = 0)\n",
        "a = datetime.time()\n",
        "print(\"a =\", a)\n",
        "b= datetime.time(00, 45, 30)\n",
        "print(b)"
      ],
      "execution_count": null,
      "outputs": [
        {
          "output_type": "stream",
          "text": [
            "a = 00:00:00\n",
            "00:45:30\n"
          ],
          "name": "stdout"
        }
      ]
    },
    {
      "cell_type": "code",
      "metadata": {
        "id": "JmtQpJF8iKjx",
        "colab": {
          "base_uri": "https://localhost:8080/",
          "height": 101
        },
        "outputId": "542210ef-932e-416f-8542-d53caf9ea10d"
      },
      "source": [
        "# Print year, month, hour, minute and timestamp\n",
        "from datetime import datetime\n",
        "\n",
        "a = datetime(2020, 8, 31, 2, 20, 55, 423)\n",
        "print(\"year =\", a.year)\n",
        "print(\"month =\", a.month)\n",
        "print(\"hour =\", a.hour)\n",
        "print(\"minute =\", a.minute)\n",
        "print(\"timestamp =\", a.timestamp())"
      ],
      "execution_count": null,
      "outputs": [
        {
          "output_type": "stream",
          "text": [
            "year = 2020\n",
            "month = 8\n",
            "hour = 2\n",
            "minute = 20\n",
            "timestamp = 1598840455.000423\n"
          ],
          "name": "stdout"
        }
      ]
    },
    {
      "cell_type": "code",
      "metadata": {
        "id": "wP-kSnnbjmTA",
        "colab": {
          "base_uri": "https://localhost:8080/",
          "height": 51
        },
        "outputId": "986e1aeb-26ff-4de9-f881-c2349f09a02b"
      },
      "source": [
        "#Difference between two dates and times- Example 1\n",
        "from datetime import date\n",
        "d1 = date(year = 2020, month = 9, day = 15)\n",
        "d2 = date(year = 2018, month = 11, day = 2)\n",
        "d3 = d1 - d2\n",
        "print(\"difference= \", d3)\n",
        "print(type(d3))\n",
        "\n"
      ],
      "execution_count": null,
      "outputs": [
        {
          "output_type": "stream",
          "text": [
            "difference=  683 days, 0:00:00\n",
            "<class 'datetime.timedelta'>\n"
          ],
          "name": "stdout"
        }
      ]
    },
    {
      "cell_type": "code",
      "metadata": {
        "id": "ad4V4i_HkxCG",
        "colab": {
          "base_uri": "https://localhost:8080/",
          "height": 50
        },
        "outputId": "973f79c6-4ca4-4dd9-d093-3848f5e6b069"
      },
      "source": [
        "#Difference between two dates and times- Example 2\n",
        "d4 = datetime(year = 2020, month = 9, day = 15, hour = 9, minute = 21, second = 43)\n",
        "d5 = datetime(year = 2018, month = 11, day = 2, hour = 14, minute = 57, second = 11)\n",
        "d6 = d4 - d5\n",
        "print(\"Difference =\", d6)\n",
        "\n",
        " \n",
        "print(type(d6))  \n"
      ],
      "execution_count": null,
      "outputs": [
        {
          "output_type": "stream",
          "text": [
            "Difference = 682 days, 18:24:32\n",
            "<class 'datetime.timedelta'>\n"
          ],
          "name": "stdout"
        }
      ]
    },
    {
      "cell_type": "markdown",
      "metadata": {
        "id": "_zwcBTHJ0AHL"
      },
      "source": []
    },
    {
      "cell_type": "code",
      "metadata": {
        "id": "ugEgOQb6mKRU",
        "colab": {
          "base_uri": "https://localhost:8080/",
          "height": 34
        },
        "outputId": "f3ec26c7-5d0f-40d7-84b5-39fff5e7b4eb"
      },
      "source": [
        "#Difference in months\n",
        "d7=(d4.year - d5.year) * 12 + (d4.month - d5.month)\n",
        "print(\"Difference in months \", d7)"
      ],
      "execution_count": null,
      "outputs": [
        {
          "output_type": "stream",
          "text": [
            "Difference in months  22\n"
          ],
          "name": "stdout"
        }
      ]
    },
    {
      "cell_type": "markdown",
      "metadata": {
        "id": "8XzPle550FCq"
      },
      "source": [
        "Regular Expressions"
      ]
    },
    {
      "cell_type": "code",
      "metadata": {
        "id": "yom2w8zRoACN"
      },
      "source": [
        "\n",
        "#can be used to check if a string contains the specified search pattern\n",
        "#Python has a built-in package called re, which can be used to work with Regular Expressions"
      ],
      "execution_count": null,
      "outputs": []
    },
    {
      "cell_type": "code",
      "metadata": {
        "id": "h06fKRW5-thT"
      },
      "source": [
        "str1= \"Good morning India\"\n",
        "str2= \"good123morning\""
      ],
      "execution_count": null,
      "outputs": []
    },
    {
      "cell_type": "code",
      "metadata": {
        "id": "PO8e2pmE1hkV",
        "colab": {
          "base_uri": "https://localhost:8080/",
          "height": 34
        },
        "outputId": "af895136-9d79-4bbc-e230-c48aa835c82e"
      },
      "source": [
        "import re\n",
        "text= \"cat bat mat sat rat hat\"\n",
        "search1 = re.findall(\".at\", text)\n",
        "print(search1)"
      ],
      "execution_count": null,
      "outputs": [
        {
          "output_type": "stream",
          "text": [
            "['cat', 'bat', 'mat', 'sat', 'rat', 'hat']\n"
          ],
          "name": "stdout"
        }
      ]
    },
    {
      "cell_type": "code",
      "metadata": {
        "id": "Qut8ts9-2BvH",
        "colab": {
          "base_uri": "https://localhost:8080/",
          "height": 52
        },
        "outputId": "7382b761-1d0d-4487-f9ec-c74a2e5eb30e"
      },
      "source": [
        "#Search for a sequence that starts with \"he\", followed by two (any) characters, and an \"o\": Txt=”hello world”\n",
        "import re\n",
        "text= \"hemmo world\"\n",
        "search1 = re.findall(\"he..o\", text)\n",
        "search2= re.search(\"he..o\", text)\n",
        "print(search1)\n",
        "print(search2)"
      ],
      "execution_count": null,
      "outputs": [
        {
          "output_type": "stream",
          "text": [
            "['hemmo']\n",
            "<_sre.SRE_Match object; span=(0, 5), match='hemmo'>\n"
          ],
          "name": "stdout"
        }
      ]
    },
    {
      "cell_type": "code",
      "metadata": {
        "id": "9u8dG8yiA3yd",
        "colab": {
          "base_uri": "https://localhost:8080/",
          "height": 35
        },
        "outputId": "5f94e6c6-8b1c-44d1-e742-804ea2ded800"
      },
      "source": [
        "text= \"world hemmo \"\n",
        "\n",
        "search2= re.search(\"he..o\", text)\n",
        "print(search2)"
      ],
      "execution_count": null,
      "outputs": [
        {
          "output_type": "stream",
          "text": [
            "None\n"
          ],
          "name": "stdout"
        }
      ]
    },
    {
      "cell_type": "code",
      "metadata": {
        "id": "gQzwjl7s3qoN",
        "colab": {
          "base_uri": "https://localhost:8080/",
          "height": 35
        },
        "outputId": "0fd19c4e-3130-4543-b6ea-7cd3d104f38a"
      },
      "source": [
        "\"\"\"\n",
        "For txt = \"The rain in Spain\" , search the string to see if it   \n",
        "starts with \"The\"   \n",
        " ends with \"Spain\" \n",
        "starts with \"The\"  and ends with \"Spain\" \n",
        "\"\"\"\n",
        "txt= \"The rain in 2344456ggjhj Spain\"\n",
        "#txt= \"rain The in Spain\"\n",
        "search1 = re.search(\"^The.*Spain$\", txt)\n",
        "print(search1)\n"
      ],
      "execution_count": null,
      "outputs": [
        {
          "output_type": "stream",
          "text": [
            "<_sre.SRE_Match object; span=(0, 30), match='The rain in 2344456ggjhj Spain'>\n"
          ],
          "name": "stdout"
        }
      ]
    },
    {
      "cell_type": "code",
      "metadata": {
        "id": "-RTN73U5EGfs",
        "colab": {
          "base_uri": "https://localhost:8080/",
          "height": 35
        },
        "outputId": "54bc31e7-95cc-43c9-a505-abd24d412d3e"
      },
      "source": [
        "#txt= \"The rain in Spain\"\n",
        "txt= \"rain The in Spain\"\n",
        "search1 = re.search(\"^The\", txt)\n",
        "print(search1)"
      ],
      "execution_count": null,
      "outputs": [
        {
          "output_type": "stream",
          "text": [
            "None\n"
          ],
          "name": "stdout"
        }
      ]
    },
    {
      "cell_type": "code",
      "metadata": {
        "id": "nOSgi60yEiaQ",
        "colab": {
          "base_uri": "https://localhost:8080/",
          "height": 35
        },
        "outputId": "b3831d95-0631-45ec-ca0f-82aa0e4370ba"
      },
      "source": [
        "#txt= \"The rain in Spain\"\n",
        "txt= \"rain The Spain in\"\n",
        "search1 = re.search(\"Spain$\", txt)\n",
        "print(search1)\n"
      ],
      "execution_count": null,
      "outputs": [
        {
          "output_type": "stream",
          "text": [
            "None\n"
          ],
          "name": "stdout"
        }
      ]
    },
    {
      "cell_type": "code",
      "metadata": {
        "id": "YrCILYom4N6g",
        "colab": {
          "base_uri": "https://localhost:8080/",
          "height": 67
        },
        "outputId": "d78bac55-fe34-4251-a4bc-bfda8fe7cbed"
      },
      "source": [
        "\n",
        "#Searching for characters in a string\n",
        "string1 = 'foo123bar'\n",
        "print(\"123\" in string1)\n",
        "print(string1.find(\"123\"))\n",
        "print(string1.index(\"123\"))"
      ],
      "execution_count": null,
      "outputs": [
        {
          "output_type": "stream",
          "text": [
            "True\n",
            "3\n",
            "3\n"
          ],
          "name": "stdout"
        }
      ]
    },
    {
      "cell_type": "code",
      "metadata": {
        "id": "-9n77NMa9reG",
        "colab": {
          "base_uri": "https://localhost:8080/",
          "height": 34
        },
        "outputId": "6e232454-4add-4676-9b3f-b7949c6b9d29"
      },
      "source": [
        "# Suppose we want to check if the string contains three consecutive digits\n",
        "#foo123bar', 'foo456bar', '234baz', and 'qux678\n",
        "\n",
        "import re\n",
        "string1= \"fool123bar\"\n",
        "x= re.search(\"123\", string1)\n",
        "print(x)"
      ],
      "execution_count": null,
      "outputs": [
        {
          "output_type": "stream",
          "text": [
            "<_sre.SRE_Match object; span=(4, 7), match='123'>\n"
          ],
          "name": "stdout"
        }
      ]
    },
    {
      "cell_type": "code",
      "metadata": {
        "id": "SWXQymXy-Z4i",
        "colab": {
          "base_uri": "https://localhost:8080/",
          "height": 104
        },
        "outputId": "3b9b18d1-c5dc-4b2b-dd01-0aad984fe059"
      },
      "source": [
        "list1= ['foo123bar', 'foo456bar', '234baz', 'qux678', 'goodmorning']\n",
        "for string2 in list1:\n",
        "  if re.search(\"\\d[0-9][0-9]\", string2):\n",
        "    print(string2, \":match found\")\n",
        "  else:\n",
        "    print(string2, \":no match found\")"
      ],
      "execution_count": null,
      "outputs": [
        {
          "output_type": "stream",
          "text": [
            "foo123bar :match found\n",
            "foo456bar :match found\n",
            "234baz :match found\n",
            "qux678 :match found\n",
            "goodmorning :no match found\n"
          ],
          "name": "stdout"
        }
      ]
    },
    {
      "cell_type": "code",
      "metadata": {
        "id": "G82Xxe7FAl1P",
        "colab": {
          "base_uri": "https://localhost:8080/",
          "height": 34
        },
        "outputId": "9a0c3ec6-ba04-4cd6-b99d-63d98bf3a396"
      },
      "source": [
        "import re\n",
        "print(re.search('ba[artz]', 'foobarqux'))"
      ],
      "execution_count": null,
      "outputs": [
        {
          "output_type": "stream",
          "text": [
            "<_sre.SRE_Match object; span=(3, 6), match='bar'>\n"
          ],
          "name": "stdout"
        }
      ]
    },
    {
      "cell_type": "code",
      "metadata": {
        "id": "aMbpQJrnCVdZ",
        "colab": {
          "base_uri": "https://localhost:8080/"
        },
        "outputId": "b3bddfcb-2683-4ecd-9ece-1f70d19c3897"
      },
      "source": [
        "#Find all lower/Upper case characters  between \"a\" and \"m\":\n",
        "import re\n",
        "txt = \"The rain in Spain is Heavy 24 days\"\n",
        "x = re.findall(\"[a-mA-M0-9]\", txt)\n",
        "print(x)"
      ],
      "execution_count": 1,
      "outputs": [
        {
          "output_type": "stream",
          "name": "stdout",
          "text": [
            "['h', 'e', 'a', 'i', 'i', 'a', 'i', 'i', 'H', 'e', 'a', '2', '4', 'd', 'a']\n"
          ]
        }
      ]
    },
    {
      "cell_type": "code",
      "metadata": {
        "id": "wVX7GK_yNEgN",
        "colab": {
          "base_uri": "https://localhost:8080/",
          "height": 35
        },
        "outputId": "27201e7e-0c50-4ab2-eafb-83d552c8c779"
      },
      "source": [
        "#Search for the first white-space character in the string: txt = \"The rain in Spain\" \n",
        "import re\n",
        "txt = \"The rain in Spain\"\n",
        "x = re.search(\"\\s\", txt)\n",
        "print(x)"
      ],
      "execution_count": null,
      "outputs": [
        {
          "output_type": "stream",
          "text": [
            "<_sre.SRE_Match object; span=(3, 4), match=' '>\n"
          ],
          "name": "stdout"
        }
      ]
    },
    {
      "cell_type": "code",
      "metadata": {
        "id": "bmxobr2NQ7bc",
        "colab": {
          "base_uri": "https://localhost:8080/",
          "height": 35
        },
        "outputId": "8a414c6d-924d-4f10-ff9e-27ddccb9ea33"
      },
      "source": [
        "import re\n",
        "result = re.search('[\\s]', 'The Indian Express')\n",
        "print(result)"
      ],
      "execution_count": null,
      "outputs": [
        {
          "output_type": "stream",
          "text": [
            "<_sre.SRE_Match object; span=(3, 4), match=' '>\n"
          ],
          "name": "stdout"
        }
      ]
    },
    {
      "cell_type": "code",
      "metadata": {
        "id": "f9cvYziHRzS9",
        "colab": {
          "base_uri": "https://localhost:8080/",
          "height": 35
        },
        "outputId": "c7c00f57-3ec7-48fe-d7e7-065321883412"
      },
      "source": [
        "#Replace every white-space character with the number 9 in any given string\n",
        "import re\n",
        "txt = \"The  rain  in Spain\"\n",
        "x = re.sub(\"\\s\", \"9\", txt)\n",
        "print(x)\n",
        "\n"
      ],
      "execution_count": null,
      "outputs": [
        {
          "output_type": "stream",
          "text": [
            "The9rain9in Spain\n"
          ],
          "name": "stdout"
        }
      ]
    },
    {
      "cell_type": "code",
      "metadata": {
        "id": "kFD_HwpUVvjy",
        "colab": {
          "base_uri": "https://localhost:8080/"
        },
        "outputId": "deaaff02-e25d-4721-8da3-81517c21c315"
      },
      "source": [
        "#To check if an email ID is valid or not\n",
        "import re\n",
        "pattern=\"[a-zA-Z0-9]+@[a-zA-Z]+.(com|edu|net|in)\"\n",
        "user_ip=input()\n",
        "if re.search(pattern,user_ip):\n",
        " print(\"valid\")\n",
        "else:\n",
        " print(\"invalid\")"
      ],
      "execution_count": 13,
      "outputs": [
        {
          "output_type": "stream",
          "name": "stdout",
          "text": [
            "abc..def@gmail.com\n",
            "valid\n"
          ]
        }
      ]
    },
    {
      "cell_type": "code",
      "metadata": {
        "id": "1pJg9KWdV60F"
      },
      "source": [
        "Ami123@xyz.com"
      ],
      "execution_count": null,
      "outputs": []
    },
    {
      "cell_type": "code",
      "metadata": {
        "id": "Qs6cMKbVKYOD",
        "colab": {
          "base_uri": "https://localhost:8080/",
          "height": 52
        },
        "outputId": "bbc9a590-ac4e-4aee-f96a-af81c7ce50fe"
      },
      "source": [
        "import re\n",
        "S= input(\"\")\n",
        "L= re.split(\"@\",S)\n",
        "print(L)\n"
      ],
      "execution_count": null,
      "outputs": [
        {
          "output_type": "stream",
          "text": [
            "ami@nmims.com\n",
            "['ami', 'nmims.com']\n"
          ],
          "name": "stdout"
        }
      ]
    },
    {
      "cell_type": "code",
      "metadata": {
        "id": "7opOzZU7Kjmj",
        "colab": {
          "base_uri": "https://localhost:8080/",
          "height": 35
        },
        "outputId": "619febc8-1660-469e-99d0-5121f3829854"
      },
      "source": [
        "L[0]"
      ],
      "execution_count": null,
      "outputs": [
        {
          "output_type": "execute_result",
          "data": {
            "application/vnd.google.colaboratory.intrinsic+json": {
              "type": "string"
            },
            "text/plain": [
              "'ami'"
            ]
          },
          "metadata": {
            "tags": []
          },
          "execution_count": 29
        }
      ]
    },
    {
      "cell_type": "code",
      "metadata": {
        "id": "va-HPRmZKwc6",
        "colab": {
          "base_uri": "https://localhost:8080/",
          "height": 35
        },
        "outputId": "cd50c876-7dc1-4933-a6ee-1bce94635938"
      },
      "source": [
        "L[1]"
      ],
      "execution_count": null,
      "outputs": [
        {
          "output_type": "execute_result",
          "data": {
            "application/vnd.google.colaboratory.intrinsic+json": {
              "type": "string"
            },
            "text/plain": [
              "'nmims.com'"
            ]
          },
          "metadata": {
            "tags": []
          },
          "execution_count": 30
        }
      ]
    },
    {
      "cell_type": "code",
      "metadata": {
        "id": "I2e83U5xKyIZ",
        "colab": {
          "base_uri": "https://localhost:8080/",
          "height": 35
        },
        "outputId": "889ac5dd-4541-4354-b6d6-ad5ae11cdfa4"
      },
      "source": [
        "L1= re.split(\"\\.\",L[1])\n",
        "print(L1)"
      ],
      "execution_count": null,
      "outputs": [
        {
          "output_type": "stream",
          "text": [
            "['nmims', 'com']\n"
          ],
          "name": "stdout"
        }
      ]
    },
    {
      "cell_type": "code",
      "metadata": {
        "id": "VMDR4vSYK88B",
        "colab": {
          "base_uri": "https://localhost:8080/",
          "height": 35
        },
        "outputId": "03771443-8034-42ec-a8d9-2f315421571f"
      },
      "source": [
        "L1[0]"
      ],
      "execution_count": null,
      "outputs": [
        {
          "output_type": "execute_result",
          "data": {
            "application/vnd.google.colaboratory.intrinsic+json": {
              "type": "string"
            },
            "text/plain": [
              "'nmims'"
            ]
          },
          "metadata": {
            "tags": []
          },
          "execution_count": 37
        }
      ]
    },
    {
      "cell_type": "code",
      "metadata": {
        "id": "tbf95-_sLMbx",
        "colab": {
          "base_uri": "https://localhost:8080/",
          "height": 52
        },
        "outputId": "720cd453-74f2-4c9c-cb9d-a6a4cb535c3a"
      },
      "source": [
        "# Extracting company name from the email address\n",
        "import re\n",
        "email = input()\n",
        "pattern = \"(\\w+)@(\\w+)\\.(com)\"\n",
        "r2 = re.match(pattern,email)\n",
        "print(r2.group(2))"
      ],
      "execution_count": null,
      "outputs": [
        {
          "output_type": "stream",
          "text": [
            "ami123@nmims.com\n",
            "nmims\n"
          ],
          "name": "stdout"
        }
      ]
    },
    {
      "cell_type": "code",
      "metadata": {
        "id": "oU4At2W-MHjO"
      },
      "source": [],
      "execution_count": null,
      "outputs": []
    }
  ]
}
