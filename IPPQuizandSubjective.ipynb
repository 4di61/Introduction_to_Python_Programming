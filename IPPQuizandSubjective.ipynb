{
  "nbformat": 4,
  "nbformat_minor": 0,
  "metadata": {
    "colab": {
      "name": "IPPQuizandSubjective.ipynb",
      "provenance": [],
      "authorship_tag": "ABX9TyMXazaoWmh6ZTwUXXz+8Qf2",
      "include_colab_link": true
    },
    "kernelspec": {
      "name": "python3",
      "display_name": "Python 3"
    },
    "language_info": {
      "name": "python"
    }
  },
  "cells": [
    {
      "cell_type": "markdown",
      "metadata": {
        "id": "view-in-github",
        "colab_type": "text"
      },
      "source": [
        "<a href=\"https://colab.research.google.com/github/AmiMunshi/Introduction_to_Python_Programming/blob/main/IPPQuizandSubjective.ipynb\" target=\"_parent\"><img src=\"https://colab.research.google.com/assets/colab-badge.svg\" alt=\"Open In Colab\"/></a>"
      ]
    },
    {
      "cell_type": "markdown",
      "metadata": {
        "id": "yAfOkCfQoAJM"
      },
      "source": [
        "IPP Midterm Test 1 Quiz and program solutions"
      ]
    },
    {
      "cell_type": "markdown",
      "metadata": {
        "id": "TTnWjqJob4NI"
      },
      "source": [
        "# Quiz Set1"
      ]
    },
    {
      "cell_type": "code",
      "metadata": {
        "colab": {
          "base_uri": "https://localhost:8080/"
        },
        "id": "5qtdxxe3vDZo",
        "outputId": "6f2beb63-dcca-4447-d715-c5abac13d47e"
      },
      "source": [
        "for i in range(2):\n",
        "  print(i, end=\"\")\n",
        "for i in range(4,6):\n",
        "  print(i,end=\"\")"
      ],
      "execution_count": null,
      "outputs": [
        {
          "output_type": "stream",
          "text": [
            "0145"
          ],
          "name": "stdout"
        }
      ]
    },
    {
      "cell_type": "code",
      "metadata": {
        "colab": {
          "base_uri": "https://localhost:8080/"
        },
        "id": "D7OVrrepvLeJ",
        "outputId": "89f8677c-760c-4c7b-c88d-4e2fe24d34f2"
      },
      "source": [
        "for i in range(3):\n",
        "  print(i,end=\"\")\n",
        "while i<6:\n",
        "  print(i,end=\"\")\n",
        "  i+=1"
      ],
      "execution_count": null,
      "outputs": [
        {
          "output_type": "stream",
          "text": [
            "0122345"
          ],
          "name": "stdout"
        }
      ]
    },
    {
      "cell_type": "code",
      "metadata": {
        "colab": {
          "base_uri": "https://localhost:8080/"
        },
        "id": "OM_A9ZCuvlbV",
        "outputId": "1b70c2aa-c8e3-49ae-f090-e4bb27302af6"
      },
      "source": [
        "i = 1\n",
        "lst=[]\n",
        "while not False: \n",
        "\tif i%4 == 0: \n",
        "\t\tbreak\n",
        "\tlst.append(i) \n",
        "\ti+=1\n",
        "print(lst)"
      ],
      "execution_count": null,
      "outputs": [
        {
          "output_type": "stream",
          "text": [
            "[1, 2, 3]\n"
          ],
          "name": "stdout"
        }
      ]
    },
    {
      "cell_type": "code",
      "metadata": {
        "colab": {
          "base_uri": "https://localhost:8080/"
        },
        "id": "D9qVM2vYxKw5",
        "outputId": "57edd7b3-66f2-41d9-92c1-c45db7fb4c4a"
      },
      "source": [
        "names= ['A', 'B', 'C', 'D']\n",
        "names.append(['E','F','G','H'])\n",
        "print(len(names))\n"
      ],
      "execution_count": null,
      "outputs": [
        {
          "output_type": "stream",
          "text": [
            "5\n"
          ],
          "name": "stdout"
        }
      ]
    },
    {
      "cell_type": "code",
      "metadata": {
        "id": "5rGmH0eC1m0k"
      },
      "source": [
        "x = \"efgh\"\n",
        "i = \"g\"\n",
        "while i in x:\n",
        "\tprint(i, end = \" \")\n"
      ],
      "execution_count": null,
      "outputs": []
    },
    {
      "cell_type": "code",
      "metadata": {
        "colab": {
          "base_uri": "https://localhost:8080/"
        },
        "id": "odldwvyf4T12",
        "outputId": "1feabd90-6a87-4d44-dca1-4d4da3730f9b"
      },
      "source": [
        "t= (1,2,3,4,5,6,7,8)\n",
        "x= [t[i] for i in range(0,len(t),3)]\n",
        "print(x)\n"
      ],
      "execution_count": null,
      "outputs": [
        {
          "output_type": "stream",
          "text": [
            "[1, 4, 7]\n"
          ],
          "name": "stdout"
        }
      ]
    },
    {
      "cell_type": "code",
      "metadata": {
        "colab": {
          "base_uri": "https://localhost:8080/"
        },
        "id": "8bNT9_6g4tWE",
        "outputId": "fd46d920-2e4c-428e-e7ec-b17e48671952"
      },
      "source": [
        "\n",
        "marks= {\"Physics\": 25, \"Chemistry\": 30, \"Math\": 40}\n",
        "marks[\"Biology\"]= 38\n",
        "print(marks)\n",
        "\n",
        "\n"
      ],
      "execution_count": null,
      "outputs": [
        {
          "output_type": "stream",
          "text": [
            "{'Physics': 25, 'Chemistry': 30, 'Math': 40, 'Biology': 38}\n"
          ],
          "name": "stdout"
        }
      ]
    },
    {
      "cell_type": "code",
      "metadata": {
        "id": "Tkzzuw8P6Bvp",
        "colab": {
          "base_uri": "https://localhost:8080/"
        },
        "outputId": "a87fbcfe-280c-424d-ee4a-0b6672af38ba"
      },
      "source": [
        "str1=\"Good\"\n",
        "str2=\"morning\"\n",
        "print(str1+str2)"
      ],
      "execution_count": null,
      "outputs": [
        {
          "output_type": "stream",
          "text": [
            "Goodmorning\n"
          ],
          "name": "stdout"
        }
      ]
    },
    {
      "cell_type": "code",
      "metadata": {
        "id": "yZ28a8iI8btO",
        "colab": {
          "base_uri": "https://localhost:8080/"
        },
        "outputId": "a838d3e0-b8f8-487c-d399-a2733e9c406e"
      },
      "source": [
        "x= 7\n",
        "print(not((x<10 and x%2==0) or x>5))"
      ],
      "execution_count": null,
      "outputs": [
        {
          "output_type": "stream",
          "text": [
            "False\n"
          ],
          "name": "stdout"
        }
      ]
    },
    {
      "cell_type": "code",
      "metadata": {
        "id": "aBFkSiZbVUPP",
        "colab": {
          "base_uri": "https://localhost:8080/"
        },
        "outputId": "5837b222-f23d-4a53-f63f-4e8734229591"
      },
      "source": [
        "3<<2 & 8"
      ],
      "execution_count": null,
      "outputs": [
        {
          "output_type": "execute_result",
          "data": {
            "text/plain": [
              "8"
            ]
          },
          "metadata": {},
          "execution_count": 17
        }
      ]
    },
    {
      "cell_type": "code",
      "metadata": {
        "colab": {
          "base_uri": "https://localhost:8080/",
          "height": 131
        },
        "id": "7cYpzNThWxH0",
        "outputId": "ec228289-bcdf-4d69-fb42-61cd17e5454e"
      },
      "source": [
        "def new(a, b=5, c):\n",
        "    print(a,b,c)\n",
        "\n",
        "new(6,5)"
      ],
      "execution_count": null,
      "outputs": [
        {
          "output_type": "error",
          "ename": "SyntaxError",
          "evalue": "ignored",
          "traceback": [
            "\u001b[0;36m  File \u001b[0;32m\"<ipython-input-23-9a11254668ab>\"\u001b[0;36m, line \u001b[0;32m1\u001b[0m\n\u001b[0;31m    def new(a, b=5, c):\u001b[0m\n\u001b[0m           ^\u001b[0m\n\u001b[0;31mSyntaxError\u001b[0m\u001b[0;31m:\u001b[0m non-default argument follows default argument\n"
          ]
        }
      ]
    },
    {
      "cell_type": "markdown",
      "metadata": {
        "id": "wrolWXSwb_X-"
      },
      "source": [
        "Quiz Set2"
      ]
    },
    {
      "cell_type": "code",
      "metadata": {
        "colab": {
          "base_uri": "https://localhost:8080/"
        },
        "id": "Jsk_4j5sZaoT",
        "outputId": "14ff9526-ef15-4c37-8997-27a0afa9d1e2"
      },
      "source": [
        "for i in range(4):\n",
        "  print(i, end=\"\")\n",
        "for i in range(3,5):\n",
        "  print(i,end=\"\")"
      ],
      "execution_count": null,
      "outputs": [
        {
          "output_type": "stream",
          "text": [
            "012334"
          ],
          "name": "stdout"
        }
      ]
    },
    {
      "cell_type": "code",
      "metadata": {
        "colab": {
          "base_uri": "https://localhost:8080/"
        },
        "id": "HXdTPCtGcQv6",
        "outputId": "6742cb07-578c-41f9-e8a9-43841102bbd9"
      },
      "source": [
        "i = 1\n",
        "lst=[]\n",
        "while not False: \n",
        "\tif i%4 == 0: \n",
        "\t\tbreak\n",
        "\tlst.append(1) \n",
        "\ti+=1\n",
        "print(lst)"
      ],
      "execution_count": null,
      "outputs": [
        {
          "output_type": "stream",
          "text": [
            "[1, 1, 1]\n"
          ],
          "name": "stdout"
        }
      ]
    },
    {
      "cell_type": "code",
      "metadata": {
        "id": "SuSk4AecsAIY"
      },
      "source": [
        "names= ['A', 'B']\n",
        "names.append(['C', 'D'])\n",
        "names.append(['E','F'])\n",
        "print(len(names))"
      ],
      "execution_count": null,
      "outputs": []
    },
    {
      "cell_type": "code",
      "metadata": {
        "id": "FBCnw997sSMe"
      },
      "source": [
        "x = \"efgh\"\n",
        "i = \"g\"\n",
        "while i in x:\n",
        "\tprint(x, end = \" \")"
      ],
      "execution_count": null,
      "outputs": []
    },
    {
      "cell_type": "code",
      "metadata": {
        "colab": {
          "base_uri": "https://localhost:8080/"
        },
        "id": "UFIQkXmKtsA2",
        "outputId": "bb686dbe-50bf-4e8e-a646-42f7d27008e6"
      },
      "source": [
        "marks= {\"Physics\": 25, \"Chemistry\": 30, \"Math\": 40}\n",
        "marks.update({\"English\":37})\n",
        "print(marks)"
      ],
      "execution_count": null,
      "outputs": [
        {
          "output_type": "stream",
          "text": [
            "{'Physics': 25, 'Chemistry': 30, 'Math': 40, 'English': 37}\n"
          ],
          "name": "stdout"
        }
      ]
    },
    {
      "cell_type": "code",
      "metadata": {
        "id": "tD5ukYpgt5Fs",
        "colab": {
          "base_uri": "https://localhost:8080/"
        },
        "outputId": "e2c8fed8-71ba-451a-8f20-56bf2b2e6669"
      },
      "source": [
        "str1= \"Hello\"\n",
        "str2= \"Geeta\"\n",
        "print(str1*2+str2)"
      ],
      "execution_count": null,
      "outputs": [
        {
          "output_type": "stream",
          "text": [
            "HelloHelloGeeta\n"
          ],
          "name": "stdout"
        }
      ]
    },
    {
      "cell_type": "code",
      "metadata": {
        "colab": {
          "base_uri": "https://localhost:8080/"
        },
        "id": "mSDSmO1HEWPm",
        "outputId": "18983cec-523c-4602-fc90-71270cf6af00"
      },
      "source": [
        "x= 7\n",
        "print((x<10 or x%2==0) and x>5)"
      ],
      "execution_count": null,
      "outputs": [
        {
          "output_type": "stream",
          "text": [
            "True\n"
          ],
          "name": "stdout"
        }
      ]
    },
    {
      "cell_type": "code",
      "metadata": {
        "colab": {
          "base_uri": "https://localhost:8080/"
        },
        "id": "Vmi39zwrFJME",
        "outputId": "92742141-a2a0-4201-d3cc-ba1c0edfb8d6"
      },
      "source": [
        "3<<1 & 3"
      ],
      "execution_count": null,
      "outputs": [
        {
          "output_type": "execute_result",
          "data": {
            "text/plain": [
              "2"
            ]
          },
          "metadata": {},
          "execution_count": 13
        }
      ]
    },
    {
      "cell_type": "markdown",
      "metadata": {
        "id": "6lfll_5oJsH_"
      },
      "source": [
        "Write a python 3 program which identifies proper nouns in a sentence (based on words that begin with a capital letter) and returns a list of the same.\n",
        "\n",
        "E.g: \n",
        "Input sentence\n",
        "‘Geeta is going to the Mumbai market along with Sita’\n",
        "\n",
        "Output list\n",
        "[Geeta, Mumbai, Sita]\n",
        "\n",
        "Steps:\n",
        "\n",
        "1.\tDeclare and implement a function to do the following:\n",
        "\n",
        "a)\tTake a sentence as a string from the user. All the proper nouns in the sentence already begin with a capital letter (assume).\n",
        "\n",
        "b)\tReturn only a list of proper nouns from this sentence.\n",
        "\n",
        "2. Call the function using a complete sentence and print the list returned.\n"
      ]
    },
    {
      "cell_type": "code",
      "metadata": {
        "id": "PbsMD6vOJxxY"
      },
      "source": [
        "def append_sym(str1):\n",
        "  lst1= str1.split(\" \")\n",
        "  print(lst1)\n",
        "  lst2=[]\n",
        "  for word in lst1:\n",
        "    temp= word+\"@\"\n",
        "    lst2.append(temp)\n",
        "  return \" \".join(lst2)"
      ],
      "execution_count": null,
      "outputs": []
    },
    {
      "cell_type": "code",
      "metadata": {
        "colab": {
          "base_uri": "https://localhost:8080/"
        },
        "id": "SJ72ExeqRhKE",
        "outputId": "ffcbfd84-b2a6-452b-f37a-1c8fbfc06639"
      },
      "source": [
        "sentence= input(\"Enter your sentence: \")\n",
        "print(append_sym(sentence))"
      ],
      "execution_count": null,
      "outputs": [
        {
          "output_type": "stream",
          "text": [
            "Enter your sentence: good morning\n",
            "['good', 'morning']\n",
            "good@ morning@\n"
          ],
          "name": "stdout"
        }
      ]
    },
    {
      "cell_type": "markdown",
      "metadata": {
        "id": "HOevMma6TLwW"
      },
      "source": [
        "Write a python 3 program which takes in a complete English sentence and returns only important words from the sentence.\n",
        "\n",
        "E.g: \n",
        "Input sentence\n",
        "‘Global warming is the gradual increase in the average temperature of the Earth’\n",
        "\n",
        "Output list\n",
        "[Global, warming, gradual, increase, average, temperature, earth]\n"
      ]
    },
    {
      "cell_type": "code",
      "metadata": {
        "id": "TpsPvAyFS2Ja"
      },
      "source": [
        "def removePrep(str1):\n",
        "  prep= [\"and\", \"the\", \"of\", \"in\", \"if\", \"are\"]\n",
        "  lst1= str1.split(\" \")\n",
        "  lst2= []\n",
        "  for word in lst1:\n",
        "    if word not in prep:\n",
        "      lst2.append(word)\n",
        "  return lst2"
      ],
      "execution_count": null,
      "outputs": []
    },
    {
      "cell_type": "code",
      "metadata": {
        "colab": {
          "base_uri": "https://localhost:8080/"
        },
        "id": "vEbWPIUBUwX9",
        "outputId": "b47c54db-3f6b-45e7-9c63-7a8d14879cec"
      },
      "source": [
        "sentence= \"Cat and dog are fighting\"\n",
        "print(removePrep(sentence))"
      ],
      "execution_count": null,
      "outputs": [
        {
          "output_type": "stream",
          "text": [
            "['Cat', 'dog', 'fighting']\n"
          ],
          "name": "stdout"
        }
      ]
    },
    {
      "cell_type": "markdown",
      "metadata": {
        "id": "4dxeihaZm1XV"
      },
      "source": [
        "Write a program that returns the cost and GST of items selected by a shopper.\n",
        "Steps:\n",
        "\n",
        "1.\tDeclare and implement a function called itemcost() which:\n",
        "\n",
        "a)\tHas a dictionary of 5 items with item name as key and the cost and GST% as values for each item. (typically GST may be 5%, 12% or 18%).\n",
        "b)\tThe function should accept user input as the item that the user wishes to buy\n",
        "c)\tThe function returns the cost and GST% for the item chosen.\n"
      ]
    },
    {
      "cell_type": "code",
      "metadata": {
        "id": "30jnqJI0m2nH"
      },
      "source": [
        "def itemcost(key):\n",
        "  items= {\"A\":[20,\"5%\"], \"B\":[25,\"12%\"],\"C\":[20,\"18%\"],\"D\":[30,\"5%\"],\"E\":[40,\"5%\"]}\n",
        "  return items[key]"
      ],
      "execution_count": null,
      "outputs": []
    },
    {
      "cell_type": "code",
      "metadata": {
        "id": "hwmhPhWYU8rb",
        "colab": {
          "base_uri": "https://localhost:8080/"
        },
        "outputId": "d2d859ea-7f1c-40de-dd85-1c2d0306dd0e"
      },
      "source": [
        "key= input(\"Select the item from A, B, C, D, E : \")\n",
        "print(\"Cost and GST for the selected item is : \", itemcost(key))"
      ],
      "execution_count": null,
      "outputs": [
        {
          "output_type": "stream",
          "name": "stdout",
          "text": [
            "Select the item from A, B, C, D, E : E\n",
            "Cost and GST for the selected item is :  [40, '5%']\n"
          ]
        }
      ]
    },
    {
      "cell_type": "markdown",
      "metadata": {
        "id": "4YoaULasoP6P"
      },
      "source": [
        "A contactor has to give weekly wages to his employees. Write a python 3 program as below to return details of the employee, given an employee id.\n",
        "Steps:\n",
        "\n",
        "1.\tDeclare and implement a function called empdetails() which:\n",
        "\n",
        "a)\tAccepts employee id from the user.\n",
        "b)\tHas a dictionary of 5 employees with employee id as key and the name and salary as values for each employee.\n",
        "c)\tThe function returns the employee name and salary for the chosen employee id.\n",
        "\n",
        "\n",
        "Solution: Similar logic to the program above"
      ]
    },
    {
      "cell_type": "code",
      "metadata": {
        "id": "m7fUYIr9oRtD"
      },
      "source": [
        ""
      ],
      "execution_count": null,
      "outputs": []
    }
  ]
}