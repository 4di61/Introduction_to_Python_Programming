{
  "nbformat": 4,
  "nbformat_minor": 0,
  "metadata": {
    "colab": {
      "name": "Unit4.2_Seek_Tell_Pickle.ipynb",
      "provenance": [],
      "authorship_tag": "ABX9TyMhyDA0wjkwpJgdOZOCMdJr",
      "include_colab_link": true
    },
    "kernelspec": {
      "name": "python3",
      "display_name": "Python 3"
    },
    "language_info": {
      "name": "python"
    }
  },
  "cells": [
    {
      "cell_type": "markdown",
      "metadata": {
        "id": "view-in-github",
        "colab_type": "text"
      },
      "source": [
        "<a href=\"https://colab.research.google.com/github/AmiMunshi/Introduction_to_Python_Programming/blob/main/Unit4_2_Seek_Tell_Pickle.ipynb\" target=\"_parent\"><img src=\"https://colab.research.google.com/assets/colab-badge.svg\" alt=\"Open In Colab\"/></a>"
      ]
    },
    {
      "cell_type": "code",
      "metadata": {
        "id": "rCZD_qOIRiLV"
      },
      "source": [
        ""
      ],
      "execution_count": null,
      "outputs": []
    },
    {
      "cell_type": "markdown",
      "metadata": {
        "id": "yU12w1RCRsMt"
      },
      "source": [
        "seek() and tell()\n",
        "The functions that we have learnt till now are used to access the data sequentially from a file. But if we want to access data in a random fashion, then Python gives us seek() and tell() functions to do so\n",
        "\n",
        "The tell() method This function returns an integer that specifies the current position of the file object in the file. The position so specified is the byte position from the beginning of the file till the current position of the file object. The syntax of using tell() is: file_object.tell()\n",
        "\n",
        "The seek() method This method is used to position the file object at a particular position in a file. The syntax of seek() is: file_object.seek(offset, fromwhere) In the above syntax, offset is the number of bytes by which the file object is to be moved. fromwhere indicates the starting position of the file object. That is, with reference to which position, the offset has to be counted. It can have any of the following values: 0 - beginning of the file 1 - current position of the file 2 - end of file By default, the value of reference_point is 0, i.e. the offset is counted from the beginning of the file. For example, the statement fileObject.seek(5,0) will position the file object at 5th byte position from the beginning of the file.\n",
        "\n",
        "To know the position of the pointer, we can use tell() method\n",
        "\n",
        "To move the the pointer to a paticular location, we can use seek() method"
      ]
    },
    {
      "cell_type": "code",
      "metadata": {
        "id": "FpY0NZ0bRwkw",
        "colab": {
          "base_uri": "https://localhost:8080/"
        },
        "outputId": "440670af-d8e8-4670-d1e3-d72419435a26"
      },
      "source": [
        "f= open(\"/content/Hello.txt\", \"r+b\")\n",
        "f.seek(10,0) # here offset is 14, and from where is 0. So from the beginning the file pointer will move to the 15th byte(14+1) from the beginning. \n"
      ],
      "execution_count": null,
      "outputs": [
        {
          "output_type": "execute_result",
          "data": {
            "text/plain": [
              "10"
            ]
          },
          "metadata": {},
          "execution_count": 17
        }
      ]
    },
    {
      "cell_type": "code",
      "metadata": {
        "id": "NbA8s_cRR0l3",
        "colab": {
          "base_uri": "https://localhost:8080/"
        },
        "outputId": "09212bab-54ce-420b-9fb7-b4546d17f302"
      },
      "source": [
        "print(f.tell())"
      ],
      "execution_count": null,
      "outputs": [
        {
          "output_type": "stream",
          "name": "stdout",
          "text": [
            "10\n"
          ]
        }
      ]
    },
    {
      "cell_type": "code",
      "metadata": {
        "colab": {
          "base_uri": "https://localhost:8080/"
        },
        "id": "HaNM_nIgeJrL",
        "outputId": "dc43db4a-a572-4d77-daf6-6507c7e27f28"
      },
      "source": [
        "print(f.readline())"
      ],
      "execution_count": null,
      "outputs": [
        {
          "output_type": "stream",
          "name": "stdout",
          "text": [
            "b'd\\r\\n'\n"
          ]
        }
      ]
    },
    {
      "cell_type": "code",
      "metadata": {
        "colab": {
          "base_uri": "https://localhost:8080/"
        },
        "id": "M-pl2V3BeYYZ",
        "outputId": "37cce5e0-cd38-4370-9d3b-af358a62eb68"
      },
      "source": [
        "f.seek(20)"
      ],
      "execution_count": null,
      "outputs": [
        {
          "output_type": "execute_result",
          "data": {
            "text/plain": [
              "20"
            ]
          },
          "metadata": {},
          "execution_count": 20
        }
      ]
    },
    {
      "cell_type": "code",
      "metadata": {
        "colab": {
          "base_uri": "https://localhost:8080/"
        },
        "id": "efs25KzgedpK",
        "outputId": "bf484d3f-69d7-4fa2-9269-5c67fc59e69e"
      },
      "source": [
        "print(f.readline())"
      ],
      "execution_count": null,
      "outputs": [
        {
          "output_type": "stream",
          "name": "stdout",
          "text": [
            "b'ython\\r\\n'\n"
          ]
        }
      ]
    },
    {
      "cell_type": "markdown",
      "metadata": {
        "id": "m0zpf-ASR3aY"
      },
      "source": [
        "Pickle in Python<br>\n",
        "\n",
        "Pickling is the serializing and de-serializing of python objects to a byte stream.Pickling is used to store python objects. This means things like lists, dictionaries, class objects, and more\n",
        "\n",
        "Pickling is a process of converting a class object into byte stream so that it can be stored into a file"
      ]
    },
    {
      "cell_type": "code",
      "metadata": {
        "id": "AB8wbYN1R9kQ"
      },
      "source": [
        "#Example 1\n",
        "#create a pickle dictionary (serialization)\n",
        "import pickle\n",
        "employee= {1: \"Ram\", 2:\"Raj\", 3:\"Rahul\"} #Dictionary to be pickled\n",
        "\n",
        "with open(\"employee_details.txt\", \"wb\") as f3:\n",
        "  pickle.dump(employee, f3)\n",
        "\n"
      ],
      "execution_count": null,
      "outputs": []
    },
    {
      "cell_type": "code",
      "metadata": {
        "id": "2gbc3fzKR_6M",
        "colab": {
          "base_uri": "https://localhost:8080/"
        },
        "outputId": "c203d45f-b942-4f4a-8238-f925baa2100b"
      },
      "source": [
        "#Access the pickled file\n",
        "import pickle\n",
        "with open(\"employee_details.txt\", \"rb\") as f4:\n",
        "  d= pickle.load(f4)\n",
        "print(d)\n",
        "\n"
      ],
      "execution_count": null,
      "outputs": [
        {
          "output_type": "stream",
          "name": "stdout",
          "text": [
            "{1: 'Ram', 2: 'Raj', 3: 'Rahul'}\n"
          ]
        }
      ]
    },
    {
      "cell_type": "code",
      "metadata": {
        "id": "RUzUdJwiSRbp"
      },
      "source": [
        "#Example 2 Pickle a list\n",
        "\n",
        "import pickle\n",
        "\n",
        "lst1= [\"mango\", \"apple\", \"banana\", \"grapes\"] #create a list\n",
        "\n",
        "#Open a file for pickling the list\n",
        "with open(\"lstfile.txt\",\"wb\") as f1:\n",
        "  pickle.dump(lst1,f1)\n",
        "\n"
      ],
      "execution_count": null,
      "outputs": []
    },
    {
      "cell_type": "code",
      "metadata": {
        "colab": {
          "base_uri": "https://localhost:8080/"
        },
        "id": "l9vc9AH4TIIc",
        "outputId": "f7605341-b463-4fd6-dc9c-e3bb700d6542"
      },
      "source": [
        "#Unpickling the list on above example\n",
        "\n",
        "import pickle\n",
        "\n",
        "with open(\"lstfile.txt\", \"rb\") as f:\n",
        "  lst2= pickle.load(f)\n",
        "\n",
        "print(lst2)"
      ],
      "execution_count": null,
      "outputs": [
        {
          "output_type": "stream",
          "name": "stdout",
          "text": [
            "['mango', 'apple', 'banana', 'grapes']\n"
          ]
        }
      ]
    },
    {
      "cell_type": "code",
      "metadata": {
        "id": "dCQJcGmZUUtP"
      },
      "source": [
        "dict1= {\"Shoes\":[100, 5]}"
      ],
      "execution_count": null,
      "outputs": []
    }
  ]
}