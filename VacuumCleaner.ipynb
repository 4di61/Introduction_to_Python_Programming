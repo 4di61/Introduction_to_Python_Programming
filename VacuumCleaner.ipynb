{
  "nbformat": 4,
  "nbformat_minor": 0,
  "metadata": {
    "colab": {
      "name": "VacuumCleaner.ipynb",
      "provenance": [],
      "include_colab_link": true
    },
    "kernelspec": {
      "name": "python3",
      "display_name": "Python 3"
    },
    "language_info": {
      "name": "python"
    }
  },
  "cells": [
    {
      "cell_type": "markdown",
      "metadata": {
        "id": "view-in-github",
        "colab_type": "text"
      },
      "source": [
        "<a href=\"https://colab.research.google.com/github/AmiMunshi/Introduction_to_Python_Programming/blob/main/VacuumCleaner.ipynb\" target=\"_parent\"><img src=\"https://colab.research.google.com/assets/colab-badge.svg\" alt=\"Open In Colab\"/></a>"
      ]
    },
    {
      "cell_type": "markdown",
      "source": [
        "<b>Simple Vacuum Cleaner World</b>\n",
        "\n",
        "Two implementations for Vacuum cleaner world are done.\n",
        "\n",
        "In <b>first implementation</b>, number of rooms will be given by the user. Status of each room whether clean or dirty will also be given. Vacuum cleaner will be initially located in the first room. Then it will traverse each room sequentially\n",
        "\n",
        "In the <b>second implementation</b>, only two vacuum cleaner rooms are taken into consideration (Similar to example in book by Russel Norwig). Intitial location and intitial status of both the room will be asked from the user. Accordingly cleaning will be done and cost will be printed."
      ],
      "metadata": {
        "id": "cr696BmZqCRY"
      }
    },
    {
      "cell_type": "markdown",
      "source": [
        "First Implementation"
      ],
      "metadata": {
        "id": "yRk41nj0HCBd"
      }
    },
    {
      "cell_type": "markdown",
      "source": [
        "Simple vaccum cleaner world program\n",
        "\n",
        "This program will ask from the user about the total number of rows and the number of rooms in each row.\n",
        "\n",
        "We will assume that the vacuum cleaner is initially in the 0th room of the 0th row. \n",
        "\n",
        "It will check if the room has dust or not. Accordingly it will suck the dust and move to the next room sequentially.\n",
        "\n",
        "Goal state- All rooms are clean\n",
        "\n",
        "\n"
      ],
      "metadata": {
        "id": "vSJCClscE0tT"
      }
    },
    {
      "cell_type": "code",
      "execution_count": null,
      "metadata": {
        "id": "kDtzDuCO7QMh"
      },
      "outputs": [],
      "source": [
        "#Import important packages\n",
        "import random\n",
        "import numpy as np"
      ]
    },
    {
      "cell_type": "code",
      "source": [
        "#Define the grid\n",
        "#Enter the number of floors (rows) and rooms on each floor (grid)\n",
        "x,y= input(\"Enter number of rows and columns\").split() "
      ],
      "metadata": {
        "colab": {
          "base_uri": "https://localhost:8080/"
        },
        "id": "ovdxzSlz_tnK",
        "outputId": "dd6e73bb-01bb-45ae-fd75-1a5021537b15"
      },
      "execution_count": null,
      "outputs": [
        {
          "name": "stdout",
          "output_type": "stream",
          "text": [
            "Enter number of rows and columns2 3\n"
          ]
        }
      ]
    },
    {
      "cell_type": "code",
      "source": [
        "#convert the entered rows and columns to int \n",
        "x=int(x)\n",
        "y=int(y)"
      ],
      "metadata": {
        "id": "6ibHJDETBDEg"
      },
      "execution_count": null,
      "outputs": []
    },
    {
      "cell_type": "code",
      "source": [
        "#enter the cleanliness status of the room. Put 1 for clean room and 0 for dirty room\n",
        "rooms= []\n",
        "for i in range(x):\n",
        "  row=[]\n",
        "  for j in range(y):\n",
        "    row.append(input())\n",
        "  rooms.append(row)"
      ],
      "metadata": {
        "colab": {
          "base_uri": "https://localhost:8080/"
        },
        "id": "Wu3dCgmLAXSs",
        "outputId": "88b5d985-9cf1-4502-96eb-449569b3e7dc"
      },
      "execution_count": null,
      "outputs": [
        {
          "name": "stdout",
          "output_type": "stream",
          "text": [
            "1\n",
            "0\n",
            "0\n",
            "1\n",
            "0\n",
            "0\n"
          ]
        }
      ]
    },
    {
      "cell_type": "code",
      "source": [
        "rooms= np.array(rooms)\n",
        "print(rooms)  #Print the room cleaniliness status"
      ],
      "metadata": {
        "id": "nLB3h09OELss"
      },
      "execution_count": null,
      "outputs": []
    },
    {
      "cell_type": "code",
      "source": [
        ""
      ],
      "metadata": {
        "colab": {
          "base_uri": "https://localhost:8080/"
        },
        "id": "1Bbd-yw-7bPa",
        "outputId": "c303d5bb-5466-440f-a95b-431dd01c414c"
      },
      "execution_count": null,
      "outputs": [
        {
          "output_type": "stream",
          "name": "stdout",
          "text": [
            "[['1' '0' '0']\n",
            " ['1' '0' '0']]\n"
          ]
        }
      ]
    },
    {
      "cell_type": "code",
      "source": [
        "\"\"\"Loops to traverse through all the rooms\n",
        "Check if the current room is dirty or clean\n",
        "Perform the action and announce the action done\"\"\"\n",
        "\n",
        "\n",
        "for i in range(x):\n",
        "  for j in range(y):\n",
        "    if rooms[i][j]=='1':\n",
        "      print(\"Room {}{} is already clean\".format(i,j) )\n",
        "    else:\n",
        "      rooms[i][j]='1'\n",
        "      print(\"Room {}{} is now clean\".format(i,j))"
      ],
      "metadata": {
        "colab": {
          "base_uri": "https://localhost:8080/"
        },
        "id": "By1i1dMM-aw8",
        "outputId": "1b872873-832e-4d35-c0d7-33d90c29b775"
      },
      "execution_count": null,
      "outputs": [
        {
          "output_type": "stream",
          "name": "stdout",
          "text": [
            "Room 00 is already clean\n",
            "Room 01 is now clean\n",
            "Room 02 is now clean\n",
            "Room 10 is already clean\n",
            "Room 11 is now clean\n",
            "Room 12 is now clean\n"
          ]
        }
      ]
    },
    {
      "cell_type": "markdown",
      "source": [
        "Second Implementation\n",
        "\n"
      ],
      "metadata": {
        "id": "oGBx5uWoJQit"
      }
    },
    {
      "cell_type": "code",
      "source": [
        "\"\"\"\n",
        "There are two rooms A and B\n",
        "We will assume \"1\" for room clean and \"0\" for room dirty\n",
        "\"\"\"\n",
        "\n",
        "goal_status= {\"A\": \"1\", \"B\":\"1\"} #Goal status for the vacuum cleaner\n",
        "\n",
        "#Take the initial vacuum cleaner location from the user\n",
        "room= input(\"Enter the initial vacuum cleaner location A or B:  \")\n",
        "\n",
        "#Take the current status of both the rooms from the user\n",
        "#\"1\" for clean room and \"0\" for dirty room\n",
        "\n",
        "current_status= {\"A\": input(\"Enter status of A: \"), \"B\": input(\"Enter status of B:\")}\n",
        "\n",
        "#Print the current status of the room\n",
        "\n",
        "print(\"Current status of both the rooms is \",  current_status)\n",
        "\n"
      ],
      "metadata": {
        "colab": {
          "base_uri": "https://localhost:8080/"
        },
        "id": "cTqSpf6QHGYm",
        "outputId": "d34df300-ee83-49bd-886f-6cde4891e305"
      },
      "execution_count": 1,
      "outputs": [
        {
          "output_type": "stream",
          "name": "stdout",
          "text": [
            "Enter the initial vacuum cleaner location A or B:  B\n",
            "Enter status of A: 0\n",
            "Enter status of B:1\n",
            "Current status of both the rooms is  {'A': '0', 'B': '1'}\n"
          ]
        }
      ]
    },
    {
      "cell_type": "code",
      "source": [
        "#Function to clean both the rooms, update their status and cost incurred\n",
        "\n",
        "def clean(room, current_status):\n",
        "#Function will take the initial location and current status as arguments\n",
        "\n",
        "  cost=0 #Initialize the cost\n",
        "  \n",
        "  # If initial location of the vacuum cleaner is A\n",
        "  if room == \"A\":\n",
        "    if current_status[\"A\"]== \"0\":\n",
        "      print(\"Room A is dirty, cleaning to be done. It will cost 1 unit \")\n",
        "      #action of sucking or cleaning to be performed\n",
        "      current_status[\"A\"]= \"1\"\n",
        "      cost+=1\n",
        "    else:\n",
        "      print(\"Room A is clean, no cost incurred. Moving to Room B\")\n",
        "\n",
        "      #Then vacuum cleaner should go to room B and check for its status\n",
        "    if current_status[\"B\"]==\"0\":\n",
        "      print(\"Room B is dirty, cleaning to be done. It will cost 1 unit \")\n",
        "      #action of sucking to be performed\n",
        "      current_status[\"B\"]=\"1\"\n",
        "      cost+=1\n",
        "    else:\n",
        "      print(\"Room B is clean, no cost incurred. Will update the current status and check with the goal status\")\n",
        "  return current_status,cost\n",
        "\n",
        "  # If initial location of the vacuum cleaner is B\n",
        "  if room==\"B\":\n",
        "    if current_status[\"B\"]==\"0\":\n",
        "      print(\"Room B is dirty, cleaning to be done. It will cost 1 unit \")\n",
        "       #action of sucking or cleaning to be performed\n",
        "      current_status[\"B\"]= \"1\"\n",
        "      cost+=1\n",
        "    else:\n",
        "      print(\"Room B is clean, no cost incurred. Moving to room A\")\n",
        "\n",
        "   #Then vacuum cleaner should go to room A and check for its status\n",
        "    if current_status[\"A\"]== \"0\":\n",
        "      print(\"Room A is dirty, cleaning to be done. It will cost 1 unit \")\n",
        "      #action of sucking or cleaning to be performed\n",
        "      current_status[\"A\"]= \"1\"\n",
        "    else:\n",
        "      print(\"Room B is clean, no cost incurred. Will update the current status  and check with the goal status\")\n",
        "  return current_status, cost\n",
        "\n"
      ],
      "metadata": {
        "id": "XIYTXSWqcJXS"
      },
      "execution_count": null,
      "outputs": []
    },
    {
      "cell_type": "code",
      "source": [
        "#Check the updated status with the goal status after cleaning\n",
        "#Print the result if the goal is achieved\n",
        "update_status,cost= clean(room, current_status)\n",
        "if update_status==goal_status:\n",
        "  print(\"Goal is achieved. Both the rooms are clean. Total cost incurred is \", cost)"
      ],
      "metadata": {
        "colab": {
          "base_uri": "https://localhost:8080/"
        },
        "id": "bVO-hIicew5O",
        "outputId": "7d30b10e-1edd-43fd-aafa-fdc796eacfee"
      },
      "execution_count": null,
      "outputs": [
        {
          "output_type": "stream",
          "name": "stdout",
          "text": [
            "Goal is achieved. Both the rooms are clean. Total cost incurred is  0\n"
          ]
        }
      ]
    },
    {
      "cell_type": "code",
      "source": [
        "print(\"Status of both the rooms after cleaning is\", update_status)"
      ],
      "metadata": {
        "colab": {
          "base_uri": "https://localhost:8080/"
        },
        "id": "BWkOZShkmGV6",
        "outputId": "284cbaed-f17d-4644-c303-614749844c19"
      },
      "execution_count": null,
      "outputs": [
        {
          "output_type": "stream",
          "name": "stdout",
          "text": [
            "Status of both the rooms after cleaning is {'A': '1', 'B': '1'}\n"
          ]
        }
      ]
    },
    {
      "cell_type": "code",
      "source": [
        ""
      ],
      "metadata": {
        "id": "19KT081gmINA"
      },
      "execution_count": null,
      "outputs": []
    }
  ]
}