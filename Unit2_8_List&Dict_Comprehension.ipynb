{
  "nbformat": 4,
  "nbformat_minor": 0,
  "metadata": {
    "colab": {
      "name": "Unit2.8_List&Dict_Comprehension.ipynb",
      "provenance": [],
      "authorship_tag": "ABX9TyMnhdL1GkpYxFrLJ38v6EPf",
      "include_colab_link": true
    },
    "kernelspec": {
      "name": "python3",
      "display_name": "Python 3"
    },
    "language_info": {
      "name": "python"
    }
  },
  "cells": [
    {
      "cell_type": "markdown",
      "metadata": {
        "id": "view-in-github",
        "colab_type": "text"
      },
      "source": [
        "<a href=\"https://colab.research.google.com/github/AmiMunshi/Introduction_to_Python_Programming/blob/main/Unit2_8_List%26Dict_Comprehension.ipynb\" target=\"_parent\"><img src=\"https://colab.research.google.com/assets/colab-badge.svg\" alt=\"Open In Colab\"/></a>"
      ]
    },
    {
      "cell_type": "markdown",
      "metadata": {
        "id": "KJu_hu5rHbVq"
      },
      "source": [
        "###List Comprehension\n",
        "\n",
        "Syntax becomes shorter and elegant with list comprehension"
      ]
    },
    {
      "cell_type": "code",
      "metadata": {
        "id": "T7AkwKPAGtED",
        "outputId": "ba2bc7b3-c90d-400f-c421-95b880e97502",
        "colab": {
          "base_uri": "https://localhost:8080/"
        }
      },
      "source": [
        "#Store the values of two times table in a list and print that list\n",
        "twoTimes= []\n",
        "for i in range(1,13):\n",
        "  twoTimes.append(2*i)\n",
        "\n",
        "print(twoTimes)"
      ],
      "execution_count": 1,
      "outputs": [
        {
          "output_type": "stream",
          "text": [
            "[2, 4, 6, 8, 10, 12, 14, 16, 18, 20, 22, 24]\n"
          ],
          "name": "stdout"
        }
      ]
    },
    {
      "cell_type": "code",
      "metadata": {
        "id": "cANU9mHmIYrL"
      },
      "source": [
        "#Using list comprehension for pring two times table\n",
        "tableTwo= [2*i for i in range(0,13)]\n",
        "print(tableTwo)"
      ],
      "execution_count": null,
      "outputs": []
    },
    {
      "cell_type": "code",
      "metadata": {
        "id": "fqLUqW_JKTwf"
      },
      "source": [
        "#storing each letter of the given sentence in a list\n",
        "str1= \"Good morning Mumbai\"\n",
        "letterList=[]\n",
        "for letter in str1:\n",
        "  letterList.append(letter)\n",
        "print(letterList)"
      ],
      "execution_count": null,
      "outputs": []
    },
    {
      "cell_type": "code",
      "metadata": {
        "id": "ZVDZPpEUK5wr"
      },
      "source": [
        "#using list comprehension for storing each letter of the given sentence in a list\n",
        "str1= \"Good morning Mumbai\"\n",
        "listLetter= [char for char in str1]\n",
        "print(listLetter)"
      ],
      "execution_count": null,
      "outputs": []
    },
    {
      "cell_type": "markdown",
      "metadata": {
        "id": "rsdrmu8ELdLl"
      },
      "source": [
        "Using condition in list comprehension"
      ]
    },
    {
      "cell_type": "code",
      "metadata": {
        "id": "ceS_lz6ULhRJ"
      },
      "source": [
        "#print odd numbers\n",
        "odd= [i for i in range(20) if i%2!=0]\n",
        "print(odd)"
      ],
      "execution_count": null,
      "outputs": []
    },
    {
      "cell_type": "code",
      "metadata": {
        "id": "vHi6aS6yL3TU"
      },
      "source": [
        "#Print odd or even\n",
        "\n",
        "num= [\"odd\" if i%2!=0 else \"even\" for i in range(21)]\n",
        "print(num)"
      ],
      "execution_count": null,
      "outputs": []
    },
    {
      "cell_type": "code",
      "metadata": {
        "id": "re_YDWGiIMdW"
      },
      "source": [
        "#DIY Create a list with squares of integers from 1 to 10"
      ],
      "execution_count": null,
      "outputs": []
    },
    {
      "cell_type": "code",
      "metadata": {
        "id": "xkR56uAZIbQG"
      },
      "source": [
        "#DIY Create list of integers with even squares"
      ],
      "execution_count": null,
      "outputs": []
    },
    {
      "cell_type": "code",
      "metadata": {
        "id": "we5tQSU9IpLG"
      },
      "source": [
        "#Add each element of list X to each element of list Y without using list comprehension\n",
        "\n",
        "X-"
      ],
      "execution_count": null,
      "outputs": []
    },
    {
      "cell_type": "markdown",
      "metadata": {
        "id": "IzOYBcLOOvzK"
      },
      "source": [
        "Dictionary Comprehension"
      ]
    },
    {
      "cell_type": "code",
      "metadata": {
        "colab": {
          "base_uri": "https://localhost:8080/"
        },
        "id": "_rN4MTU5LQ-T",
        "outputId": "2da98453-7284-423b-f006-59e440472391"
      },
      "source": [
        "#Two times table\n",
        "twoTimes={}\n",
        "for i in range (1,13):\n",
        "  twoTimes[i]=2*i\n",
        "print(twoTimes)"
      ],
      "execution_count": null,
      "outputs": [
        {
          "output_type": "stream",
          "text": [
            "{1: 2, 2: 4, 3: 6, 4: 8, 5: 10, 6: 12, 7: 14, 8: 16, 9: 18, 10: 20, 11: 22, 12: 24}\n"
          ],
          "name": "stdout"
        }
      ]
    },
    {
      "cell_type": "code",
      "metadata": {
        "colab": {
          "base_uri": "https://localhost:8080/"
        },
        "id": "1ZqzenY8QplN",
        "outputId": "d0e92639-fc41-4e3a-9452-b1685571e350"
      },
      "source": [
        "#Two times table using dictionary comprehension\n",
        "\n",
        "tableTwo= {i:2*i for i in range(1,13) }\n",
        "print(tableTwo)"
      ],
      "execution_count": null,
      "outputs": [
        {
          "output_type": "stream",
          "text": [
            "{1: 2, 2: 4, 3: 6, 4: 8, 5: 10, 6: 12, 7: 14, 8: 16, 9: 18, 10: 20, 11: 22, 12: 24}\n"
          ],
          "name": "stdout"
        }
      ]
    },
    {
      "cell_type": "code",
      "metadata": {
        "colab": {
          "base_uri": "https://localhost:8080/"
        },
        "id": "aSuuHeLMRP-w",
        "outputId": "dc729efc-1d32-475d-cd8f-b41c8ba043d3"
      },
      "source": [
        "# Count number of letters in the words\n",
        "\n",
        "words= input().split(',')\n",
        "wordCount= {fruit:len(fruit) for fruit in words}\n",
        "print(wordCount)\n"
      ],
      "execution_count": null,
      "outputs": [
        {
          "output_type": "stream",
          "text": [
            "banana,apple,mango,grapes,orange\n",
            "{'banana': 6, 'apple': 5, 'mango': 5, 'grapes': 6, 'orange': 6}\n"
          ],
          "name": "stdout"
        }
      ]
    },
    {
      "cell_type": "code",
      "metadata": {
        "colab": {
          "base_uri": "https://localhost:8080/"
        },
        "id": "5vt5AJxFShy_",
        "outputId": "c18190ad-c0f8-4991-b59a-347d744762d0"
      },
      "source": [
        "#dictionary comprehension with two variables\n",
        "students= [\"Ram\", \"Rahul\", \"Seema\", \"Priya\"]\n",
        "marks= [25, 27, 24, 26]\n",
        "result={s:m for s,m in zip(students,marks)}\n",
        "print(result)"
      ],
      "execution_count": null,
      "outputs": [
        {
          "output_type": "stream",
          "text": [
            "{'Ram': 25, 'Rahul': 27, 'Seema': 24, 'Priya': 26}\n"
          ],
          "name": "stdout"
        }
      ]
    },
    {
      "cell_type": "code",
      "metadata": {
        "id": "aW-H6VcLSoQ5"
      },
      "source": [
        ""
      ],
      "execution_count": null,
      "outputs": []
    }
  ]
}