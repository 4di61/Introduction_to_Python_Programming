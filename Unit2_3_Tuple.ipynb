{
  "nbformat": 4,
  "nbformat_minor": 0,
  "metadata": {
    "colab": {
      "name": "Unit2.3_Tuple.ipynb",
      "provenance": [],
      "authorship_tag": "ABX9TyP3otsUg8AnmxwbIzk6f+sq",
      "include_colab_link": true
    },
    "kernelspec": {
      "name": "python3",
      "display_name": "Python 3"
    },
    "language_info": {
      "name": "python"
    }
  },
  "cells": [
    {
      "cell_type": "markdown",
      "metadata": {
        "id": "view-in-github",
        "colab_type": "text"
      },
      "source": [
        "<a href=\"https://colab.research.google.com/github/AmiMunshi/Introduction_to_Python_Programming/blob/main/Unit2_3_Tuple.ipynb\" target=\"_parent\"><img src=\"https://colab.research.google.com/assets/colab-badge.svg\" alt=\"Open In Colab\"/></a>"
      ]
    },
    {
      "cell_type": "markdown",
      "metadata": {
        "id": "FN1yikAp82TF"
      },
      "source": [
        "#Tuples\n",
        "\n",
        "Similar to list. Main difference is that Tuplesare immutable"
      ]
    },
    {
      "cell_type": "code",
      "metadata": {
        "colab": {
          "base_uri": "https://localhost:8080/"
        },
        "id": "4jKeXAv174VH",
        "outputId": "792ab95f-3559-4842-fdb5-7116845a6151"
      },
      "source": [
        "my_tuple= (\"banana\", \"apple\", \"grapes\")#Packing Tuple\n",
        "print(my_tuple)\n",
        "print(type(my_tuple))"
      ],
      "execution_count": null,
      "outputs": [
        {
          "output_type": "stream",
          "text": [
            "('banana', 'apple', 'grapes')\n",
            "<class 'tuple'>\n"
          ],
          "name": "stdout"
        }
      ]
    },
    {
      "cell_type": "code",
      "metadata": {
        "colab": {
          "base_uri": "https://localhost:8080/",
          "height": 35
        },
        "id": "ec9kd5sr9Nqw",
        "outputId": "6b492ea0-1610-43b2-80af-89b96e90155a"
      },
      "source": [
        "my_tuple[1]"
      ],
      "execution_count": null,
      "outputs": [
        {
          "output_type": "execute_result",
          "data": {
            "application/vnd.google.colaboratory.intrinsic+json": {
              "type": "string"
            },
            "text/plain": [
              "'apple'"
            ]
          },
          "metadata": {
            "tags": []
          },
          "execution_count": 2
        }
      ]
    },
    {
      "cell_type": "markdown",
      "metadata": {
        "id": "wgC5vi3C_2S0"
      },
      "source": [
        "####Tuple methods count(),index()"
      ]
    },
    {
      "cell_type": "code",
      "metadata": {
        "colab": {
          "base_uri": "https://localhost:8080/"
        },
        "id": "V_7njpBH9P4s",
        "outputId": "dd163571-c3c8-40ab-83fb-9ef1ae0048e7"
      },
      "source": [
        "my_tuple.count(\"banana\")"
      ],
      "execution_count": null,
      "outputs": [
        {
          "output_type": "execute_result",
          "data": {
            "text/plain": [
              "1"
            ]
          },
          "metadata": {
            "tags": []
          },
          "execution_count": 4
        }
      ]
    },
    {
      "cell_type": "code",
      "metadata": {
        "colab": {
          "base_uri": "https://localhost:8080/"
        },
        "id": "eNJZThXI9ZI0",
        "outputId": "7ba16f4e-f4cb-4b17-bd73-9341ac311f69"
      },
      "source": [
        "my_tuple.index(\"grapes\")"
      ],
      "execution_count": null,
      "outputs": [
        {
          "output_type": "execute_result",
          "data": {
            "text/plain": [
              "2"
            ]
          },
          "metadata": {
            "tags": []
          },
          "execution_count": 6
        }
      ]
    },
    {
      "cell_type": "code",
      "metadata": {
        "id": "AMvT_PAC9icE"
      },
      "source": [
        "new= (\"food\", (\"shirts\", \"Jeans\"), ((\"sprite\", \"coke\"), \"mangola\")) #Nested Tuple"
      ],
      "execution_count": null,
      "outputs": []
    },
    {
      "cell_type": "code",
      "metadata": {
        "colab": {
          "base_uri": "https://localhost:8080/"
        },
        "id": "ZYvfSO0797-b",
        "outputId": "d7ae645c-70de-46ee-9aad-6a351d935af6"
      },
      "source": [
        "print(new[1])"
      ],
      "execution_count": null,
      "outputs": [
        {
          "output_type": "stream",
          "text": [
            "('shirts', 'Jeans')\n"
          ],
          "name": "stdout"
        }
      ]
    },
    {
      "cell_type": "code",
      "metadata": {
        "colab": {
          "base_uri": "https://localhost:8080/"
        },
        "id": "ra-wWvCS9--d",
        "outputId": "0cf77b53-587d-47e2-d32d-60167091bdaa"
      },
      "source": [
        "print(new[1][1])"
      ],
      "execution_count": null,
      "outputs": [
        {
          "output_type": "stream",
          "text": [
            "Jeans\n"
          ],
          "name": "stdout"
        }
      ]
    },
    {
      "cell_type": "code",
      "metadata": {
        "colab": {
          "base_uri": "https://localhost:8080/"
        },
        "id": "WmPPvDIj-CM7",
        "outputId": "ccf3b157-3576-44d0-8f90-b4b90544407f"
      },
      "source": [
        "print(new[2][0][1])"
      ],
      "execution_count": null,
      "outputs": [
        {
          "output_type": "stream",
          "text": [
            "coke\n"
          ],
          "name": "stdout"
        }
      ]
    },
    {
      "cell_type": "markdown",
      "metadata": {
        "id": "MrXwjJxE_BHf"
      },
      "source": [
        "####Unpacking Tuple"
      ]
    },
    {
      "cell_type": "code",
      "metadata": {
        "id": "qAjW2yvk-G-7",
        "colab": {
          "base_uri": "https://localhost:8080/"
        },
        "outputId": "f99cece3-b61e-4422-9a44-d80e72033ba7"
      },
      "source": [
        "(a,b,c)= my_tuple\n",
        "print(my_tuple)\n",
        "print(b)"
      ],
      "execution_count": null,
      "outputs": [
        {
          "output_type": "stream",
          "text": [
            "('banana', 'apple', 'grapes')\n",
            "apple\n"
          ],
          "name": "stdout"
        }
      ]
    },
    {
      "cell_type": "markdown",
      "metadata": {
        "id": "7WsULLwi_S80"
      },
      "source": [
        "####Join two tuples"
      ]
    },
    {
      "cell_type": "code",
      "metadata": {
        "colab": {
          "base_uri": "https://localhost:8080/"
        },
        "id": "z1eBPj5O_Hmd",
        "outputId": "86892109-8525-4bd9-8a3f-236e8a2fd102"
      },
      "source": [
        "my_tuple + (\"mangoes\", \"banana\")"
      ],
      "execution_count": null,
      "outputs": [
        {
          "output_type": "execute_result",
          "data": {
            "text/plain": [
              "('banana', 'apple', 'grapes', 'mangoes', 'banana')"
            ]
          },
          "metadata": {
            "tags": []
          },
          "execution_count": 14
        }
      ]
    },
    {
      "cell_type": "markdown",
      "metadata": {
        "id": "mFkMfsm-_lSl"
      },
      "source": [
        "####Multiply Tuples\n",
        "\n"
      ]
    },
    {
      "cell_type": "code",
      "metadata": {
        "colab": {
          "base_uri": "https://localhost:8080/"
        },
        "id": "Is0Nrwza_fDd",
        "outputId": "0d45e0f6-9d67-4db8-c8f5-a854c91cb3dc"
      },
      "source": [
        "my_tuple*2\n"
      ],
      "execution_count": null,
      "outputs": [
        {
          "output_type": "execute_result",
          "data": {
            "text/plain": [
              "('banana', 'apple', 'grapes', 'banana', 'apple', 'grapes')"
            ]
          },
          "metadata": {
            "tags": []
          },
          "execution_count": 15
        }
      ]
    },
    {
      "cell_type": "markdown",
      "metadata": {
        "id": "6C2y7XzCPZUh"
      },
      "source": [
        "Tuple to list"
      ]
    },
    {
      "cell_type": "code",
      "metadata": {
        "id": "NZ-ULC5Q_uEs"
      },
      "source": [
        "#DIY\n",
        "#Convert tuple to list\n",
        "\n",
        "mix_tuple= (1,\"vegetables\",  [\"yellow\", \"banana\"])"
      ],
      "execution_count": null,
      "outputs": []
    },
    {
      "cell_type": "code",
      "metadata": {
        "id": "Pd3CidUcPtrO"
      },
      "source": [
        "#DIY\n",
        "#from the given tuple, print yellow using indexing"
      ],
      "execution_count": null,
      "outputs": []
    },
    {
      "cell_type": "code",
      "metadata": {
        "id": "pFqS3s5ZP1Xs",
        "colab": {
          "base_uri": "https://localhost:8080/"
        },
        "outputId": "11004c4a-52bb-4194-e99d-8174c9c07aa0"
      },
      "source": [
        "#Student names are saved in a tuple. Find the length of each student name.\n",
        "names= (\"Jiya\", \"Jeet\", \"Mahek\", \"Aarya\", \"Ahaan\")\n",
        "#iterating over tuple \n",
        "for name in names:\n",
        "  n= len(name) # find length of each element in the tuple\n",
        "  print(name,n) #print the name and its length"
      ],
      "execution_count": null,
      "outputs": [
        {
          "output_type": "stream",
          "text": [
            "Jiya 4\n",
            "Jeet 4\n",
            "Mahek 5\n",
            "Aarya 5\n",
            "Ahaan 5\n"
          ],
          "name": "stdout"
        }
      ]
    },
    {
      "cell_type": "code",
      "metadata": {
        "id": "bqn81Uc7QKh3"
      },
      "source": [
        ""
      ],
      "execution_count": null,
      "outputs": []
    }
  ]
}