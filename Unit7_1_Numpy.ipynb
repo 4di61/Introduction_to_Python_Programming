{
  "nbformat": 4,
  "nbformat_minor": 0,
  "metadata": {
    "colab": {
      "name": "Unit7.1_Numpy.ipynb",
      "provenance": [],
      "authorship_tag": "ABX9TyPW7ru8oy4PoIzVAl209/FD",
      "include_colab_link": true
    },
    "kernelspec": {
      "name": "python3",
      "display_name": "Python 3"
    },
    "language_info": {
      "name": "python"
    }
  },
  "cells": [
    {
      "cell_type": "markdown",
      "metadata": {
        "id": "view-in-github",
        "colab_type": "text"
      },
      "source": [
        "<a href=\"https://colab.research.google.com/github/AmiMunshi/Introduction_to_Python_Programming/blob/main/Unit7_1_Numpy.ipynb\" target=\"_parent\"><img src=\"https://colab.research.google.com/assets/colab-badge.svg\" alt=\"Open In Colab\"/></a>"
      ]
    },
    {
      "cell_type": "markdown",
      "metadata": {
        "id": "BHSuOSQsH2L1"
      },
      "source": [
        "Numpy\n",
        "\n",
        "Syllabus\n",
        "\n",
        "NumPy Library –NumPy Arrays, Attributes and Methods, Array \n",
        "manipulation, Indexing and Iterating\n",
        "\n",
        "\n"
      ]
    },
    {
      "cell_type": "markdown",
      "metadata": {
        "id": "7iSFv6RPIW7D"
      },
      "source": [
        "NumPy is a Python library used for working with arrays.\n",
        "\n",
        "It also has functions for working in domain of linear algebra, fourier transform, and matrices.\n",
        "\n",
        "NumPy was created in 2005 by Travis Oliphant. It is an open source project and you can use it freely.\n",
        "\n",
        "NumPy stands for Numerical Python.\n",
        "\n",
        "**Numpy (Numerical Python)**\n",
        "\n",
        "*   Scientific computing in Python\n",
        "*   Highly efficient in interacting with multidimensional array\n",
        "*   Equivalent to the basic array data structure in MATLAB\n",
        "*   Operations like inner and outer products, transposition, and element-wise operations can be performed\n",
        "*   Many other useful methods like reading text and binary data files, fitting polynomial functions, many mathematical functions (sine, cosine, square root, and so on), and generating random numbers also possible\n",
        "\n",
        "\n",
        "Reference:\n",
        "\n",
        "https://numpy.org/doc/stable/reference/generated/numpy.ravel.html"
      ]
    },
    {
      "cell_type": "code",
      "metadata": {
        "id": "aN8N-XyIHmAR"
      },
      "source": [
        "import numpy as np "
      ],
      "execution_count": null,
      "outputs": []
    },
    {
      "cell_type": "markdown",
      "metadata": {
        "id": "GPQ7ZKw_JKY_"
      },
      "source": [
        "Compare numpy and list"
      ]
    },
    {
      "cell_type": "code",
      "metadata": {
        "id": "XxPrpOS1JOa-",
        "colab": {
          "base_uri": "https://localhost:8080/"
        },
        "outputId": "cd9c8066-c5e3-4aa7-fea4-f5f44b4da43e"
      },
      "source": [
        "# Convert temperature in degree Celcius to degree Fahrenheit\n",
        "# F= 9*C/5 + 32\n",
        "C= [36.7, 42.3, 24.5, 33.2,15.8]\n",
        "\n",
        "F= [(9/5)*i +32 for i in C] #Using list comprehension\n",
        "\n",
        "print(F)\n",
        "\n"
      ],
      "execution_count": null,
      "outputs": [
        {
          "output_type": "stream",
          "name": "stdout",
          "text": [
            "[98.06, 108.14, 76.1, 91.76, 60.44]\n"
          ]
        }
      ]
    },
    {
      "cell_type": "code",
      "metadata": {
        "colab": {
          "base_uri": "https://localhost:8080/"
        },
        "id": "pgVhTRIgjWmn",
        "outputId": "b4988fb0-e0fa-45ac-bb83-acd6827502bd"
      },
      "source": [
        "# Convert temperature in degree Celcius to degree Fahrenheit\n",
        "#Witout using list comprehension\n",
        "\n",
        "F=[]\n",
        "for i in range(len(C)):\n",
        "  temp= (9/5)*C[i] +32\n",
        "  F.append(temp)\n",
        "print(F)"
      ],
      "execution_count": null,
      "outputs": [
        {
          "output_type": "stream",
          "name": "stdout",
          "text": [
            "[98.06, 108.14, 76.1, 91.76, 60.44]\n"
          ]
        }
      ]
    },
    {
      "cell_type": "code",
      "metadata": {
        "id": "37yywXoW-xjD",
        "colab": {
          "base_uri": "https://localhost:8080/",
          "height": 183
        },
        "outputId": "7acd8f87-3852-43c2-cfda-7cb5aa33c333"
      },
      "source": [
        "#with list the following is not possible\n",
        "F1= (9/5)*C+32"
      ],
      "execution_count": null,
      "outputs": [
        {
          "output_type": "error",
          "ename": "TypeError",
          "evalue": "ignored",
          "traceback": [
            "\u001b[0;31m---------------------------------------------------------------------------\u001b[0m",
            "\u001b[0;31mTypeError\u001b[0m                                 Traceback (most recent call last)",
            "\u001b[0;32m<ipython-input-3-ecaaa6d1ef05>\u001b[0m in \u001b[0;36m<module>\u001b[0;34m()\u001b[0m\n\u001b[1;32m      1\u001b[0m \u001b[0;31m#with list the following is not possible\u001b[0m\u001b[0;34m\u001b[0m\u001b[0;34m\u001b[0m\u001b[0;34m\u001b[0m\u001b[0m\n\u001b[0;32m----> 2\u001b[0;31m \u001b[0mF1\u001b[0m\u001b[0;34m=\u001b[0m \u001b[0;34m(\u001b[0m\u001b[0;36m9\u001b[0m\u001b[0;34m/\u001b[0m\u001b[0;36m5\u001b[0m\u001b[0;34m)\u001b[0m\u001b[0;34m*\u001b[0m\u001b[0mC\u001b[0m\u001b[0;34m+\u001b[0m\u001b[0;36m32\u001b[0m\u001b[0;34m\u001b[0m\u001b[0;34m\u001b[0m\u001b[0m\n\u001b[0m",
            "\u001b[0;31mTypeError\u001b[0m: can't multiply sequence by non-int of type 'float'"
          ]
        }
      ]
    },
    {
      "cell_type": "code",
      "metadata": {
        "colab": {
          "base_uri": "https://localhost:8080/"
        },
        "id": "g8oGqakh-_d8",
        "outputId": "492c2034-678a-4250-96f8-c726136839eb"
      },
      "source": [
        "#Celsius to Farenheit using numpy\n",
        "import numpy as np\n",
        "import matplotlib.pyplot as plt\n",
        "\n",
        "C1= [36.7, 42.3, 24.5, 33.2,15.8]\n",
        "Cnum= np.array(C1)\n",
        "\n",
        "print(type(C1))\n",
        "print(type(Cnum))"
      ],
      "execution_count": null,
      "outputs": [
        {
          "output_type": "stream",
          "name": "stdout",
          "text": [
            "<class 'list'>\n",
            "<class 'numpy.ndarray'>\n"
          ]
        }
      ]
    },
    {
      "cell_type": "code",
      "metadata": {
        "colab": {
          "base_uri": "https://localhost:8080/"
        },
        "id": "g8Lx4du-kwPk",
        "outputId": "00740036-dd2a-4d83-eae4-033b3e3e5038"
      },
      "source": [
        "Fnum= (9/5)*Cnum +32\n",
        "print(Fnum)"
      ],
      "execution_count": null,
      "outputs": [
        {
          "output_type": "stream",
          "name": "stdout",
          "text": [
            "[ 98.06 108.14  76.1   91.76  60.44]\n"
          ]
        }
      ]
    },
    {
      "cell_type": "code",
      "metadata": {
        "colab": {
          "base_uri": "https://localhost:8080/",
          "height": 691
        },
        "id": "QRQERy95-AM8",
        "outputId": "5c6aafc4-670a-473b-e65a-088d1308a529"
      },
      "source": [
        "x= np.arange(0,5,dtype=int)\n",
        "plt.figure(figsize=(15,10)) #To adjust the size of the canvas\n",
        "plt.subplot(1,3,1) #Divide the plot into 1 row and three columns\n",
        "plt.grid()\n",
        "plt.plot(x, Fnum)\n",
        "plt.title(\"Continuous plot of temperature over five days\")\n",
        "plt.xlabel(\"Days\")\n",
        "plt.ylabel(\"Temperature\")\n",
        "\n",
        "plt.subplot(1,3,2)\n",
        "plt.grid()\n",
        "plt.scatter(x,Fnum)\n",
        "\n",
        "plt.subplot(1,3,3)\n",
        "plt.grid()\n",
        "plt.stem(x,Fnum)"
      ],
      "execution_count": null,
      "outputs": [
        {
          "output_type": "stream",
          "name": "stderr",
          "text": [
            "/usr/local/lib/python3.7/dist-packages/ipykernel_launcher.py:16: UserWarning: In Matplotlib 3.3 individual lines on a stem plot will be added as a LineCollection instead of individual lines. This significantly improves the performance of a stem plot. To remove this warning and switch to the new behaviour, set the \"use_line_collection\" keyword argument to True.\n",
            "  app.launch_new_instance()\n"
          ]
        },
        {
          "output_type": "execute_result",
          "data": {
            "text/plain": [
              "<StemContainer object of 3 artists>"
            ]
          },
          "metadata": {},
          "execution_count": 45
        },
        {
          "output_type": "display_data",
          "data": {
            "image/png": "[encoded data removed]",
            "text/plain": [
              "<Figure size 1080x720 with 3 Axes>"
            ]
          },
          "metadata": {
            "needs_background": "light"
          }
        }
      ]
    },
    {
      "cell_type": "code",
      "metadata": {
        "colab": {
          "base_uri": "https://localhost:8080/",
          "height": 335
        },
        "id": "OWvkBnBIBM1g",
        "outputId": "f4acb831-7f21-4ce9-81cc-ee506c6f5d87"
      },
      "source": [
        "|plt.subplot(3,1,1)\n",
        "plt.grid()\n",
        "plt.plot(x, Fnum)\n",
        "\n",
        "plt.subplot(3,1,2)\n",
        "plt.grid()\n",
        "plt.scatter(x,Fnum)\n",
        "\n",
        "plt.subplot(3,1,3)\n",
        "plt.grid()\n",
        "plt.stem(x,Fnum)"
      ],
      "execution_count": null,
      "outputs": [
        {
          "output_type": "stream",
          "name": "stderr",
          "text": [
            "/usr/local/lib/python3.7/dist-packages/ipykernel_launcher.py:11: UserWarning: In Matplotlib 3.3 individual lines on a stem plot will be added as a LineCollection instead of individual lines. This significantly improves the performance of a stem plot. To remove this warning and switch to the new behaviour, set the \"use_line_collection\" keyword argument to True.\n",
            "  # This is added back by InteractiveShellApp.init_path()\n"
          ]
        },
        {
          "output_type": "execute_result",
          "data": {
            "text/plain": [
              "<StemContainer object of 3 artists>"
            ]
          },
          "metadata": {},
          "execution_count": 40
        },
        {
          "output_type": "display_data",
          "data": {
            "image/png": "[encoded data removed]",
            "text/plain": [
              "<Figure size 432x288 with 3 Axes>"
            ]
          },
          "metadata": {
            "needs_background": "light"
          }
        }
      ]
    },
    {
      "cell_type": "code",
      "metadata": {
        "colab": {
          "base_uri": "https://localhost:8080/",
          "height": 335
        },
        "id": "6eyN8SDdBaVv",
        "outputId": "d3a14d28-a107-41a5-edcf-df53d8fd7803"
      },
      "source": [
        "plt.subplot(2,2,1)\n",
        "plt.grid()\n",
        "plt.plot(x, Fnum)\n",
        "\n",
        "plt.subplot(2,2,2)\n",
        "plt.grid()\n",
        "plt.scatter(x,Fnum)\n",
        "\n",
        "plt.subplot(2,2,3)\n",
        "plt.grid()\n",
        "plt.stem(x,Fnum)"
      ],
      "execution_count": null,
      "outputs": [
        {
          "output_type": "stream",
          "name": "stderr",
          "text": [
            "/usr/local/lib/python3.7/dist-packages/ipykernel_launcher.py:11: UserWarning: In Matplotlib 3.3 individual lines on a stem plot will be added as a LineCollection instead of individual lines. This significantly improves the performance of a stem plot. To remove this warning and switch to the new behaviour, set the \"use_line_collection\" keyword argument to True.\n",
            "  # This is added back by InteractiveShellApp.init_path()\n"
          ]
        },
        {
          "output_type": "execute_result",
          "data": {
            "text/plain": [
              "<StemContainer object of 3 artists>"
            ]
          },
          "metadata": {},
          "execution_count": 41
        },
        {
          "output_type": "display_data",
          "data": {
            "image/png": "[encoded data removed]",
            "text/plain": [
              "<Figure size 432x288 with 3 Axes>"
            ]
          },
          "metadata": {
            "needs_background": "light"
          }
        }
      ]
    },
    {
      "cell_type": "code",
      "metadata": {
        "colab": {
          "base_uri": "https://localhost:8080/"
        },
        "id": "OCMnV_vO-sPl",
        "outputId": "a6fc2991-82ca-4107-f9be-ed3c8b803e19"
      },
      "source": [
        "type(x)"
      ],
      "execution_count": null,
      "outputs": [
        {
          "output_type": "execute_result",
          "data": {
            "text/plain": [
              "numpy.ndarray"
            ]
          },
          "metadata": {},
          "execution_count": 34
        }
      ]
    },
    {
      "cell_type": "markdown",
      "metadata": {
        "id": "T0zonGu2AJvg"
      },
      "source": [
        "Numpy functions\n",
        "\n",
        "numpy.array()\n"
      ]
    },
    {
      "cell_type": "code",
      "metadata": {
        "id": "vGFMF4OeAUrC",
        "colab": {
          "base_uri": "https://localhost:8080/"
        },
        "outputId": "4470e831-5fad-4cd1-d34a-9f2289a899e2"
      },
      "source": [
        "#numpy.array()\n",
        "import numpy as np\n",
        "Numbers= np.array([1,2,3,4,5])\n",
        "print(Numbers)\n",
        "print(type(Numbers))\n"
      ],
      "execution_count": null,
      "outputs": [
        {
          "output_type": "stream",
          "name": "stdout",
          "text": [
            "[1 2 3 4 5]\n",
            "<class 'numpy.ndarray'>\n"
          ]
        }
      ]
    },
    {
      "cell_type": "code",
      "metadata": {
        "colab": {
          "base_uri": "https://localhost:8080/"
        },
        "id": "KCppFTJIlvB3",
        "outputId": "2efb9ebd-aaee-4f30-ab10-a8181bc97a09"
      },
      "source": [
        "#using numpy.arange()\n",
        "import numpy as np\n",
        "New= np.arange(0,10, dtype=int)\n",
        "print(New)"
      ],
      "execution_count": null,
      "outputs": [
        {
          "output_type": "stream",
          "name": "stdout",
          "text": [
            "[0 1 2 3 4 5 6 7 8 9]\n"
          ]
        }
      ]
    },
    {
      "cell_type": "code",
      "metadata": {
        "colab": {
          "base_uri": "https://localhost:8080/"
        },
        "id": "ZS1hZlspgkOX",
        "outputId": "a2b6796e-fe8c-4aa6-e450-8f3408125a9c"
      },
      "source": [
        "New1= np.reshape(New, (5,2), \"C\")\n",
        "print(New1)"
      ],
      "execution_count": null,
      "outputs": [
        {
          "output_type": "stream",
          "name": "stdout",
          "text": [
            "[[0 1]\n",
            " [2 3]\n",
            " [4 5]\n",
            " [6 7]\n",
            " [8 9]]\n"
          ]
        }
      ]
    },
    {
      "cell_type": "code",
      "metadata": {
        "colab": {
          "base_uri": "https://localhost:8080/"
        },
        "id": "gZTj2DXSnX5H",
        "outputId": "5276192a-f5c4-499b-f315-04d7dc18b527"
      },
      "source": [
        "New1= New.reshape(5,2) #Using reshape to form a matrix\n",
        "print(New1)"
      ],
      "execution_count": null,
      "outputs": [
        {
          "output_type": "stream",
          "name": "stdout",
          "text": [
            "[[0 1]\n",
            " [2 3]\n",
            " [4 5]\n",
            " [6 7]\n",
            " [8 9]]\n"
          ]
        }
      ]
    },
    {
      "cell_type": "code",
      "metadata": {
        "colab": {
          "base_uri": "https://localhost:8080/"
        },
        "id": "vxEwfOdjhaH8",
        "outputId": "cebf3e19-e776-43f9-8b67-86d7aea7909e"
      },
      "source": [
        "New2= np.reshape(New, (5,2), \"F\") #Using reshape to form a matrix\n",
        "print(New2)"
      ],
      "execution_count": null,
      "outputs": [
        {
          "output_type": "stream",
          "name": "stdout",
          "text": [
            "[[0 5]\n",
            " [1 6]\n",
            " [2 7]\n",
            " [3 8]\n",
            " [4 9]]\n"
          ]
        }
      ]
    },
    {
      "cell_type": "code",
      "metadata": {
        "colab": {
          "base_uri": "https://localhost:8080/"
        },
        "id": "aIylhJroiIwO",
        "outputId": "ea791f5c-004c-41e1-b075-04bde4508522"
      },
      "source": [
        "#Using np.ravel()\n",
        "#New3= np.ravel(New1,\"C\") \n",
        "#Will read row wise\n",
        "New3= np.ravel(New1)\n",
        "print(New3)"
      ],
      "execution_count": null,
      "outputs": [
        {
          "output_type": "stream",
          "name": "stdout",
          "text": [
            "[0 1 2 3 4 5 6 7 8 9]\n"
          ]
        }
      ]
    },
    {
      "cell_type": "code",
      "metadata": {
        "colab": {
          "base_uri": "https://localhost:8080/"
        },
        "id": "JNySgd2NijqS",
        "outputId": "a4b145b1-cd46-40ba-d8a0-18e3bf95293f"
      },
      "source": [
        "#Read column wise using order=\"F\"\n",
        "New4= np.ravel(New1, \"F\")\n",
        "print(New4)"
      ],
      "execution_count": null,
      "outputs": [
        {
          "output_type": "stream",
          "name": "stdout",
          "text": [
            "[0 2 4 6 8 1 3 5 7 9]\n"
          ]
        }
      ]
    },
    {
      "cell_type": "code",
      "metadata": {
        "colab": {
          "base_uri": "https://localhost:8080/"
        },
        "id": "aVqw11S1isG5",
        "outputId": "a7d759bf-2f6d-44c5-9224-6ab119c9fe3a"
      },
      "source": [
        "#Read row wise\n",
        "New5= np.ravel(New2)\n",
        "print(New5)"
      ],
      "execution_count": null,
      "outputs": [
        {
          "output_type": "stream",
          "name": "stdout",
          "text": [
            "[0 5 1 6 2 7 3 8 4 9]\n"
          ]
        }
      ]
    },
    {
      "cell_type": "code",
      "metadata": {
        "colab": {
          "base_uri": "https://localhost:8080/"
        },
        "id": "yAjEvdYWjJjc",
        "outputId": "2b08ef7a-a830-4b11-9bf1-53be350dd155"
      },
      "source": [
        "#Read coulumn wise\n",
        "New6= np.ravel(New2,\"F\")\n",
        "print(New6)"
      ],
      "execution_count": null,
      "outputs": [
        {
          "output_type": "stream",
          "name": "stdout",
          "text": [
            "[0 1 2 3 4 5 6 7 8 9]\n"
          ]
        }
      ]
    },
    {
      "cell_type": "code",
      "metadata": {
        "id": "JlyepXJjAmoz",
        "colab": {
          "base_uri": "https://localhost:8080/"
        },
        "outputId": "f363b756-0798-422f-b964-3659bc2cc9bc"
      },
      "source": [
        "#numpy.array() more than one dimension\n",
        "\n",
        "a= np.array(23)# 0D\n",
        "print(a.shape, a.ndim, a.size)"
      ],
      "execution_count": null,
      "outputs": [
        {
          "output_type": "stream",
          "name": "stdout",
          "text": [
            "() 0 1\n"
          ]
        }
      ]
    },
    {
      "cell_type": "code",
      "metadata": {
        "id": "53l3tU5H_1n1",
        "colab": {
          "base_uri": "https://localhost:8080/"
        },
        "outputId": "a302370d-9e55-414c-805b-437f4275e638"
      },
      "source": [
        "b= np.array([1,2,3,4,5]) #1D array\n",
        "print(b.shape, b.ndim, b.size)"
      ],
      "execution_count": null,
      "outputs": [
        {
          "output_type": "stream",
          "name": "stdout",
          "text": [
            "(5,) 1 5\n"
          ]
        }
      ]
    },
    {
      "cell_type": "code",
      "metadata": {
        "colab": {
          "base_uri": "https://localhost:8080/"
        },
        "id": "RO7tbcz4pBgK",
        "outputId": "f9feac2c-5272-4271-d02a-32b40cc6d37e"
      },
      "source": [
        "import numpy as np\n",
        "c= np.array([[1,2,3], [4,5,6], [7,8,9]]) #2D array\n",
        "print(c.shape, c.ndim, c.size)\n",
        "\n",
        "print(c.max())"
      ],
      "execution_count": null,
      "outputs": [
        {
          "output_type": "stream",
          "name": "stdout",
          "text": [
            "(3, 3) 2 9\n",
            "9\n"
          ]
        }
      ]
    },
    {
      "cell_type": "code",
      "metadata": {
        "colab": {
          "base_uri": "https://localhost:8080/"
        },
        "id": "TZDxzS2vpP8H",
        "outputId": "e9e7785e-c945-4d40-ff1c-f4e0f70f6a36"
      },
      "source": [
        "d= np.array([[[1,2,8],[3,4,8],[1,1,1]],[[5,6,8],[7,8,9],[2,2,2]], [[5,6,8],[7,8,9],[2,2,2]], [[5,6,8],[7,8,9],[2,2,2]]]) # 4D array\n",
        "print(d.shape, d.ndim, d.size)"
      ],
      "execution_count": null,
      "outputs": [
        {
          "output_type": "stream",
          "name": "stdout",
          "text": [
            "(4, 3, 3) 3 36\n"
          ]
        }
      ]
    },
    {
      "cell_type": "code",
      "metadata": {
        "colab": {
          "base_uri": "https://localhost:8080/"
        },
        "id": "hAdVEXNQqVSP",
        "outputId": "023d5862-fe7a-4b2e-841c-a252a266edee"
      },
      "source": [
        "e= np.zeros(7)\n",
        "print(\"e=\",e)\n",
        "f= np.zeros((2,4), dtype=int)\n",
        "print(\"f\",f)"
      ],
      "execution_count": null,
      "outputs": [
        {
          "output_type": "stream",
          "name": "stdout",
          "text": [
            "e= [0. 0. 0. 0. 0. 0. 0.]\n",
            "f [[0 0 0 0]\n",
            " [0 0 0 0]]\n"
          ]
        }
      ]
    },
    {
      "cell_type": "code",
      "metadata": {
        "colab": {
          "base_uri": "https://localhost:8080/"
        },
        "id": "S5QSLK4vrzNm",
        "outputId": "1dfe7f4e-8f47-41eb-a20f-c630082dcba8"
      },
      "source": [
        "g= np.ones((3,4,3), dtype=int)\n",
        "print(g)"
      ],
      "execution_count": null,
      "outputs": [
        {
          "output_type": "stream",
          "name": "stdout",
          "text": [
            "[[[1 1 1]\n",
            "  [1 1 1]\n",
            "  [1 1 1]\n",
            "  [1 1 1]]\n",
            "\n",
            " [[1 1 1]\n",
            "  [1 1 1]\n",
            "  [1 1 1]\n",
            "  [1 1 1]]\n",
            "\n",
            " [[1 1 1]\n",
            "  [1 1 1]\n",
            "  [1 1 1]\n",
            "  [1 1 1]]]\n"
          ]
        }
      ]
    },
    {
      "cell_type": "markdown",
      "metadata": {
        "id": "aBHv4vj6jVtA"
      },
      "source": [
        "Generating random numbers using random in numpy"
      ]
    },
    {
      "cell_type": "code",
      "metadata": {
        "colab": {
          "base_uri": "https://localhost:8080/"
        },
        "id": "_G3MSZmejSuK",
        "outputId": "f318fb88-d19f-4721-a37e-adb0c6384421"
      },
      "source": [
        "# generate random numbers\n",
        "import numpy as np\n",
        "\n",
        "a= np.random.randint(10,100)\n",
        "print(a)"
      ],
      "execution_count": null,
      "outputs": [
        {
          "output_type": "stream",
          "name": "stdout",
          "text": [
            "95\n"
          ]
        }
      ]
    },
    {
      "cell_type": "code",
      "metadata": {
        "colab": {
          "base_uri": "https://localhost:8080/"
        },
        "id": "BMhbyl5xjxEz",
        "outputId": "3e1b9ebd-12d5-48f2-d8c7-1af7cebf1dc6"
      },
      "source": [
        "from numpy import random\n",
        "b=random.randint(10,100, size=5)\n",
        "print(b)"
      ],
      "execution_count": null,
      "outputs": [
        {
          "output_type": "stream",
          "name": "stdout",
          "text": [
            "[47 94 23 17 24]\n"
          ]
        }
      ]
    },
    {
      "cell_type": "code",
      "metadata": {
        "colab": {
          "base_uri": "https://localhost:8080/"
        },
        "id": "ypOr5LRUkba4",
        "outputId": "cb0f25a6-b8db-4266-819f-fa0e994b5b75"
      },
      "source": [
        "#Generate array of random integers\n",
        "from numpy import random\n",
        "c= random.randint(1,9, size= (2,4))\n",
        "print(c)\n"
      ],
      "execution_count": null,
      "outputs": [
        {
          "output_type": "stream",
          "name": "stdout",
          "text": [
            "[[4 3 6 1]\n",
            " [4 5 5 6]]\n"
          ]
        }
      ]
    },
    {
      "cell_type": "code",
      "metadata": {
        "colab": {
          "base_uri": "https://localhost:8080/"
        },
        "id": "1WvsU5CKlB1Z",
        "outputId": "36b81d3b-9e27-4217-8618-865f74bd8d99"
      },
      "source": [
        "d= random.randint(11,19,size= (2,4))\n",
        "print(d)"
      ],
      "execution_count": null,
      "outputs": [
        {
          "output_type": "stream",
          "name": "stdout",
          "text": [
            "[[11 18 15 15]\n",
            " [18 17 14 12]]\n"
          ]
        }
      ]
    },
    {
      "cell_type": "code",
      "metadata": {
        "colab": {
          "base_uri": "https://localhost:8080/"
        },
        "id": "VQDLauU0lcIO",
        "outputId": "7b0e44d0-ec5e-4bc1-cf79-4bce5f143934"
      },
      "source": [
        "#np.subtract, np.multiply, np.add\n",
        "e= np.add(c,d)\n",
        "print(e)\n",
        "\n",
        "f= np.subtract(c,d)\n",
        "print(f)\n",
        "g= np.multiply(c,d)\n",
        "print(g)"
      ],
      "execution_count": 71,
      "outputs": [
        {
          "output_type": "stream",
          "name": "stdout",
          "text": [
            "[[15 21 21 16]\n",
            " [22 22 19 18]]\n",
            "[[ -7 -15  -9 -14]\n",
            " [-14 -12  -9  -6]]\n",
            "[[44 54 90 15]\n",
            " [72 85 70 72]]\n"
          ]
        }
      ]
    },
    {
      "cell_type": "code",
      "metadata": {
        "id": "8nYc9JlvmtAG",
        "colab": {
          "base_uri": "https://localhost:8080/"
        },
        "outputId": "716d6b6c-27a5-43ff-add8-31786af975b3"
      },
      "source": [
        "#np.dot\n",
        "\n",
        "h= np.random.randint(1,5,size=(2,3))\n",
        "i= np.random.randint(1,5, size=(3,4))\n",
        "j= np.dot(h,i)\n",
        "print(j)"
      ],
      "execution_count": 74,
      "outputs": [
        {
          "output_type": "stream",
          "name": "stdout",
          "text": [
            "[[17  9 11 12]\n",
            " [34 18 22 24]]\n"
          ]
        }
      ]
    },
    {
      "cell_type": "code",
      "metadata": {
        "id": "iQxQVaSwtV1f"
      },
      "source": [
        ""
      ],
      "execution_count": null,
      "outputs": []
    },
    {
      "cell_type": "markdown",
      "metadata": {
        "id": "NfkS1BE1myld"
      },
      "source": [
        "Indexing "
      ]
    },
    {
      "cell_type": "code",
      "metadata": {
        "colab": {
          "base_uri": "https://localhost:8080/"
        },
        "id": "UgCg5bMym1nJ",
        "outputId": "5603d102-2380-4285-a697-07fd3a442b76"
      },
      "source": [
        "from numpy import random\n",
        "\n",
        "z= random.randint(0,100,size=[10,10]) #Generate random integers array\n",
        "print(z)"
      ],
      "execution_count": null,
      "outputs": [
        {
          "output_type": "stream",
          "name": "stdout",
          "text": [
            "[[31  9  0 35 37  0 23 89 79 58]\n",
            " [80 43 58 41 21 27 91 24 18 74]\n",
            " [32 25 59 94 54 36 11 31 57 73]\n",
            " [83 11  3  8  1 88 34 79  7 60]\n",
            " [28 85 79 78  9 88 31 89 51 94]\n",
            " [90 15 65 65 31 21 97 29 69 93]\n",
            " [21 46 52 13 42 17 67 75  4 81]\n",
            " [68 81 38 74 92 48 27 20 79 23]\n",
            " [88 48 36 30 23 62 90 98  4 63]\n",
            " [63 64 93 93 53 99 97 29 71 41]]\n"
          ]
        }
      ]
    },
    {
      "cell_type": "code",
      "metadata": {
        "colab": {
          "base_uri": "https://localhost:8080/"
        },
        "id": "LXitSBWmnGr9",
        "outputId": "75670801-f531-4a4a-8eb0-6ae381edcffd"
      },
      "source": [
        "print(z[0,0]) #print the top left corner element"
      ],
      "execution_count": null,
      "outputs": [
        {
          "output_type": "stream",
          "name": "stdout",
          "text": [
            "31\n"
          ]
        }
      ]
    },
    {
      "cell_type": "code",
      "metadata": {
        "id": "d56qu7F4nP1l"
      },
      "source": [
        "print(z[9,:])"
      ],
      "execution_count": null,
      "outputs": []
    },
    {
      "cell_type": "code",
      "metadata": {
        "colab": {
          "base_uri": "https://localhost:8080/"
        },
        "id": "XAbNV2KmncNf",
        "outputId": "f54e652f-7030-4c23-bf65-ad2dd5153fb6"
      },
      "source": [
        "a= z[0:3,0:3]\n",
        "print(a)"
      ],
      "execution_count": null,
      "outputs": [
        {
          "output_type": "stream",
          "name": "stdout",
          "text": [
            "[[31  9  0]\n",
            " [80 43 58]\n",
            " [32 25 59]]\n"
          ]
        }
      ]
    },
    {
      "cell_type": "code",
      "metadata": {
        "colab": {
          "base_uri": "https://localhost:8080/"
        },
        "id": "LXCuspCUo4bV",
        "outputId": "c458d75d-b371-4d54-f40d-f4e9291c9b40"
      },
      "source": [
        "for x in a:\n",
        "  print(x)"
      ],
      "execution_count": null,
      "outputs": [
        {
          "output_type": "stream",
          "name": "stdout",
          "text": [
            "[31  9  0]\n",
            "[80 43 58]\n",
            "[32 25 59]\n"
          ]
        }
      ]
    },
    {
      "cell_type": "code",
      "metadata": {
        "colab": {
          "base_uri": "https://localhost:8080/"
        },
        "id": "8uGzJxpNpHn1",
        "outputId": "52d2812c-26c4-414c-8823-d3b33e31c311"
      },
      "source": [
        "for x in a:\n",
        "  for y in x:\n",
        "    print(y)"
      ],
      "execution_count": null,
      "outputs": [
        {
          "output_type": "stream",
          "name": "stdout",
          "text": [
            "31\n",
            "9\n",
            "0\n",
            "80\n",
            "43\n",
            "58\n",
            "32\n",
            "25\n",
            "59\n"
          ]
        }
      ]
    },
    {
      "cell_type": "code",
      "metadata": {
        "colab": {
          "base_uri": "https://localhost:8080/"
        },
        "id": "Qcnc9dhUps_W",
        "outputId": "3ddd76d3-8dac-4926-82f1-17e4ba174cc1"
      },
      "source": [
        "b=np.transpose(a)\n",
        "print(b)"
      ],
      "execution_count": null,
      "outputs": [
        {
          "output_type": "stream",
          "name": "stdout",
          "text": [
            "[[31 80 32]\n",
            " [ 9 43 25]\n",
            " [ 0 58 59]]\n"
          ]
        }
      ]
    },
    {
      "cell_type": "code",
      "metadata": {
        "colab": {
          "base_uri": "https://localhost:8080/"
        },
        "id": "3SNkzf02rTv4",
        "outputId": "c90f63c9-d851-480e-eb10-73a67f0a2754"
      },
      "source": [
        "r= np.rot90(b)\n",
        "print(r)"
      ],
      "execution_count": null,
      "outputs": [
        {
          "output_type": "stream",
          "name": "stdout",
          "text": [
            "[[32 25 59]\n",
            " [80 43 58]\n",
            " [31  9  0]]\n"
          ]
        }
      ]
    },
    {
      "cell_type": "code",
      "metadata": {
        "colab": {
          "base_uri": "https://localhost:8080/"
        },
        "id": "Zvyp5nQTomxW",
        "outputId": "22a22853-95e5-40e9-846d-d8d8ad8d3c76"
      },
      "source": [
        "print(z[:])"
      ],
      "execution_count": null,
      "outputs": [
        {
          "output_type": "stream",
          "name": "stdout",
          "text": [
            "[[31  9  0 35 37  0 23 89 79 58]\n",
            " [80 43 58 41 21 27 91 24 18 74]\n",
            " [32 25 59 94 54 36 11 31 57 73]\n",
            " [83 11  3  8  1 88 34 79  7 60]\n",
            " [28 85 79 78  9 88 31 89 51 94]\n",
            " [90 15 65 65 31 21 97 29 69 93]\n",
            " [21 46 52 13 42 17 67 75  4 81]\n",
            " [68 81 38 74 92 48 27 20 79 23]\n",
            " [88 48 36 30 23 62 90 98  4 63]\n",
            " [63 64 93 93 53 99 97 29 71 41]]\n"
          ]
        }
      ]
    },
    {
      "cell_type": "code",
      "metadata": {
        "colab": {
          "base_uri": "https://localhost:8080/"
        },
        "id": "VwMXE08Jkbkf",
        "outputId": "1af0380a-aeed-4ca5-852c-d252e637f6f5"
      },
      "source": [
        "d= random.rand(1,2)\n",
        "print(d)"
      ],
      "execution_count": null,
      "outputs": [
        {
          "output_type": "stream",
          "name": "stdout",
          "text": [
            "[[0.98513372 0.16761484]]\n"
          ]
        }
      ]
    },
    {
      "cell_type": "code",
      "metadata": {
        "id": "G73f9aQ5qGI_"
      },
      "source": [
        "x= np.empty((4,4),dtype=int)"
      ],
      "execution_count": null,
      "outputs": []
    },
    {
      "cell_type": "code",
      "metadata": {
        "id": "z7E5WRnyuJlu"
      },
      "source": [
        "z= np.eye(4)"
      ],
      "execution_count": null,
      "outputs": []
    },
    {
      "cell_type": "code",
      "metadata": {
        "id": "OSjIYZDvuMns"
      },
      "source": [
        "i= np.rot90(z)"
      ],
      "execution_count": null,
      "outputs": []
    }
  ]
}