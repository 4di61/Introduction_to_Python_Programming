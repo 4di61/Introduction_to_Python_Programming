{
  "nbformat": 4,
  "nbformat_minor": 0,
  "metadata": {
    "colab": {
      "name": "Unit7.2_Pandas.ipynb",
      "provenance": [],
      "authorship_tag": "ABX9TyPuaaOXabW6NVujhDmJ4WiQ",
      "include_colab_link": true
    },
    "kernelspec": {
      "name": "python3",
      "display_name": "Python 3"
    },
    "language_info": {
      "name": "python"
    }
  },
  "cells": [
    {
      "cell_type": "markdown",
      "metadata": {
        "id": "view-in-github",
        "colab_type": "text"
      },
      "source": [
        "<a href=\"https://colab.research.google.com/github/AmiMunshi/Introduction_to_Python_Programming/blob/main/Unit7_2_Pandas.ipynb\" target=\"_parent\"><img src=\"https://colab.research.google.com/assets/colab-badge.svg\" alt=\"Open In Colab\"/></a>"
      ]
    },
    {
      "cell_type": "markdown",
      "metadata": {
        "id": "UwLf3WWwfCVc"
      },
      "source": [
        "\n",
        "Pandas\n",
        "\n",
        "Pandas is an open-source library \n",
        "\n",
        "Provides high-performance data structure\n",
        "\n",
        "It is easy-to-use data structures and data analysis tools for the Python programming language. \n",
        "\n",
        "Python with Pandas is used in a wide range of fields including academic and commercial domains including finance, economics, Statistics, analytics, etc.\n"
      ]
    },
    {
      "cell_type": "code",
      "metadata": {
        "id": "uhHy2P9P9si4"
      },
      "source": [
        "import pandas as pd"
      ],
      "execution_count": null,
      "outputs": []
    },
    {
      "cell_type": "code",
      "metadata": {
        "colab": {
          "base_uri": "https://localhost:8080/"
        },
        "id": "v7_8b9jkjSkM",
        "outputId": "7ec3493e-67e1-4653-e695-635b26ff8fa4"
      },
      "source": [
        "series1= pd.Series([1.5, 2.5, 3.5, 4.5])\n",
        "print(series1)"
      ],
      "execution_count": null,
      "outputs": [
        {
          "output_type": "stream",
          "name": "stdout",
          "text": [
            "0    1.5\n",
            "1    2.5\n",
            "2    3.5\n",
            "3    4.5\n",
            "dtype: float64\n"
          ]
        }
      ]
    },
    {
      "cell_type": "code",
      "metadata": {
        "id": "rULLhIw4j0vq"
      },
      "source": [
        "series2=pd.Series([\"A\", \"B\", \"C\", \"D\"])"
      ],
      "execution_count": null,
      "outputs": []
    },
    {
      "cell_type": "code",
      "metadata": {
        "colab": {
          "base_uri": "https://localhost:8080/"
        },
        "id": "OCUZft5-kkI8",
        "outputId": "3091861d-dd32-418a-d618-7dbfbde2e92d"
      },
      "source": [
        "data= pd.DataFrame({\"Name\": series2, \"Number\": series1})\n",
        "print(data)"
      ],
      "execution_count": null,
      "outputs": [
        {
          "output_type": "stream",
          "name": "stdout",
          "text": [
            "  Name  Number\n",
            "0    A     1.5\n",
            "1    B     2.5\n",
            "2    C     3.5\n",
            "3    D     4.5\n"
          ]
        }
      ]
    },
    {
      "cell_type": "code",
      "metadata": {
        "id": "eswYAvnpk1nz"
      },
      "source": [
        "import pandas as pd\n",
        "\n",
        "name= [\"Alpha\", \"Beta\", \"Gama\", \"Zeta\"]\n",
        "age= [20, 23, 21, 22]\n",
        "country= [\"India\", \"US\", \"Japan\", \"Australia\"]\n"
      ],
      "execution_count": null,
      "outputs": []
    },
    {
      "cell_type": "code",
      "metadata": {
        "id": "9V0HCVaLmCl0"
      },
      "source": [
        "#Create a dataframe from lists\n",
        "\n",
        "student= pd.DataFrame(name, columns=[\"Name\"])\n",
        "print(student)"
      ],
      "execution_count": null,
      "outputs": []
    },
    {
      "cell_type": "code",
      "metadata": {
        "colab": {
          "base_uri": "https://localhost:8080/"
        },
        "id": "trZS8u_VmSbz",
        "outputId": "26f8cbf7-6a03-4ef4-830e-45f39d3fe4e5"
      },
      "source": [
        "#Adding column to the data frame\n",
        "student[\"Age\"]= age\n",
        "print(student)"
      ],
      "execution_count": null,
      "outputs": [
        {
          "output_type": "stream",
          "name": "stdout",
          "text": [
            "    Name  Age\n",
            "0  Alpha   20\n",
            "1   Beta   23\n",
            "2   Gama   21\n",
            "3   Zeta   22\n"
          ]
        }
      ]
    },
    {
      "cell_type": "code",
      "metadata": {
        "colab": {
          "base_uri": "https://localhost:8080/"
        },
        "id": "08DoDPwtmnVb",
        "outputId": "b5629f99-e292-4b90-dd39-8dd66dc046d9"
      },
      "source": [
        "#Adding column to the data frame\n",
        "student[\"Country\"]=country\n",
        "print(student)"
      ],
      "execution_count": null,
      "outputs": [
        {
          "output_type": "stream",
          "name": "stdout",
          "text": [
            "    Name  Age    Country\n",
            "0  Alpha   20      India\n",
            "1   Beta   23         US\n",
            "2   Gama   21      Japan\n",
            "3   Zeta   22  Australia\n"
          ]
        }
      ]
    },
    {
      "cell_type": "code",
      "metadata": {
        "colab": {
          "base_uri": "https://localhost:8080/"
        },
        "id": "4ELjuup5nDqD",
        "outputId": "e9a8bf88-10fd-40fb-c5f8-d7aaa839d6cc"
      },
      "source": [
        "#Creating dataframes from lists using zip()\n",
        "\n",
        "student_new= list(zip(name, age, country))\n",
        "student_data= pd.DataFrame(student_new, columns= [\"Name\", \"Age\", \"Country\"])\n",
        "print(student_data)"
      ],
      "execution_count": null,
      "outputs": [
        {
          "output_type": "stream",
          "name": "stdout",
          "text": [
            "    Name  Age    Country\n",
            "0  Alpha   20      India\n",
            "1   Beta   23         US\n",
            "2   Gama   21      Japan\n",
            "3   Zeta   22  Australia\n"
          ]
        }
      ]
    },
    {
      "cell_type": "code",
      "metadata": {
        "colab": {
          "base_uri": "https://localhost:8080/"
        },
        "id": "DqjxqFzs6pf_",
        "outputId": "f44bfc35-3636-4aa9-d3e3-07c8cad8d1dd"
      },
      "source": [
        "#Displaying the entries with age greater than 21 in student_data- Filtering\n",
        "\n",
        "student_filtered = student_data[student_data[\"Age\"] > 21] \n",
        "print(student_filtered)\n"
      ],
      "execution_count": null,
      "outputs": [
        {
          "output_type": "stream",
          "name": "stdout",
          "text": [
            "   Name  Age    Country\n",
            "1  Beta   23         US\n",
            "3  Zeta   22  Australia\n"
          ]
        }
      ]
    },
    {
      "cell_type": "code",
      "metadata": {
        "colab": {
          "base_uri": "https://localhost:8080/"
        },
        "id": "bLtXD0YU8A7Z",
        "outputId": "b8d2e468-35ae-46b6-e9a3-03048f13dafc"
      },
      "source": [
        "#Displaying the entries with age greater than 21 in student_data- Filtering using loc\n",
        "\n",
        "students_filtered_new= student_data.loc[student_data[\"Age\"]>21]\n",
        "print(students_filtered_new)\n"
      ],
      "execution_count": null,
      "outputs": [
        {
          "output_type": "stream",
          "name": "stdout",
          "text": [
            "   Name  Age    Country\n",
            "1  Beta   23         US\n",
            "3  Zeta   22  Australia\n"
          ]
        }
      ]
    },
    {
      "cell_type": "code",
      "metadata": {
        "id": "4fbsvYwcoTdc"
      },
      "source": [
        "student_data.set_index(\"Name\")"
      ],
      "execution_count": null,
      "outputs": []
    },
    {
      "cell_type": "code",
      "metadata": {
        "id": "eJUkW1qrn3xy"
      },
      "source": [
        "#Printing all the age greater than 21\n",
        "for n in student[\"Age\"]:\n",
        "  if n>21:\n",
        "    print(n)"
      ],
      "execution_count": null,
      "outputs": []
    },
    {
      "cell_type": "code",
      "metadata": {
        "id": "2xy2Qg-a6fHH"
      },
      "source": [
        ""
      ],
      "execution_count": null,
      "outputs": []
    },
    {
      "cell_type": "markdown",
      "metadata": {
        "id": "qWnvCuPFpIEP"
      },
      "source": [
        "pandas.pydata.org/Pandas_Cheat_Sheet.pdf"
      ]
    },
    {
      "cell_type": "code",
      "metadata": {
        "colab": {
          "base_uri": "https://localhost:8080/"
        },
        "id": "mYZDvwyso9z7",
        "outputId": "e7b35269-60b3-4369-c050-36e7dfd854cb"
      },
      "source": [
        "# Create dataframe using Dictionary\n",
        "\n",
        "import pandas as pd\n",
        "\n",
        "class_info= {\"Name\": [\"Ram\", \"Lakshman\", \"Bharat\", \"Shatrughna\"], \"Roll Number\": [5,7,9,10]} #dictionary created\n",
        "\n",
        "class_df= pd.DataFrame(class_info) #create dataframe from a dictionary\n",
        "\n",
        "print(class_df)"
      ],
      "execution_count": null,
      "outputs": [
        {
          "output_type": "stream",
          "name": "stdout",
          "text": [
            "         Name  Roll Number\n",
            "0         Ram            5\n",
            "1    Lakshman            7\n",
            "2      Bharat            9\n",
            "3  Shatrughna           10\n"
          ]
        }
      ]
    },
    {
      "cell_type": "code",
      "metadata": {
        "colab": {
          "base_uri": "https://localhost:8080/"
        },
        "id": "VQuVPmQup_jH",
        "outputId": "bd665a95-d575-4363-8943-656889ee89aa"
      },
      "source": [
        "class_copy= class_df.copy() #copy of the original dataframe created\n",
        "class_copy= class_copy.set_index(\"Roll Number\")\n",
        "print(class_copy)"
      ],
      "execution_count": null,
      "outputs": [
        {
          "output_type": "stream",
          "name": "stdout",
          "text": [
            "                   Name\n",
            "Roll Number            \n",
            "5                   Ram\n",
            "7              Lakshman\n",
            "9                Bharat\n",
            "10           Shatrughna\n"
          ]
        }
      ]
    },
    {
      "cell_type": "code",
      "metadata": {
        "colab": {
          "base_uri": "https://localhost:8080/"
        },
        "id": "XxfIv9s6qcOO",
        "outputId": "65264001-e80a-48f4-b9f8-753c07686bc8"
      },
      "source": [
        "class_copy[\"Marks\"]= [73,64,89,78]\n",
        "class_copy[\"House\"]= [\"Green\", \"Blue\", \"Yellow\", \"Red\"]\n",
        "print(class_copy)"
      ],
      "execution_count": null,
      "outputs": [
        {
          "output_type": "stream",
          "name": "stdout",
          "text": [
            "                   Name  Marks   House\n",
            "Roll Number                           \n",
            "5                   Ram     73   Green\n",
            "7              Lakshman     64    Blue\n",
            "9                Bharat     89  Yellow\n",
            "10           Shatrughna     78     Red\n"
          ]
        }
      ]
    },
    {
      "cell_type": "code",
      "metadata": {
        "id": "Ypx5dPOEsMqo"
      },
      "source": [
        "class_copy.loc[7] #Retrieve all the information at index 7"
      ],
      "execution_count": null,
      "outputs": []
    },
    {
      "cell_type": "code",
      "metadata": {
        "id": "DCyxx-WdsZCv"
      },
      "source": [
        "class_copy.loc[7:9, \"Marks\":\"House\"] #Retrieve only marks at index 7"
      ],
      "execution_count": null,
      "outputs": []
    },
    {
      "cell_type": "code",
      "metadata": {
        "id": "LC-TNGBmsn0_"
      },
      "source": [
        "class_copy.iloc[2] #All the data in row 2 will be displayed"
      ],
      "execution_count": null,
      "outputs": []
    },
    {
      "cell_type": "code",
      "metadata": {
        "id": "rL4dnExXtAiI"
      },
      "source": [
        "class_copy.iloc[2,2] #Retrieve element in 2nd row and 2nd column"
      ],
      "execution_count": null,
      "outputs": []
    },
    {
      "cell_type": "code",
      "metadata": {
        "id": "6UdOplVDt4Qq"
      },
      "source": [
        "sub=class_copy.iloc[1:3,0:2] #New data frame with elements in rows 1 and 2 and columns 0 and 1\n",
        "print(sub)"
      ],
      "execution_count": null,
      "outputs": []
    },
    {
      "cell_type": "code",
      "metadata": {
        "id": "UYvVuRqhtmRv"
      },
      "source": [
        "class_copy.at[7,\"Marks\"]\n"
      ],
      "execution_count": null,
      "outputs": []
    },
    {
      "cell_type": "code",
      "metadata": {
        "id": "u6X8xATLvJfh"
      },
      "source": [
        "class_copy.loc[7,\"Marks\"]"
      ],
      "execution_count": null,
      "outputs": []
    },
    {
      "cell_type": "code",
      "metadata": {
        "id": "mbL1l5ogv14h"
      },
      "source": [
        "#Write data frame in csv\n",
        "class_copy.to_csv(\"class.csv\")"
      ],
      "execution_count": null,
      "outputs": []
    },
    {
      "cell_type": "code",
      "metadata": {
        "colab": {
          "base_uri": "https://localhost:8080/",
          "height": 203
        },
        "id": "O3rBq83sdR-X",
        "outputId": "3f59a39f-a4f3-4518-8024-527aedcad723"
      },
      "source": [
        "#Read csv file\n",
        "\n",
        "new_class= pd.read_csv(\"class.csv\", index_col=0)\n",
        "new_class"
      ],
      "execution_count": null,
      "outputs": [
        {
          "output_type": "execute_result",
          "data": {
            "text/html": [
              "<div>\n",
              "<style scoped>\n",
              "    .dataframe tbody tr th:only-of-type {\n",
              "        vertical-align: middle;\n",
              "    }\n",
              "\n",
              "    .dataframe tbody tr th {\n",
              "        vertical-align: top;\n",
              "    }\n",
              "\n",
              "    .dataframe thead th {\n",
              "        text-align: right;\n",
              "    }\n",
              "</style>\n",
              "<table border=\"1\" class=\"dataframe\">\n",
              "  <thead>\n",
              "    <tr style=\"text-align: right;\">\n",
              "      <th></th>\n",
              "      <th>Name</th>\n",
              "      <th>Marks</th>\n",
              "      <th>House</th>\n",
              "    </tr>\n",
              "    <tr>\n",
              "      <th>Roll Number</th>\n",
              "      <th></th>\n",
              "      <th></th>\n",
              "      <th></th>\n",
              "    </tr>\n",
              "  </thead>\n",
              "  <tbody>\n",
              "    <tr>\n",
              "      <th>5</th>\n",
              "      <td>Ram</td>\n",
              "      <td>73</td>\n",
              "      <td>Green</td>\n",
              "    </tr>\n",
              "    <tr>\n",
              "      <th>7</th>\n",
              "      <td>Lakshman</td>\n",
              "      <td>64</td>\n",
              "      <td>Blue</td>\n",
              "    </tr>\n",
              "    <tr>\n",
              "      <th>9</th>\n",
              "      <td>Bharat</td>\n",
              "      <td>89</td>\n",
              "      <td>Yellow</td>\n",
              "    </tr>\n",
              "    <tr>\n",
              "      <th>10</th>\n",
              "      <td>Shatrughna</td>\n",
              "      <td>78</td>\n",
              "      <td>Red</td>\n",
              "    </tr>\n",
              "  </tbody>\n",
              "</table>\n",
              "</div>"
            ],
            "text/plain": [
              "                   Name  Marks   House\n",
              "Roll Number                           \n",
              "5                   Ram     73   Green\n",
              "7              Lakshman     64    Blue\n",
              "9                Bharat     89  Yellow\n",
              "10           Shatrughna     78     Red"
            ]
          },
          "metadata": {},
          "execution_count": 30
        }
      ]
    },
    {
      "cell_type": "code",
      "metadata": {
        "colab": {
          "base_uri": "https://localhost:8080/",
          "height": 172
        },
        "id": "lxgiCoTLdflz",
        "outputId": "d21bbec9-7a8f-4a38-b41f-d3d1c6025147"
      },
      "source": [
        "dict2= {\"Name\":['Ram', \"Lakshman\", \"Bharat\", \"Hanuman\"], \"Sport\": [\"Cricket\", \"Tennis\", \"Badminton\", \"Basketball\"]} #Define a new dictionary\n",
        "\n",
        "#Convert this dictionary to data frame\n",
        "\n",
        "new_class1= pd.DataFrame(dict2)\n",
        "new_class1\n"
      ],
      "execution_count": null,
      "outputs": [
        {
          "output_type": "execute_result",
          "data": {
            "text/html": [
              "<div>\n",
              "<style scoped>\n",
              "    .dataframe tbody tr th:only-of-type {\n",
              "        vertical-align: middle;\n",
              "    }\n",
              "\n",
              "    .dataframe tbody tr th {\n",
              "        vertical-align: top;\n",
              "    }\n",
              "\n",
              "    .dataframe thead th {\n",
              "        text-align: right;\n",
              "    }\n",
              "</style>\n",
              "<table border=\"1\" class=\"dataframe\">\n",
              "  <thead>\n",
              "    <tr style=\"text-align: right;\">\n",
              "      <th></th>\n",
              "      <th>Name</th>\n",
              "      <th>Sport</th>\n",
              "    </tr>\n",
              "  </thead>\n",
              "  <tbody>\n",
              "    <tr>\n",
              "      <th>0</th>\n",
              "      <td>Ram</td>\n",
              "      <td>Cricket</td>\n",
              "    </tr>\n",
              "    <tr>\n",
              "      <th>1</th>\n",
              "      <td>Lakshman</td>\n",
              "      <td>Tennis</td>\n",
              "    </tr>\n",
              "    <tr>\n",
              "      <th>2</th>\n",
              "      <td>Bharat</td>\n",
              "      <td>Badminton</td>\n",
              "    </tr>\n",
              "    <tr>\n",
              "      <th>3</th>\n",
              "      <td>Hanuman</td>\n",
              "      <td>Basketball</td>\n",
              "    </tr>\n",
              "  </tbody>\n",
              "</table>\n",
              "</div>"
            ],
            "text/plain": [
              "       Name       Sport\n",
              "0       Ram     Cricket\n",
              "1  Lakshman      Tennis\n",
              "2    Bharat   Badminton\n",
              "3   Hanuman  Basketball"
            ]
          },
          "metadata": {},
          "execution_count": 64
        }
      ]
    },
    {
      "cell_type": "code",
      "metadata": {
        "colab": {
          "base_uri": "https://localhost:8080/",
          "height": 142
        },
        "id": "25RfXFK1eqi1",
        "outputId": "f4b54867-b3bd-41c1-8d69-c8196a7919b9"
      },
      "source": [
        "new= pd.merge(new_class, new_class1, how= \"inner\")\n",
        "new"
      ],
      "execution_count": null,
      "outputs": [
        {
          "output_type": "execute_result",
          "data": {
            "text/html": [
              "<div>\n",
              "<style scoped>\n",
              "    .dataframe tbody tr th:only-of-type {\n",
              "        vertical-align: middle;\n",
              "    }\n",
              "\n",
              "    .dataframe tbody tr th {\n",
              "        vertical-align: top;\n",
              "    }\n",
              "\n",
              "    .dataframe thead th {\n",
              "        text-align: right;\n",
              "    }\n",
              "</style>\n",
              "<table border=\"1\" class=\"dataframe\">\n",
              "  <thead>\n",
              "    <tr style=\"text-align: right;\">\n",
              "      <th></th>\n",
              "      <th>Name</th>\n",
              "      <th>Marks</th>\n",
              "      <th>House</th>\n",
              "      <th>Sport</th>\n",
              "    </tr>\n",
              "  </thead>\n",
              "  <tbody>\n",
              "    <tr>\n",
              "      <th>0</th>\n",
              "      <td>Ram</td>\n",
              "      <td>73</td>\n",
              "      <td>Green</td>\n",
              "      <td>Cricket</td>\n",
              "    </tr>\n",
              "    <tr>\n",
              "      <th>1</th>\n",
              "      <td>Lakshman</td>\n",
              "      <td>64</td>\n",
              "      <td>Blue</td>\n",
              "      <td>Tennis</td>\n",
              "    </tr>\n",
              "    <tr>\n",
              "      <th>2</th>\n",
              "      <td>Bharat</td>\n",
              "      <td>89</td>\n",
              "      <td>Yellow</td>\n",
              "      <td>Badminton</td>\n",
              "    </tr>\n",
              "  </tbody>\n",
              "</table>\n",
              "</div>"
            ],
            "text/plain": [
              "       Name  Marks   House      Sport\n",
              "0       Ram     73   Green    Cricket\n",
              "1  Lakshman     64    Blue     Tennis\n",
              "2    Bharat     89  Yellow  Badminton"
            ]
          },
          "metadata": {},
          "execution_count": 65
        }
      ]
    },
    {
      "cell_type": "code",
      "metadata": {
        "colab": {
          "base_uri": "https://localhost:8080/",
          "height": 203
        },
        "id": "VgUkaaIFfVaO",
        "outputId": "191da50d-a40c-4a03-e224-a1f1f15cecbf"
      },
      "source": [
        "new1= pd.merge(new_class, new_class1, how= \"outer\")\n",
        "new1"
      ],
      "execution_count": null,
      "outputs": [
        {
          "output_type": "execute_result",
          "data": {
            "text/html": [
              "<div>\n",
              "<style scoped>\n",
              "    .dataframe tbody tr th:only-of-type {\n",
              "        vertical-align: middle;\n",
              "    }\n",
              "\n",
              "    .dataframe tbody tr th {\n",
              "        vertical-align: top;\n",
              "    }\n",
              "\n",
              "    .dataframe thead th {\n",
              "        text-align: right;\n",
              "    }\n",
              "</style>\n",
              "<table border=\"1\" class=\"dataframe\">\n",
              "  <thead>\n",
              "    <tr style=\"text-align: right;\">\n",
              "      <th></th>\n",
              "      <th>Name</th>\n",
              "      <th>Marks</th>\n",
              "      <th>House</th>\n",
              "      <th>Sport</th>\n",
              "    </tr>\n",
              "  </thead>\n",
              "  <tbody>\n",
              "    <tr>\n",
              "      <th>0</th>\n",
              "      <td>Ram</td>\n",
              "      <td>73.0</td>\n",
              "      <td>Green</td>\n",
              "      <td>Cricket</td>\n",
              "    </tr>\n",
              "    <tr>\n",
              "      <th>1</th>\n",
              "      <td>Lakshman</td>\n",
              "      <td>64.0</td>\n",
              "      <td>Blue</td>\n",
              "      <td>Tennis</td>\n",
              "    </tr>\n",
              "    <tr>\n",
              "      <th>2</th>\n",
              "      <td>Bharat</td>\n",
              "      <td>89.0</td>\n",
              "      <td>Yellow</td>\n",
              "      <td>Badminton</td>\n",
              "    </tr>\n",
              "    <tr>\n",
              "      <th>3</th>\n",
              "      <td>Shatrughna</td>\n",
              "      <td>78.0</td>\n",
              "      <td>Red</td>\n",
              "      <td>NaN</td>\n",
              "    </tr>\n",
              "    <tr>\n",
              "      <th>4</th>\n",
              "      <td>Hanuman</td>\n",
              "      <td>NaN</td>\n",
              "      <td>NaN</td>\n",
              "      <td>Basketball</td>\n",
              "    </tr>\n",
              "  </tbody>\n",
              "</table>\n",
              "</div>"
            ],
            "text/plain": [
              "         Name  Marks   House       Sport\n",
              "0         Ram   73.0   Green     Cricket\n",
              "1    Lakshman   64.0    Blue      Tennis\n",
              "2      Bharat   89.0  Yellow   Badminton\n",
              "3  Shatrughna   78.0     Red         NaN\n",
              "4     Hanuman    NaN     NaN  Basketball"
            ]
          },
          "metadata": {},
          "execution_count": 66
        }
      ]
    },
    {
      "cell_type": "code",
      "metadata": {
        "id": "30-DK3a3jj8a"
      },
      "source": [
        "df= new1.dropna()\n"
      ],
      "execution_count": null,
      "outputs": []
    },
    {
      "cell_type": "code",
      "metadata": {
        "id": "5ofn3YCPjpR-",
        "colab": {
          "base_uri": "https://localhost:8080/"
        },
        "outputId": "98c22927-680e-43e4-d35a-5088e90d9c68"
      },
      "source": [
        "print(df)"
      ],
      "execution_count": null,
      "outputs": [
        {
          "output_type": "stream",
          "name": "stdout",
          "text": [
            "       Name  Marks   House      Sport\n",
            "0       Ram   73.0   Green    Cricket\n",
            "1  Lakshman   64.0    Blue     Tennis\n",
            "2    Bharat   89.0  Yellow  Badminton\n"
          ]
        }
      ]
    },
    {
      "cell_type": "code",
      "metadata": {
        "colab": {
          "base_uri": "https://localhost:8080/"
        },
        "id": "lLSwFugTfvuL",
        "outputId": "4d194db9-1726-4bc0-9deb-49fd964d4384"
      },
      "source": [
        "#using isNull() to find the missing values\n",
        "new1[\"Sport\"].isnull()"
      ],
      "execution_count": null,
      "outputs": [
        {
          "output_type": "execute_result",
          "data": {
            "text/plain": [
              "0    False\n",
              "1    False\n",
              "2    False\n",
              "3     True\n",
              "4    False\n",
              "Name: Sport, dtype: bool"
            ]
          },
          "metadata": {},
          "execution_count": 53
        }
      ]
    },
    {
      "cell_type": "code",
      "metadata": {
        "colab": {
          "base_uri": "https://localhost:8080/"
        },
        "id": "DdtD3T-ghDnV",
        "outputId": "657f25a6-a708-4b23-cc83-404c9240b650"
      },
      "source": [
        "new1[\"Sport\"].notnull()"
      ],
      "execution_count": null,
      "outputs": [
        {
          "output_type": "execute_result",
          "data": {
            "text/plain": [
              "0     True\n",
              "1     True\n",
              "2     True\n",
              "3    False\n",
              "4     True\n",
              "Name: Sport, dtype: bool"
            ]
          },
          "metadata": {},
          "execution_count": 54
        }
      ]
    },
    {
      "cell_type": "code",
      "metadata": {
        "id": "eWA_t6yyhMcN"
      },
      "source": [
        "#filling the missing values using fillna()\n",
        "new1[\"Sport\"].fillna(\"Swimming\", inplace=True)"
      ],
      "execution_count": null,
      "outputs": []
    },
    {
      "cell_type": "code",
      "metadata": {
        "colab": {
          "base_uri": "https://localhost:8080/",
          "height": 203
        },
        "id": "x-813UOmhbwt",
        "outputId": "de544ed9-a036-411a-c2d6-bc444e256cea"
      },
      "source": [
        "new1"
      ],
      "execution_count": null,
      "outputs": [
        {
          "output_type": "execute_result",
          "data": {
            "text/html": [
              "<div>\n",
              "<style scoped>\n",
              "    .dataframe tbody tr th:only-of-type {\n",
              "        vertical-align: middle;\n",
              "    }\n",
              "\n",
              "    .dataframe tbody tr th {\n",
              "        vertical-align: top;\n",
              "    }\n",
              "\n",
              "    .dataframe thead th {\n",
              "        text-align: right;\n",
              "    }\n",
              "</style>\n",
              "<table border=\"1\" class=\"dataframe\">\n",
              "  <thead>\n",
              "    <tr style=\"text-align: right;\">\n",
              "      <th></th>\n",
              "      <th>Name</th>\n",
              "      <th>Marks</th>\n",
              "      <th>House</th>\n",
              "      <th>Sport</th>\n",
              "    </tr>\n",
              "  </thead>\n",
              "  <tbody>\n",
              "    <tr>\n",
              "      <th>0</th>\n",
              "      <td>Ram</td>\n",
              "      <td>73.0</td>\n",
              "      <td>Green</td>\n",
              "      <td>Cricket</td>\n",
              "    </tr>\n",
              "    <tr>\n",
              "      <th>1</th>\n",
              "      <td>Lakshman</td>\n",
              "      <td>64.0</td>\n",
              "      <td>Blue</td>\n",
              "      <td>Tennis</td>\n",
              "    </tr>\n",
              "    <tr>\n",
              "      <th>2</th>\n",
              "      <td>Bharat</td>\n",
              "      <td>89.0</td>\n",
              "      <td>Yellow</td>\n",
              "      <td>Badminton</td>\n",
              "    </tr>\n",
              "    <tr>\n",
              "      <th>3</th>\n",
              "      <td>Shatrughna</td>\n",
              "      <td>78.0</td>\n",
              "      <td>Red</td>\n",
              "      <td>Swimming</td>\n",
              "    </tr>\n",
              "    <tr>\n",
              "      <th>4</th>\n",
              "      <td>Hanuman</td>\n",
              "      <td>NaN</td>\n",
              "      <td>NaN</td>\n",
              "      <td>Basketball</td>\n",
              "    </tr>\n",
              "  </tbody>\n",
              "</table>\n",
              "</div>"
            ],
            "text/plain": [
              "         Name  Marks   House       Sport\n",
              "0         Ram   73.0   Green     Cricket\n",
              "1    Lakshman   64.0    Blue      Tennis\n",
              "2      Bharat   89.0  Yellow   Badminton\n",
              "3  Shatrughna   78.0     Red    Swimming\n",
              "4     Hanuman    NaN     NaN  Basketball"
            ]
          },
          "metadata": {},
          "execution_count": 59
        }
      ]
    },
    {
      "cell_type": "code",
      "metadata": {
        "id": "7tyh7I1eheN8"
      },
      "source": [
        "new1[\"Marks\"].fillna(method=\"pad\", inplace= True)"
      ],
      "execution_count": null,
      "outputs": []
    },
    {
      "cell_type": "code",
      "metadata": {
        "colab": {
          "base_uri": "https://localhost:8080/",
          "height": 203
        },
        "id": "cOokONpEioGD",
        "outputId": "7e21bcc3-cfc1-437a-ac64-f401ccc41929"
      },
      "source": [
        "new1"
      ],
      "execution_count": null,
      "outputs": [
        {
          "output_type": "execute_result",
          "data": {
            "text/html": [
              "<div>\n",
              "<style scoped>\n",
              "    .dataframe tbody tr th:only-of-type {\n",
              "        vertical-align: middle;\n",
              "    }\n",
              "\n",
              "    .dataframe tbody tr th {\n",
              "        vertical-align: top;\n",
              "    }\n",
              "\n",
              "    .dataframe thead th {\n",
              "        text-align: right;\n",
              "    }\n",
              "</style>\n",
              "<table border=\"1\" class=\"dataframe\">\n",
              "  <thead>\n",
              "    <tr style=\"text-align: right;\">\n",
              "      <th></th>\n",
              "      <th>Name</th>\n",
              "      <th>Marks</th>\n",
              "      <th>House</th>\n",
              "      <th>Sport</th>\n",
              "    </tr>\n",
              "  </thead>\n",
              "  <tbody>\n",
              "    <tr>\n",
              "      <th>0</th>\n",
              "      <td>Ram</td>\n",
              "      <td>73.0</td>\n",
              "      <td>Green</td>\n",
              "      <td>Cricket</td>\n",
              "    </tr>\n",
              "    <tr>\n",
              "      <th>1</th>\n",
              "      <td>Lakshman</td>\n",
              "      <td>64.0</td>\n",
              "      <td>Blue</td>\n",
              "      <td>Tennis</td>\n",
              "    </tr>\n",
              "    <tr>\n",
              "      <th>2</th>\n",
              "      <td>Bharat</td>\n",
              "      <td>89.0</td>\n",
              "      <td>Yellow</td>\n",
              "      <td>Badminton</td>\n",
              "    </tr>\n",
              "    <tr>\n",
              "      <th>3</th>\n",
              "      <td>Shatrughna</td>\n",
              "      <td>78.0</td>\n",
              "      <td>Red</td>\n",
              "      <td>Swimming</td>\n",
              "    </tr>\n",
              "    <tr>\n",
              "      <th>4</th>\n",
              "      <td>Hanuman</td>\n",
              "      <td>78.0</td>\n",
              "      <td>NaN</td>\n",
              "      <td>Basketball</td>\n",
              "    </tr>\n",
              "  </tbody>\n",
              "</table>\n",
              "</div>"
            ],
            "text/plain": [
              "         Name  Marks   House       Sport\n",
              "0         Ram   73.0   Green     Cricket\n",
              "1    Lakshman   64.0    Blue      Tennis\n",
              "2      Bharat   89.0  Yellow   Badminton\n",
              "3  Shatrughna   78.0     Red    Swimming\n",
              "4     Hanuman   78.0     NaN  Basketball"
            ]
          },
          "metadata": {},
          "execution_count": 61
        }
      ]
    },
    {
      "cell_type": "code",
      "metadata": {
        "id": "Z3Ex9bSaipqb"
      },
      "source": [
        "new1[\"House\"].fillna(method=\"ffill\", inplace= True)"
      ],
      "execution_count": null,
      "outputs": []
    },
    {
      "cell_type": "code",
      "metadata": {
        "colab": {
          "base_uri": "https://localhost:8080/",
          "height": 203
        },
        "id": "wpSOC1k6jFxc",
        "outputId": "7fe41a33-d9e2-4c78-f588-f9fdaf01b572"
      },
      "source": [
        "new1"
      ],
      "execution_count": null,
      "outputs": [
        {
          "output_type": "execute_result",
          "data": {
            "text/html": [
              "<div>\n",
              "<style scoped>\n",
              "    .dataframe tbody tr th:only-of-type {\n",
              "        vertical-align: middle;\n",
              "    }\n",
              "\n",
              "    .dataframe tbody tr th {\n",
              "        vertical-align: top;\n",
              "    }\n",
              "\n",
              "    .dataframe thead th {\n",
              "        text-align: right;\n",
              "    }\n",
              "</style>\n",
              "<table border=\"1\" class=\"dataframe\">\n",
              "  <thead>\n",
              "    <tr style=\"text-align: right;\">\n",
              "      <th></th>\n",
              "      <th>Name</th>\n",
              "      <th>Marks</th>\n",
              "      <th>House</th>\n",
              "      <th>Sport</th>\n",
              "    </tr>\n",
              "  </thead>\n",
              "  <tbody>\n",
              "    <tr>\n",
              "      <th>0</th>\n",
              "      <td>Ram</td>\n",
              "      <td>73.0</td>\n",
              "      <td>Green</td>\n",
              "      <td>Cricket</td>\n",
              "    </tr>\n",
              "    <tr>\n",
              "      <th>1</th>\n",
              "      <td>Lakshman</td>\n",
              "      <td>64.0</td>\n",
              "      <td>Blue</td>\n",
              "      <td>Tennis</td>\n",
              "    </tr>\n",
              "    <tr>\n",
              "      <th>2</th>\n",
              "      <td>Bharat</td>\n",
              "      <td>89.0</td>\n",
              "      <td>Yellow</td>\n",
              "      <td>Badminton</td>\n",
              "    </tr>\n",
              "    <tr>\n",
              "      <th>3</th>\n",
              "      <td>Shatrughna</td>\n",
              "      <td>78.0</td>\n",
              "      <td>Red</td>\n",
              "      <td>Swimming</td>\n",
              "    </tr>\n",
              "    <tr>\n",
              "      <th>4</th>\n",
              "      <td>Hanuman</td>\n",
              "      <td>78.0</td>\n",
              "      <td>Red</td>\n",
              "      <td>Basketball</td>\n",
              "    </tr>\n",
              "  </tbody>\n",
              "</table>\n",
              "</div>"
            ],
            "text/plain": [
              "         Name  Marks   House       Sport\n",
              "0         Ram   73.0   Green     Cricket\n",
              "1    Lakshman   64.0    Blue      Tennis\n",
              "2      Bharat   89.0  Yellow   Badminton\n",
              "3  Shatrughna   78.0     Red    Swimming\n",
              "4     Hanuman   78.0     Red  Basketball"
            ]
          },
          "metadata": {},
          "execution_count": 63
        }
      ]
    },
    {
      "cell_type": "code",
      "metadata": {
        "id": "xUAmyCSejHO8"
      },
      "source": [
        ""
      ],
      "execution_count": null,
      "outputs": []
    }
  ]
}
